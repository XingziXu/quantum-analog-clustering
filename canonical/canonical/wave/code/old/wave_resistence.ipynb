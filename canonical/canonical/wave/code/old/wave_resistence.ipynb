{
 "cells": [
  {
   "cell_type": "code",
<<<<<<< HEAD
   "execution_count": 1,
=======
   "execution_count": 2,
>>>>>>> refs/remotes/origin/main
   "id": "51b635ac-eb6b-4463-8ee0-5b8aa80ccb12",
   "metadata": {
    "tags": []
   },
   "outputs": [
    {
     "data": {
      "text/plain": [
       "'\\nif not (\\n    version.parse(qiskit.__qiskit_version__[\"qiskit-terra\"]) >= version.parse(\"0.22\")\\n):\\n    print(\\n        \"Incorrect dependencies. Found qiskit-terra: \"\\n        + qiskit.__qiskit_version__[\"qiskit-terra\"]\\n        + \"\\nNeed qiskit-terra >= 0.22\"\\n    )\\n\\ntry:\\n    import qiskit_ibm_provider\\nexcept ModuleNotFoundError:\\n    print(\\n        \"You must install the qiskit_ibm_provider with \\'pip install qiskit_ibm_provider\\'\"\\n    )\\n    raise\\n'"
      ]
     },
<<<<<<< HEAD
     "execution_count": 1,
=======
     "execution_count": 2,
>>>>>>> refs/remotes/origin/main
     "metadata": {},
     "output_type": "execute_result"
    }
   ],
   "source": [
<<<<<<< HEAD
    "### dataset is https://networkrepository.com/inf-USAir97.php\n",
    "\n",
    "    \n",
=======
>>>>>>> refs/remotes/origin/main
    "# Running checks for the correct dependencies\n",
    "import qiskit\n",
    "from packaging import version\n",
    "\"\"\"\n",
    "if not (\n",
    "    version.parse(qiskit.__qiskit_version__[\"qiskit-terra\"]) >= version.parse(\"0.22\")\n",
    "):\n",
    "    print(\n",
    "        \"Incorrect dependencies. Found qiskit-terra: \"\n",
    "        + qiskit.__qiskit_version__[\"qiskit-terra\"]\n",
    "        + \"\\nNeed qiskit-terra >= 0.22\"\n",
    "    )\n",
    "\n",
    "try:\n",
    "    import qiskit_ibm_provider\n",
    "except ModuleNotFoundError:\n",
    "    print(\n",
    "        \"You must install the qiskit_ibm_provider with 'pip install qiskit_ibm_provider'\"\n",
    "    )\n",
    "    raise\n",
    "\"\"\""
   ]
  },
  {
   "cell_type": "code",
<<<<<<< HEAD
   "execution_count": 2,
=======
   "execution_count": 1,
>>>>>>> refs/remotes/origin/main
   "id": "323a2080-daeb-44de-a66c-5c47e10b361f",
   "metadata": {
    "tags": []
   },
   "outputs": [],
   "source": [
    "from qiskit_dynamics.solvers import Solver\n",
    "import numpy as np\n",
    "import pandas as pd\n",
    "import scipy.io\n",
    "import scipy as sp\n",
    "import matplotlib.pyplot as plt\n",
    "import math\n",
    "import numpy.linalg as la\n",
    "import qiskit_dynamics\n",
    "from scipy.optimize import leastsq\n",
    "import networkx as nx\n",
    "import pandas as pd"
   ]
  },
  {
   "cell_type": "code",
   "execution_count": 3,
   "id": "466a6f03-5136-4533-88ab-3eb2b4a61d5e",
   "metadata": {
    "tags": []
   },
   "outputs": [],
   "source": [
<<<<<<< HEAD
=======
    "def loadGame(game, N):\n",
    "\t# N is the number of players in the game\n",
    "\t# load csv data\n",
    "\t# unweighted and weighted networks can be loaded exactly the same way\n",
    "\t# below shows the loader for weighted networks\n",
    "\tdf_network = pd.read_csv(f'/Users/xingzixu/clustering/canonical/wave/code/network_list.csv', index_col = 0)\n",
    "\n",
    "\t# T is number of timestamps (10 frames)\n",
    "\tT = len(df_network)\n",
    "\t# load VFOA network to T x N x (N+1) array\n",
    "\t# vfoa[t, n, i] is the probability of player n+1 looking at object i at time t\n",
    "\t# i: 0 - laptop, 1 - player 1, 2 - player 2, ..., N - player N\n",
    "\tvfoa = np.reshape(df_network.values, (T,N,N+1))\n",
    "\n",
    "\t# print information\n",
    "\tprint(f'network id:{game}\\t length(x 1/3 second): {T}\\t num of players: {N}')\n",
    "\treturn vfoa\n",
    "\n",
    "\n",
    "\n",
>>>>>>> refs/remotes/origin/main
    "def power_iteration(A, num_iterations: int):\n",
    "    # Ideally choose a random vector\n",
    "    # To decrease the chance that our vector\n",
    "    # Is orthogonal to the eigenvector\n",
    "    b_k = np.random.rand(A.shape[1])\n",
    "    for _ in range(num_iterations):\n",
    "        # calculate the matrix-by-vector product Ab\n",
    "        b_k1 = np.dot(A, b_k)\n",
    "        # calculate the norm\n",
    "        b_k1_norm = np.linalg.norm(b_k1)\n",
    "        # re normalize the vector\n",
    "        b_k = b_k1 / b_k1_norm\n",
    "    return b_k\n",
    "\n",
    "def svd_power(X, num_itr):\n",
    "    A = X.T @ X\n",
    "    N = A.shape[0]\n",
    "    mu = np.zeros(N)\n",
    "    V = np.zeros_like(A)\n",
    "    \n",
    "    for i in range(0, N):\n",
    "        bk = power_iteration(A, num_itr)\n",
    "        bk = bk.reshape(bk.shape[0],1)\n",
    "        muk = ((bk.T @ A @ bk) / (bk.T @ bk)).squeeze()\n",
    "        mu[i] = muk\n",
    "        #print(muk)\n",
    "        tempA = A-muk*np.eye(N)\n",
    "        #print(tempA)\n",
    "        b = tempA[:, 0].copy()\n",
    "        vk = np.linalg.lstsq(tempA[:, 1:], -b)[0]\n",
    "        vk = np.r_[1, vk]\n",
    "        #print(vk)\n",
    "        vk /= np.linalg.norm(vk)\n",
    "        V[:,i] = vk\n",
    "        vk = vk.reshape(N,1)\n",
    "        A = A - vk @ vk.T @ A @ vk @ vk.T\n",
    "    return mu, V.T\n",
    "\n",
    "def dmd(X, Y, mode='exact', svThresh=1.e-10, which=\"LM\"):\n",
    "    '''\n",
    "    Exact and standard DMD of the data matrices X and Y.\n",
    "\n",
    "    :param mode: 'exact' for exact DMD or 'standard' for standard DMD\n",
    "    :return:     eigenvalues d and modes Phi\n",
    "    '''\n",
    "    \n",
    "    s, Vt = svd_power(X=X, num_itr=500) # the cols of V are the corresponding eigenvectors, since XTX=XXT, we havce V=U.T\n",
    "    \n",
    "    s[s<0] = 0\n",
    "    s = np.sqrt(s)\n",
    "    #U = Vt.T\n",
    "    \n",
    "    #U, s, Vt = sp.linalg.svd(X, full_matrices=False)\n",
    "    #mask_U = np.random.random(U.shape[0]) >= 0.5\n",
    "    #mask_V = np.random.random(U.shape[0]) >= 0.5\n",
    "    #U[:,mask_U] = U[:,mask_U] * (-1)\n",
    "    #Vt[mask_V,:] = Vt[mask_V,:] * (-1)\n",
    "    #Vt = U.T\n",
    "    \n",
    "    # remove zeros from s\n",
    "    s = s[s > svThresh]\n",
    "    r = len(s)\n",
    "    #U = U[:, :r]\n",
    "    Vt = Vt[:r, :]\n",
    "    U = X @ la.pinv(Vt) @ np.diag(1/s)\n",
    "    S_inv = np.diag(1/s)\n",
    "    A = U.T @ Y @ Vt.T @ S_inv\n",
    "    # d, W = sortEig(A, A.shape[0])\n",
    "    # d, W = sortEig(A, r)\n",
    "    n = A.shape[0]\n",
    "    if r < n:\n",
    "        d, W = sp.sparse.linalg.eigs(A, r, which=which)\n",
    "    else:\n",
    "        d, V = sp.linalg.eig(A)\n",
    "        ind = d.argsort()[::-1]\n",
    "        d = d[ind]\n",
    "        W = V[:, ind]\n",
    "\n",
    "    if mode == 'exact':\n",
    "        Phi = Y @ Vt.T @ S_inv @ W @ np.diag(1/d)\n",
    "    elif mode == 'standard':\n",
    "        Phi = U @ W\n",
    "    elif mode == 'eigenvector':\n",
    "        Phi = W\n",
    "    else:\n",
    "        raise ValueError('Only exact and standard DMD available.')\n",
    "\n",
    "    return d, Phi\n",
    "\n",
    "def degree_vector(AdjM):\n",
    "    D = np.sum(AdjM, axis=1)\n",
    "    return D\n",
    "\n",
    "def graph_laplacian_eigs_sym(AdjM, N, evs):\n",
    "    D_nsqrt = np.diag(np.power(degree_vector(AdjM), -0.5))\n",
    "    L = np.eye(N) - D_nsqrt @ AdjM @ D_nsqrt\n",
    "    #L = -L\n",
    "    # eigen system of static graph\n",
    "    I = np.eye(N=N)\n",
    "    # assemble M = [I * 2 + 2*L, -I; I, 0*I]\n",
    "    M = np.concatenate((np.concatenate((I * 2 + 2 * L, -I), axis=1), np.concatenate((I, 0 * I), axis=1)), axis=0)\n",
    "    (d_M, V_M) = sp.sparse.linalg.eigs(M, M.shape[0], which=\"LM\")\n",
    "    (d_L, V_L) = sp.sparse.linalg.eigs(L, evs, which=\"SM\")\n",
    "    # print(d_L)\n",
    "    return L, d_M, V_M, d_L, V_L\n",
    "\n",
    "def graph_laplacian_eigs(AdjM, N, evs):\n",
    "    D = degree_vector(AdjM)\n",
    "    L = np.eye(N) - np.diag(1/D) @ AdjM\n",
    "    L = -L\n",
    "    #L = np.zeros((N, N))\n",
    "    #for ii in range(N):\n",
    "    #    L[ii, :] = AdjM[ii, :]/np.sum(AdjM[ii, :])\n",
    "    #    L[ii, ii] = -1\n",
    "\n",
    "    #print(L-L1)\n",
    "    # eigen system of static graph\n",
    "    I = np.eye(N=N)\n",
    "    # assemble M = [I * 2 + 2*L, -I; I, 0*I]\n",
    "    M = np.concatenate((np.concatenate((I * 2 + 2 * L, -I), axis=1), np.concatenate((I, 0 * I), axis=1)), axis=0)\n",
    "    (d_M, V_M) = sp.sparse.linalg.eigs(M, M.shape[0], which=\"LM\")\n",
    "    (d_L, V_L) = sp.sparse.linalg.eigs(L, evs, which=\"SM\")\n",
    "    # print(d_L)\n",
    "    return L, d_M, V_M, d_L, V_L\n",
    "\n",
    "def generate_time_sequece(L, N, T, v=0):\n",
    "    # initialize time series\n",
    "    u = np.zeros((N, T + 1))\n",
    "    # initialize u(0) and set u(1)=u(0)\n",
    "    for ii in range(N):\n",
    "        u[ii, 0] = np.random.rand(1, 1)\n",
    "        u[ii, 1] = u[ii, 0] + v * np.random.rand(1, 1)\n",
    "    # df_u = pd.DataFrame(u[:, 0], columns=[\"u\"])\n",
    "    # df_u.to_csv(\"u_init.csv\", index=False)\n",
    "    c = np.sqrt(1.) - 1.e-6\n",
    "\n",
    "    # generate time sequence for each node\n",
    "    for tt in range(1, T):\n",
    "        # for kk in range(N):\n",
    "        #     tmp = 0\n",
    "        #     for ll in range(N):\n",
    "        #         if L[kk, ll]:\n",
    "        #             tmp += L[kk, ll] * u[ll, tt]\n",
    "        #     u[kk, tt+1] = 2.*u[kk, tt] - u[kk, tt-1] + c**2*tmp\n",
    "        u[:, tt + 1] = 2. * u[:, tt] - u[:, tt - 1] + c ** 2 * L @ u[:, tt]\n",
    "    return u\n",
    "\n",
    "def wave_dyn(T, N, solver, B):\n",
    "    #Nrows = N\n",
    "    #Ncols = N+1\n",
    "    #T = Nrows + Ncols\n",
    "\n",
    "    # Neumann initial condition\n",
    "    u0 = np.concatenate((np.random.rand(B.shape[0]),np.zeros(B.shape[1])))\n",
    "    ut = np.zeros((N, T),dtype=np.complex_)\n",
    "    ut[:,0] = u0[:N]\n",
    "\n",
    "    for i in range(1, T):\n",
    "        t_span = np.array([0., i])\n",
    "        ut[:,i] = solver.solve(t_span=t_span, y0=u0).y[-1,:N]\n",
    "    return ut\n",
    "\n",
    "def graph_clustering_static(u, d_L, v_inds, Nrows, case, base, node_num=[0]):\n",
    "    n_inds = len(v_inds)\n",
    "    (N, T) = u.shape\n",
    "    Ncols = T + 1 - Nrows\n",
    "    dominant_freqs = np.zeros((N, n_inds))\n",
    "\n",
    "    # generate input matrices\n",
    "    XX = np.zeros((Nrows, Ncols))\n",
    "\n",
    "    dmdcoeff = np.zeros((N, n_inds))\n",
    "    for i in range(N):\n",
    "        # DMD\n",
    "        for jj in range(Nrows):\n",
    "            XX[jj, :] = u[i, jj:jj + Ncols]\n",
    "\n",
    "        X = XX[:, :-1]\n",
    "        Y = XX[:, 1:]\n",
    "        (d, V) = dmd(X, Y, svThresh=1.e-3)\n",
    "        freq = np.angle(d[:5])\n",
    "        # print(f\"Node {i} DMD Freq: {freq}\")\n",
    "\n",
    "        if i in node_num:\n",
    "            # printVector(d.real, f'Node{i + 1}_d_{case}')\n",
    "            eigenvalues = np.append(np.reshape(d.real, (1, -1)), np.reshape(d.imag, (1, -1)), axis=0)\n",
    "            df_real = pd.DataFrame(eigenvalues, index=[\"real\", \"imag\"])\n",
    "            df_real.to_csv(f\"/Users/xingzixu/clustering/canonical/wave/result/output_{base}/eigenvalues_{case}.csv\")\n",
    "\n",
    "            # plot eigen modes\n",
    "            plt.figure()\n",
    "            plt.plot(np.real(V[:, 0]), '-o')\n",
    "            plt.plot(np.real(V[:, 1]), '-s')\n",
    "            plt.plot(np.real(V[:, 2]), 'v-.')\n",
    "            plt.plot(np.real(V[:, 3]), '^:')\n",
    "            plt.plot(np.real(V[:, 4]), '*--')\n",
    "            plt.xlabel(\"k\")\n",
    "            plt.tight_layout()\n",
    "            plt.savefig(f\"/Users/xingzixu/clustering/canonical/wave/figure/plots_{base}/modes_real_{case}_node{i + 1}.png\")\n",
    "            plt.close()\n",
    "\n",
    "            plt.figure()\n",
    "            plt.plot(np.imag(V[:, 0]), '-o')\n",
    "            plt.plot(np.imag(V[:, 1]), '-s')\n",
    "            plt.plot(np.imag(V[:, 2]), 'v-.')\n",
    "            plt.plot(np.imag(V[:, 3]), '^:')\n",
    "            plt.plot(np.imag(V[:, 4]), '*--')\n",
    "            plt.xlabel(\"k\")\n",
    "            plt.tight_layout()\n",
    "            plt.savefig(f\"/Users/xingzixu/clustering/canonical/wave/figure/plots_{base}/modes_imag_{case}_node{i + 1}.png\")\n",
    "            plt.close()\n",
    "\n",
    "            # plot eigenvalues\n",
    "            plt.figure()\n",
    "            plt.plot(np.real(d_L), np.imag(d_L), 's', alpha=0.8, label='exact')\n",
    "            plt.plot(np.real(d), np.imag(d), 'o', alpha=0.8, label='DMD')\n",
    "            plt.xlabel('Real')\n",
    "            plt.ylabel('Imag')\n",
    "            plt.legend()\n",
    "            plt.xlim([-1.2, 1.2])\n",
    "            plt.ylim([-1.2, 1.2])\n",
    "            plt.axis('equal')\n",
    "            plt.tight_layout()\n",
    "            plt.savefig(f\"/Users/xingzixu/clustering/canonical/wave/figure/plots_{base}/eigenvalues_{case}_node{i + 1}.png\")\n",
    "            plt.close()\n",
    "\n",
    "        # compute coefficients proportional to kth Laplacian eigenvector\n",
    "        for k_ind, v_ind in enumerate(v_inds):\n",
    "            # v_ind2 = v_ind * 2 - 1\n",
    "            v_ind0 = np.where(np.angle(d) > 1.e-6)[0]\n",
    "            v_ind1 = np.argmin(np.angle(d[v_ind0]))\n",
    "            v_ind2 = v_ind0[v_ind1]\n",
    "            dmdcoeff[i, k_ind] = np.real(sp.linalg.lstsq(V, X[:, 0])[0][v_ind2] * V[0, v_ind2])\n",
    "            dominant_freqs[i, k_ind] = np.angle(d[v_ind2])\n",
    "\n",
    "    return dmdcoeff, dominant_freqs"
   ]
  },
  {
   "cell_type": "code",
   "execution_count": 4,
<<<<<<< HEAD
   "id": "fe0d7b50",
   "metadata": {},
   "outputs": [],
   "source": [
    "# load graph data\n",
    "AdjM = scipy.io.mmread(f\"/Users/xingzixu/clustering/canonical/wave/code/inf-USAir97.mtx\")\n",
    "AdjM = AdjM.toarray()\n",
    "AdjM = (AdjM > 0).astype(int)\n",
    "N = AdjM.shape[0]\n",
    "L0 = np.zeros((N, N))\n",
    "\n",
    "# Adjacent matrix and Laplacian for static graph\n",
    "G = nx.Graph()\n",
    "G = nx.from_numpy_matrix(AdjM)\n"
   ]
  },
  {
   "cell_type": "code",
   "execution_count": 5,
   "id": "43310918",
   "metadata": {},
   "outputs": [],
   "source": [
    "all_edges = np.asarray([e for e in G.edges])\n",
    "# Incidence matrix and Laplacian for static graph\n",
    "\n",
    "IncMt = np.zeros((N, all_edges.shape[0]))\n",
    "# AdjMt = np.zeros((N, N))\n",
    "for ii in range(0, all_edges.shape[0]):\n",
    "    edge_now = all_edges[ii,:]\n",
    "    IncMt[edge_now[0]-1,ii] = -1\n",
    "    IncMt[edge_now[1]-1,ii] = 1\n",
    "#IncMt = np.concatenate((IncMt, 2.j * np.diag(np.sqrt(degree_vector(AdjM)))), axis=1)\n",
    "#IncMt = np.concatenate((IncMt, np.eye(N)), axis=1)"
   ]
  },
  {
   "cell_type": "code",
   "execution_count": 6,
=======
>>>>>>> refs/remotes/origin/main
   "id": "0e6aa1ae-5fd8-48bd-96b2-27024e3f5046",
   "metadata": {
    "tags": []
   },
   "outputs": [
    {
     "name": "stdout",
     "output_type": "stream",
     "text": [
<<<<<<< HEAD
      "DMD_resistence_T664_rows332\n"
=======
      "DMD_resistence_T49_rows25\n"
>>>>>>> refs/remotes/origin/main
     ]
    }
   ],
   "source": [
    "np.random.seed(1234)\n",
    "plt.rcParams.update({\"font.size\": 28, \"lines.linewidth\": 3})\n",
    "\n",
    "evs = 3\n",
    "v_inds = range(1, evs)\n",
<<<<<<< HEAD
    "T = 2 * N\n",
    "Nrows = N\n",
=======
    "T = 49\n",
    "Nrows = 25\n",
>>>>>>> refs/remotes/origin/main
    "base = \"karate\"\n",
    "case = f\"DMD_resistence_T{T}_rows{Nrows}\"\n",
    "print(case)\n",
    "\n"
   ]
  },
  {
   "cell_type": "code",
<<<<<<< HEAD
   "execution_count": 7,
=======
   "execution_count": 26,
   "id": "1dab7b43-0bf6-4570-bf80-bf92f60a66df",
   "metadata": {
    "tags": []
   },
   "outputs": [
    {
     "data": {
      "text/plain": [
       "'# what was used in the code is really -L_rw\\nL = np.zeros((N, N))\\nfor ii in range(N):\\n    L[ii, :] = AdjM[ii, :]/np.sum(AdjM[ii, :])\\n    L[ii, ii] = -1\\n\\nL1 = np.zeros((N, N))\\nD = np.sum(AdjM, axis=1)\\nL1 = np.eye(N) - np.diag(1/D) @ AdjM\\n#D_nsqrt = np.diag(np.power(degree_vector(AdjM), -0.5))\\n#L = D_nsqrt @ AdjM\\n#L = L @ D_nsqrt\\n#print(D)\\n#print(L)\\nprint(np.sum(abs(L1+L)))'"
      ]
     },
     "execution_count": 26,
     "metadata": {},
     "output_type": "execute_result"
    }
   ],
   "source": [
    "\"\"\"# what was used in the code is really -L_rw\n",
    "L = np.zeros((N, N))\n",
    "for ii in range(N):\n",
    "    L[ii, :] = AdjM[ii, :]/np.sum(AdjM[ii, :])\n",
    "    L[ii, ii] = -1\n",
    "\n",
    "L1 = np.zeros((N, N))\n",
    "D = np.sum(AdjM, axis=1)\n",
    "L1 = np.eye(N) - np.diag(1/D) @ AdjM\n",
    "#D_nsqrt = np.diag(np.power(degree_vector(AdjM), -0.5))\n",
    "#L = D_nsqrt @ AdjM\n",
    "#L = L @ D_nsqrt\n",
    "#print(D)\n",
    "#print(L)\n",
    "print(np.sum(abs(L1+L)))\"\"\""
   ]
  },
  {
   "cell_type": "code",
   "execution_count": 6,
   "id": "1b819109",
   "metadata": {},
   "outputs": [],
   "source": [
    "src = './network' # root dir of data\n",
    "meta = pd.read_csv('network_list.csv')\n",
    "\n",
    "#for _, row in meta.iterrows():\n",
    "#\tloadGame(row['NETWORK'], row['NUMBER_OF_PARTICIPANTS'])"
   ]
  },
  {
   "cell_type": "code",
   "execution_count": 7,
   "id": "143ebe26",
   "metadata": {},
   "outputs": [
    {
     "data": {
      "text/html": [
       "<div>\n",
       "<style scoped>\n",
       "    .dataframe tbody tr th:only-of-type {\n",
       "        vertical-align: middle;\n",
       "    }\n",
       "\n",
       "    .dataframe tbody tr th {\n",
       "        vertical-align: top;\n",
       "    }\n",
       "\n",
       "    .dataframe thead th {\n",
       "        text-align: right;\n",
       "    }\n",
       "</style>\n",
       "<table border=\"1\" class=\"dataframe\">\n",
       "  <thead>\n",
       "    <tr style=\"text-align: right;\">\n",
       "      <th></th>\n",
       "      <th>NETWORK</th>\n",
       "      <th>NUMBER_OF_PARTICIPANTS</th>\n",
       "    </tr>\n",
       "  </thead>\n",
       "  <tbody>\n",
       "    <tr>\n",
       "      <th>0</th>\n",
       "      <td>0</td>\n",
       "      <td>7</td>\n",
       "    </tr>\n",
       "    <tr>\n",
       "      <th>1</th>\n",
       "      <td>1</td>\n",
       "      <td>8</td>\n",
       "    </tr>\n",
       "    <tr>\n",
       "      <th>2</th>\n",
       "      <td>2</td>\n",
       "      <td>7</td>\n",
       "    </tr>\n",
       "    <tr>\n",
       "      <th>3</th>\n",
       "      <td>3</td>\n",
       "      <td>7</td>\n",
       "    </tr>\n",
       "    <tr>\n",
       "      <th>4</th>\n",
       "      <td>4</td>\n",
       "      <td>8</td>\n",
       "    </tr>\n",
       "    <tr>\n",
       "      <th>...</th>\n",
       "      <td>...</td>\n",
       "      <td>...</td>\n",
       "    </tr>\n",
       "    <tr>\n",
       "      <th>57</th>\n",
       "      <td>57</td>\n",
       "      <td>8</td>\n",
       "    </tr>\n",
       "    <tr>\n",
       "      <th>58</th>\n",
       "      <td>58</td>\n",
       "      <td>8</td>\n",
       "    </tr>\n",
       "    <tr>\n",
       "      <th>59</th>\n",
       "      <td>59</td>\n",
       "      <td>7</td>\n",
       "    </tr>\n",
       "    <tr>\n",
       "      <th>60</th>\n",
       "      <td>60</td>\n",
       "      <td>7</td>\n",
       "    </tr>\n",
       "    <tr>\n",
       "      <th>61</th>\n",
       "      <td>61</td>\n",
       "      <td>8</td>\n",
       "    </tr>\n",
       "  </tbody>\n",
       "</table>\n",
       "<p>62 rows × 2 columns</p>\n",
       "</div>"
      ],
      "text/plain": [
       "    NETWORK  NUMBER_OF_PARTICIPANTS\n",
       "0         0                       7\n",
       "1         1                       8\n",
       "2         2                       7\n",
       "3         3                       7\n",
       "4         4                       8\n",
       "..      ...                     ...\n",
       "57       57                       8\n",
       "58       58                       8\n",
       "59       59                       7\n",
       "60       60                       7\n",
       "61       61                       8\n",
       "\n",
       "[62 rows x 2 columns]"
      ]
     },
     "execution_count": 7,
     "metadata": {},
     "output_type": "execute_result"
    }
   ],
   "source": [
    "meta"
   ]
  },
  {
   "cell_type": "code",
   "execution_count": 27,
   "id": "f238409b-9be3-4f2d-8a02-7f9ad5efb82b",
   "metadata": {
    "tags": []
   },
   "outputs": [],
   "source": [
    "# load graph data\n",
    "data = scipy.io.loadmat('/Users/xingzixu/clustering/canonical/schr/data/karate.mat', squeeze_me=True)\n",
    "for s in data.keys():\n",
    "    if s[:2] == '__' and s[-2:] == '__': continue\n",
    "    exec('%s = data[\"%s\"]' % (s, s))\n",
    "# Adjacent matrix and Laplacian for static graph\n",
    "N = np.max(A[:, :2])\n",
    "AdjMt0 = np.zeros((N, N))\n",
    "# AdjMt = np.zeros((N, N))\n",
    "L0 = np.zeros((N, N))\n",
    "for ii in range(A.shape[0]):\n",
    "    AdjMt0[A[ii, 0] - 1][A[ii, 1] - 1] = 1\n",
    "AdjM = (AdjMt0 + AdjMt0.T) / 2.\n",
    "N = np.max(A[:, :2])\n"
   ]
  },
  {
   "cell_type": "code",
   "execution_count": 29,
   "id": "05167cf7-7c45-4081-89ad-7b1e48f18abe",
   "metadata": {
    "tags": []
   },
   "outputs": [],
   "source": [
    "# Incidence matrix and Laplacian for static graph\n",
    "\n",
    "IncMt = np.zeros((N, A.shape[0]))\n",
    "# AdjMt = np.zeros((N, N))\n",
    "for ii in range(0, A.shape[0]):\n",
    "    edge = A[ii,:]\n",
    "    IncMt[edge[0]-1,ii] = -1\n",
    "    IncMt[edge[1]-1,ii] = 1\n",
    "#IncMt = np.concatenate((IncMt, 2.j * np.diag(np.sqrt(degree_vector(AdjM)))), axis=1)\n",
    "#IncMt = np.concatenate((IncMt, np.eye(N)), axis=1)"
   ]
  },
  {
   "cell_type": "code",
   "execution_count": 8,
   "id": "442f3533-ce3b-4c11-a190-18a5cc87db60",
   "metadata": {
    "tags": []
   },
   "outputs": [
    {
     "data": {
      "text/plain": [
       "'L_un_inc = IncMt @ IncMt.conj().T\\nL_un = np.diag(degree_vector(AdjM)) - AdjM\\nprint(L_un)\\nprint(0.5 * L_un_inc)'"
      ]
     },
     "execution_count": 8,
     "metadata": {},
     "output_type": "execute_result"
    }
   ],
   "source": [
    "\"\"\"L_un_inc = IncMt @ IncMt.conj().T\n",
    "L_un = np.diag(degree_vector(AdjM)) - AdjM\n",
    "print(L_un)\n",
    "print(0.5 * L_un_inc)\"\"\""
   ]
  },
  {
   "cell_type": "code",
   "execution_count": 9,
   "id": "aa53efa0-99d4-4714-931b-3bdfbed0b55f",
   "metadata": {
    "tags": []
   },
   "outputs": [
    {
     "data": {
      "text/plain": [
       "'D = np.diag(degree_vector(AdjM))\\nD_nsqrt = np.diag(np.power(degree_vector(AdjM), -0.5))\\nB = D_nsqrt @ IncMt\\nL_un_inc = IncMt @ IncMt.conj().T\\nL_un = np.diag(degree_vector(AdjM)) - AdjM\\nL_sym = D_nsqrt @ L_un @ D_nsqrt\\nL_sym_inc = B @ B.T\\nprint(B)\\nprint(0.5 * L_sym_inc)'"
      ]
     },
     "execution_count": 9,
     "metadata": {},
     "output_type": "execute_result"
    }
   ],
   "source": [
    "\"\"\"D = np.diag(degree_vector(AdjM))\n",
    "D_nsqrt = np.diag(np.power(degree_vector(AdjM), -0.5))\n",
    "B = D_nsqrt @ IncMt\n",
    "L_un_inc = IncMt @ IncMt.conj().T\n",
    "L_un = np.diag(degree_vector(AdjM)) - AdjM\n",
    "L_sym = D_nsqrt @ L_un @ D_nsqrt\n",
    "L_sym_inc = B @ B.T\n",
    "print(B)\n",
    "print(0.5 * L_sym_inc)\"\"\""
   ]
  },
  {
   "cell_type": "code",
   "execution_count": 10,
   "id": "1f041ccc-8d53-41bb-8275-7168458e005e",
   "metadata": {
    "tags": []
   },
   "outputs": [
    {
     "data": {
      "text/plain": [
       "'L, d_M, V_M, d_L, V_L = graph_laplacian_eigs_sym(AdjM=AdjM, N=N, evs=evs)\\nD_nsqrt = np.diag(np.power(degree_vector(AdjM), -0.5))\\nB = D_nsqrt @ IncMt / np.sqrt(2.)\\nL1 = B @ B.conj().T'"
      ]
     },
     "execution_count": 10,
     "metadata": {},
     "output_type": "execute_result"
    }
   ],
   "source": [
    "\"\"\"L, d_M, V_M, d_L, V_L = graph_laplacian_eigs_sym(AdjM=AdjM, N=N, evs=evs)\n",
    "D_nsqrt = np.diag(np.power(degree_vector(AdjM), -0.5))\n",
    "B = D_nsqrt @ IncMt / np.sqrt(2.)\n",
    "L1 = B @ B.conj().T\"\"\""
   ]
  },
  {
   "cell_type": "code",
   "execution_count": 11,
   "id": "bcdc9a3d-b351-482a-9487-feb9c2539924",
   "metadata": {
    "tags": []
   },
   "outputs": [
    {
     "data": {
      "text/plain": [
       "'print(L)\\nprint(L1)'"
      ]
     },
     "execution_count": 11,
     "metadata": {},
     "output_type": "execute_result"
    }
   ],
   "source": [
    "\"\"\"print(L)\n",
    "print(L1)\"\"\""
   ]
  },
  {
   "cell_type": "code",
   "execution_count": 8,
>>>>>>> refs/remotes/origin/main
   "id": "f7df0357-8704-4c37-9883-37d6cabeeb8c",
   "metadata": {
    "tags": []
   },
   "outputs": [],
   "source": [
    "#L, d_M, V_M, d_L, V_L = graph_laplacian_eigs(AdjM=AdjM, N=N, evs=evs)\n",
    "#L_sym, d_M_sym, V_M_sym, d_L_sym, V_L_sym = graph_laplacian_eigs_sym(AdjM=AdjM, N=N, evs=evs)\n",
    "#L, d_M, V_M, d_L, V_L = graph_laplacian_eigs_sym(AdjM=AdjM, N=N, evs=evs)\n",
    "#D_nsqrt = np.diag(np.power(degree_vector(AdjM), -0.5))\n",
    "#L = D_nsqrt @ IncMt @ IncMt.T @ D_nsqrt\n",
    "\n",
    "# calculate the B matrix\n",
    "D_nsqrt = np.diag(np.power(degree_vector(AdjM), -0.5))\n",
    "B = D_nsqrt @ IncMt / np.sqrt(2.)\n",
    "\n",
    "# calculate ground truth eigen value and eigen vector\n",
    "L_B = B @ B.T\n",
    "d_L_B, V_L_B = la.eig(L_B)\n",
    "\n",
    "# define propagation speed\n",
    "c = np.sqrt(2.) - 1.e-6\n",
    "\n",
    "# form static Hamiltonian matrix\n",
    "H_static = c * np.concatenate((np.concatenate((np.zeros((B.shape[0],B.shape[0])), B),axis=1),np.concatenate((B.conj().T, np.zeros((B.shape[1],B.shape[1]))),axis=1)), axis=0)\n",
    "\n",
    "hamiltonian = qiskit_dynamics.models.HamiltonianModel(static_operator=H_static)\n",
    "\n",
    "# define Schrodinger equation\n",
    "solver = Solver(static_hamiltonian = H_static, validate = True)"
   ]
  },
  {
   "cell_type": "code",
<<<<<<< HEAD
   "execution_count": 8,
=======
   "execution_count": 9,
>>>>>>> refs/remotes/origin/main
   "id": "a748fa0b-163b-49b1-b3db-0b91c576d4d0",
   "metadata": {
    "tags": []
   },
   "outputs": [
    {
     "name": "stderr",
     "output_type": "stream",
     "text": [
<<<<<<< HEAD
      "/var/folders/8v/z8r5x7y96zg82dknc14c73y40000gn/T/ipykernel_12547/366676895.py:8: ComplexWarning: Casting complex values to real discards the imaginary part\n",
      "  u_B[:,i] = solver.solve(t_span=t_span, y0=u_B_0).y[-1,:N]\n"
     ]
=======
      "/var/folders/8v/z8r5x7y96zg82dknc14c73y40000gn/T/ipykernel_1891/366676895.py:8: ComplexWarning: Casting complex values to real discards the imaginary part\n",
      "  u_B[:,i] = solver.solve(t_span=t_span, y0=u_B_0).y[-1,:N]\n"
     ]
    },
    {
     "data": {
      "text/plain": [
       "'\\n# initialize time series\\nu = np.zeros((N, T + 1))\\n# initialize u(0) and set u(1)=u(0)\\n#for ii in range(N):\\n#    u[ii, 0] = np.random.rand(1, 1)\\n#    u[ii, 1] = u[ii, 0] + v * np.random.rand(1, 1)\\n# df_u = pd.DataFrame(u[:, 0], columns=[\"u\"])\\n# df_u.to_csv(\"u_init.csv\", index=False)\\nu[:,0] = initial\\nu[:,1] = initial\\nc = np.sqrt(2.) - 1.e-6\\n\\n# generate time sequence for each node\\nfor tt in range(1, T):\\n    # for kk in range(N):\\n    #     tmp = 0\\n    #     for ll in range(N):\\n    #         if L[kk, ll]:\\n    #             tmp += L[kk, ll] * u[ll, tt]\\n    #     u[kk, tt+1] = 2.*u[kk, tt] - u[kk, tt-1] + c**2*tmp\\n    u[:, tt + 1] = 2. * u[:, tt] - u[:, tt - 1] + c ** 2 * ( L_B) @ u[:, tt]'"
      ]
     },
     "execution_count": 9,
     "metadata": {},
     "output_type": "execute_result"
>>>>>>> refs/remotes/origin/main
    }
   ],
   "source": [
    "initial = np.random.rand(B.shape[0])\n",
    "u_B_0 = np.concatenate((initial,np.zeros(B.shape[1])))\n",
    "u_B = np.zeros((N, T+1))\n",
    "u_B[:,0] = u_B_0[:N]\n",
    "\n",
    "for i in range(1, T+1):\n",
    "    t_span = np.array([0., i])\n",
    "    u_B[:,i] = solver.solve(t_span=t_span, y0=u_B_0).y[-1,:N]\n",
    "    \n",
    "\"\"\"\n",
    "# initialize time series\n",
    "u = np.zeros((N, T + 1))\n",
    "# initialize u(0) and set u(1)=u(0)\n",
    "#for ii in range(N):\n",
    "#    u[ii, 0] = np.random.rand(1, 1)\n",
    "#    u[ii, 1] = u[ii, 0] + v * np.random.rand(1, 1)\n",
    "# df_u = pd.DataFrame(u[:, 0], columns=[\"u\"])\n",
    "# df_u.to_csv(\"u_init.csv\", index=False)\n",
    "u[:,0] = initial\n",
    "u[:,1] = initial\n",
    "c = np.sqrt(2.) - 1.e-6\n",
    "\n",
    "# generate time sequence for each node\n",
    "for tt in range(1, T):\n",
    "    # for kk in range(N):\n",
    "    #     tmp = 0\n",
    "    #     for ll in range(N):\n",
    "    #         if L[kk, ll]:\n",
    "    #             tmp += L[kk, ll] * u[ll, tt]\n",
    "    #     u[kk, tt+1] = 2.*u[kk, tt] - u[kk, tt-1] + c**2*tmp\n",
    "    u[:, tt + 1] = 2. * u[:, tt] - u[:, tt - 1] + c ** 2 * ( L_B) @ u[:, tt]\"\"\""
   ]
  },
  {
   "cell_type": "code",
<<<<<<< HEAD
   "execution_count": null,
   "id": "c2a500ff",
   "metadata": {},
   "outputs": [],
   "source": [
    "with open('/Users/xingzixu/clustering/canonical/wave/result/usa.npy', 'wb') as f:\n",
    "    np.save(f, u_B)"
   ]
  },
  {
   "cell_type": "code",
   "execution_count": null,
   "id": "c6fd2ade",
   "metadata": {},
   "outputs": [
    {
     "name": "stdout",
     "output_type": "stream",
     "text": [
      "[[0.19151945 0.36785936 0.62453984 ... 0.         0.         0.        ]\n",
      " [0.62210877 0.58475018 0.52221327 ... 0.         0.         0.        ]\n",
      " [0.43772774 0.45354752 0.13915776 ... 0.         0.         0.        ]\n",
      " ...\n",
      " [0.05899458 0.12899936 0.29629457 ... 0.         0.         0.        ]\n",
      " [0.05197123 0.06610922 0.16075328 ... 0.         0.         0.        ]\n",
      " [0.51598609 0.1849506  0.03342106 ... 0.         0.         0.        ]]\n"
     ]
    }
   ],
   "source": [
    "#X = np.load('/Users/xingzixu/clustering/canonical/wave/result/usa.npy')\n",
    "#print(X)"
   ]
  },
  {
   "cell_type": "code",
   "execution_count": null,
=======
   "execution_count": 14,
>>>>>>> refs/remotes/origin/main
   "id": "b2d33071-b336-4fa7-ac58-e768b26cce5b",
   "metadata": {
    "tags": []
   },
   "outputs": [
    {
     "data": {
      "text/plain": [
       "'print(u[:,-1])\\nprint(u_B[:,-2])'"
      ]
     },
     "execution_count": 14,
     "metadata": {},
     "output_type": "execute_result"
    }
   ],
   "source": [
    "\"\"\"print(u[:,-1])\n",
    "print(u_B[:,-2])\"\"\""
   ]
  },
  {
   "cell_type": "code",
<<<<<<< HEAD
   "execution_count": null,
=======
   "execution_count": 15,
>>>>>>> refs/remotes/origin/main
   "id": "e155d40f-8837-4abc-bb05-3b5a1a392375",
   "metadata": {
    "tags": []
   },
   "outputs": [
    {
     "data": {
      "text/plain": [
       "'def power_iteration(A, num_iterations: int):\\n    # Ideally choose a random vector\\n    # To decrease the chance that our vector\\n    # Is orthogonal to the eigenvector\\n    b_k = np.random.rand(A.shape[1])\\n    for _ in range(num_iterations):\\n        # calculate the matrix-by-vector product Ab\\n        b_k1 = np.dot(A, b_k)\\n        # calculate the norm\\n        b_k1_norm = np.linalg.norm(b_k1)\\n        # re normalize the vector\\n        b_k = b_k1 / b_k1_norm\\n    return b_k\\n\\ndef svd_power(X, num_itr):\\n    A = X.T @ X\\n    N = A.shape[0]\\n    mu = np.zeros(N)\\n    V = np.zeros_like(A)\\n    \\n    for i in range(0, N):\\n        bk = power_iteration(A, num_itr)\\n        bk = bk.reshape(bk.shape[0],1)\\n        muk = ((bk.T @ A @ bk) / (bk.T @ bk)).squeeze()\\n        mu[i] = muk\\n        #print(muk)\\n        tempA = A-muk*np.eye(N)\\n        #print(tempA)\\n        b = tempA[:, 0].copy()\\n        vk = np.linalg.lstsq(tempA[:, 1:], -b)[0]\\n        vk = np.r_[1, vk]\\n        #print(vk)\\n        vk /= np.linalg.norm(vk)\\n        #vk /= np.sign((A@vk)[i]/vk[i])\\n        V[:,i] = vk\\n        vk = vk.reshape(N,1)\\n        A = A - vk @ vk.T @ A @ vk @ vk.T\\n    return mu, V.T'"
      ]
     },
     "execution_count": 15,
     "metadata": {},
     "output_type": "execute_result"
    }
   ],
   "source": [
    "\"\"\"def power_iteration(A, num_iterations: int):\n",
    "    # Ideally choose a random vector\n",
    "    # To decrease the chance that our vector\n",
    "    # Is orthogonal to the eigenvector\n",
    "    b_k = np.random.rand(A.shape[1])\n",
    "    for _ in range(num_iterations):\n",
    "        # calculate the matrix-by-vector product Ab\n",
    "        b_k1 = np.dot(A, b_k)\n",
    "        # calculate the norm\n",
    "        b_k1_norm = np.linalg.norm(b_k1)\n",
    "        # re normalize the vector\n",
    "        b_k = b_k1 / b_k1_norm\n",
    "    return b_k\n",
    "\n",
    "def svd_power(X, num_itr):\n",
    "    A = X.T @ X\n",
    "    N = A.shape[0]\n",
    "    mu = np.zeros(N)\n",
    "    V = np.zeros_like(A)\n",
    "    \n",
    "    for i in range(0, N):\n",
    "        bk = power_iteration(A, num_itr)\n",
    "        bk = bk.reshape(bk.shape[0],1)\n",
    "        muk = ((bk.T @ A @ bk) / (bk.T @ bk)).squeeze()\n",
    "        mu[i] = muk\n",
    "        #print(muk)\n",
    "        tempA = A-muk*np.eye(N)\n",
    "        #print(tempA)\n",
    "        b = tempA[:, 0].copy()\n",
    "        vk = np.linalg.lstsq(tempA[:, 1:], -b)[0]\n",
    "        vk = np.r_[1, vk]\n",
    "        #print(vk)\n",
    "        vk /= np.linalg.norm(vk)\n",
    "        #vk /= np.sign((A@vk)[i]/vk[i])\n",
    "        V[:,i] = vk\n",
    "        vk = vk.reshape(N,1)\n",
    "        A = A - vk @ vk.T @ A @ vk @ vk.T\n",
    "    return mu, V.T\"\"\""
   ]
  },
  {
   "cell_type": "code",
<<<<<<< HEAD
   "execution_count": null,
=======
   "execution_count": 16,
>>>>>>> refs/remotes/origin/main
   "id": "9201820d-1c5c-4b9a-bb80-d10168596a30",
   "metadata": {
    "tags": []
   },
   "outputs": [
    {
     "data": {
      "text/plain": [
       "'u = u_B\\n(N, T) = u.shape\\nNcols = T + 1 - Nrows\\n\\n# generate input matrices\\nXX = np.zeros((Nrows, Ncols))\\n\\ni=0\\nfor jj in range(Nrows):\\n    XX[jj, :] = u[i, jj:jj + Ncols]\\n\\nX = XX[:, :-1]\\nY = XX[:, 1:]\\nU1, s1, Vt1 = sp.linalg.svd(X, full_matrices=False)\\n#print(U1.shape)\\n#print()\\ns, Vt = svd_power(X=X, num_itr=300) # the cols of V are the corresponding eigenvectors, since XTX=XXT, we havce V=U.T\\nU = X @ la.inv(Vt) @ np.diag(1/s)\\ns[s<0] = 0\\ns = np.sqrt(s)\\n\\ns = s[s > 1e-5]\\nr = len(s)\\nU = U[:, :r]\\nU1 = U1[:, :r]\\nVt = Vt[:r, :]\\nVt1 = Vt1[:r, :]\\nS_inv = sp.diag(1/s)\\nA = U.T @ Y @ Vt.T @ S_inv'"
      ]
     },
     "execution_count": 16,
     "metadata": {},
     "output_type": "execute_result"
    }
   ],
   "source": [
    "\"\"\"u = u_B\n",
    "(N, T) = u.shape\n",
    "Ncols = T + 1 - Nrows\n",
    "\n",
    "# generate input matrices\n",
    "XX = np.zeros((Nrows, Ncols))\n",
    "\n",
    "i=0\n",
    "for jj in range(Nrows):\n",
    "    XX[jj, :] = u[i, jj:jj + Ncols]\n",
    "\n",
    "X = XX[:, :-1]\n",
    "Y = XX[:, 1:]\n",
    "U1, s1, Vt1 = sp.linalg.svd(X, full_matrices=False)\n",
    "#print(U1.shape)\n",
    "#print()\n",
    "s, Vt = svd_power(X=X, num_itr=300) # the cols of V are the corresponding eigenvectors, since XTX=XXT, we havce V=U.T\n",
    "U = X @ la.inv(Vt) @ np.diag(1/s)\n",
    "s[s<0] = 0\n",
    "s = np.sqrt(s)\n",
    "\n",
    "s = s[s > 1e-5]\n",
    "r = len(s)\n",
    "U = U[:, :r]\n",
    "U1 = U1[:, :r]\n",
    "Vt = Vt[:r, :]\n",
    "Vt1 = Vt1[:r, :]\n",
    "S_inv = sp.diag(1/s)\n",
    "A = U.T @ Y @ Vt.T @ S_inv\"\"\""
   ]
  },
  {
   "cell_type": "code",
<<<<<<< HEAD
   "execution_count": null,
=======
   "execution_count": 17,
>>>>>>> refs/remotes/origin/main
   "id": "5dc91ba6-7a3f-4f81-b43c-4d41da8609fa",
   "metadata": {
    "tags": []
   },
   "outputs": [],
   "source": [
    "#np.sqrt(s)-s1\n",
    "#(U @ np.diag(s) @ Vt) - X"
   ]
  },
  {
   "cell_type": "code",
<<<<<<< HEAD
   "execution_count": null,
=======
   "execution_count": 18,
>>>>>>> refs/remotes/origin/main
   "id": "a891c317-54f8-4610-9a95-a5f3ed9fd1b4",
   "metadata": {
    "tags": []
   },
   "outputs": [
    {
     "name": "stderr",
     "output_type": "stream",
     "text": [
      "/var/folders/8v/z8r5x7y96zg82dknc14c73y40000gn/T/ipykernel_1891/4128429774.py:30: FutureWarning: `rcond` parameter will change to the default of machine precision times ``max(M, N)`` where M and N are the input matrix dimensions.\n",
      "To use the future default and silence this warning we advise to pass `rcond=None`, to keep using the old, explicitly pass `rcond=-1`.\n",
      "  vk = np.linalg.lstsq(tempA[:, 1:], -b)[0]\n",
      "/var/folders/8v/z8r5x7y96zg82dknc14c73y40000gn/T/ipykernel_1891/4128429774.py:30: FutureWarning: `rcond` parameter will change to the default of machine precision times ``max(M, N)`` where M and N are the input matrix dimensions.\n",
      "To use the future default and silence this warning we advise to pass `rcond=None`, to keep using the old, explicitly pass `rcond=-1`.\n",
      "  vk = np.linalg.lstsq(tempA[:, 1:], -b)[0]\n"
     ]
    }
   ],
   "source": [
    "#freq = np.angle(d_M[:3])\n",
    "#print(f\"Actual Freq 2: {freq}\")\n",
    "\n",
    "#u = wave_dyn(T=T, N=N, solver=solver, B=B)\n",
    "\n",
    "dmdcoeff, dominant_freqs = graph_clustering_static(u=u_B, d_L=d_L_B, v_inds=v_inds, Nrows=Nrows, case=case, base=base, node_num=[2])"
   ]
  },
  {
   "cell_type": "code",
<<<<<<< HEAD
   "execution_count": null,
=======
   "execution_count": 19,
>>>>>>> refs/remotes/origin/main
   "id": "b563b364-8e58-4795-a17b-f4c75a0f89cc",
   "metadata": {
    "tags": []
   },
   "outputs": [],
   "source": [
    "accuracy = np.minimum(np.sum(np.sign(dmdcoeff[:,0]) == np.sign(V_L_B[:,1])), np.sum(np.sign(dmdcoeff[:,0]) == np.sign(V_L_B[:,1])))/N * 100."
   ]
  },
  {
   "cell_type": "code",
<<<<<<< HEAD
   "execution_count": null,
=======
   "execution_count": 20,
>>>>>>> refs/remotes/origin/main
   "id": "05535761-5812-4671-8fe8-2dd46a5c6485",
   "metadata": {
    "tags": []
   },
   "outputs": [
    {
     "data": {
      "text/plain": [
       "[<matplotlib.lines.Line2D at 0x7fe3d2198ee0>]"
      ]
     },
     "execution_count": 20,
     "metadata": {},
     "output_type": "execute_result"
    },
    {
     "data": {
      "image/png": "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",
      "text/plain": [
       "<Figure size 432x288 with 1 Axes>"
      ]
     },
     "metadata": {
      "needs_background": "light"
     },
     "output_type": "display_data"
    }
   ],
   "source": [
    "plt.plot(np.sign(dmdcoeff[:,0]))\n",
    "plt.plot(np.sign(V_L_B[:,1]))"
   ]
  },
  {
   "cell_type": "code",
<<<<<<< HEAD
   "execution_count": null,
=======
   "execution_count": 21,
>>>>>>> refs/remotes/origin/main
   "id": "409cfeba-b728-4bf3-bd9c-75b5bad8ba87",
   "metadata": {
    "tags": []
   },
   "outputs": [
    {
     "data": {
      "text/plain": [
       "100.0"
      ]
     },
     "execution_count": 21,
     "metadata": {},
     "output_type": "execute_result"
    }
   ],
   "source": [
    "accuracy"
   ]
  },
  {
   "cell_type": "code",
   "execution_count": null,
   "id": "3a5f98cb-44c8-4fbe-bbaa-40705f430fbe",
   "metadata": {},
   "outputs": [],
   "source": []
  }
 ],
 "metadata": {
  "kernelspec": {
   "display_name": "Python 3 (ipykernel)",
   "language": "python",
   "name": "python3"
  },
  "language_info": {
   "codemirror_mode": {
    "name": "ipython",
    "version": 3
   },
   "file_extension": ".py",
   "mimetype": "text/x-python",
   "name": "python",
   "nbconvert_exporter": "python",
   "pygments_lexer": "ipython3",
   "version": "3.9.7"
  },
  "widgets": {
   "application/vnd.jupyter.widget-state+json": {
    "state": {},
    "version_major": 2,
    "version_minor": 0
   }
  }
 },
 "nbformat": 4,
 "nbformat_minor": 5
}
