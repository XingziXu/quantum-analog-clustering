{
 "cells": [
  {
   "cell_type": "code",
<<<<<<< HEAD
   "execution_count": 1,
=======
   "execution_count": 22,
>>>>>>> refs/remotes/origin/main
   "id": "51b635ac-eb6b-4463-8ee0-5b8aa80ccb12",
   "metadata": {
    "tags": []
   },
   "outputs": [
    {
     "data": {
      "text/plain": [
       "'\\nif not (\\n    version.parse(qiskit.__qiskit_version__[\"qiskit-terra\"]) >= version.parse(\"0.22\")\\n):\\n    print(\\n        \"Incorrect dependencies. Found qiskit-terra: \"\\n        + qiskit.__qiskit_version__[\"qiskit-terra\"]\\n        + \"\\nNeed qiskit-terra >= 0.22\"\\n    )\\n\\ntry:\\n    import qiskit_ibm_provider\\nexcept ModuleNotFoundError:\\n    print(\\n        \"You must install the qiskit_ibm_provider with \\'pip install qiskit_ibm_provider\\'\"\\n    )\\n    raise\\n'"
      ]
     },
<<<<<<< HEAD
     "execution_count": 1,
=======
     "execution_count": 22,
>>>>>>> refs/remotes/origin/main
     "metadata": {},
     "output_type": "execute_result"
    }
   ],
   "source": [
    "# Running checks for the correct dependencies\n",
    "import qiskit\n",
    "from packaging import version\n",
    "\"\"\"\n",
    "if not (\n",
    "    version.parse(qiskit.__qiskit_version__[\"qiskit-terra\"]) >= version.parse(\"0.22\")\n",
    "):\n",
    "    print(\n",
    "        \"Incorrect dependencies. Found qiskit-terra: \"\n",
    "        + qiskit.__qiskit_version__[\"qiskit-terra\"]\n",
    "        + \"\\nNeed qiskit-terra >= 0.22\"\n",
    "    )\n",
    "\n",
    "try:\n",
    "    import qiskit_ibm_provider\n",
    "except ModuleNotFoundError:\n",
    "    print(\n",
    "        \"You must install the qiskit_ibm_provider with 'pip install qiskit_ibm_provider'\"\n",
    "    )\n",
    "    raise\n",
    "\"\"\""
   ]
  },
  {
   "cell_type": "code",
<<<<<<< HEAD
   "execution_count": 2,
=======
   "execution_count": 23,
>>>>>>> refs/remotes/origin/main
   "id": "323a2080-daeb-44de-a66c-5c47e10b361f",
   "metadata": {
    "tags": []
   },
   "outputs": [],
   "source": [
    "from qiskit_dynamics.solvers import Solver\n",
    "import numpy as np\n",
    "import pandas as pd\n",
    "import scipy.io\n",
    "import scipy as sp\n",
    "import matplotlib.pyplot as plt\n",
    "import math\n",
    "import numpy.linalg as la\n",
    "import qiskit_dynamics\n",
    "from scipy.optimize import leastsq\n",
<<<<<<< HEAD
    "import networkx as nx\n",
    "from qiskit.quantum_info import Operator\n",
    "from qiskit.quantum_info.states import Statevector"
=======
    "import networkx as nx"
>>>>>>> refs/remotes/origin/main
   ]
  },
  {
   "cell_type": "code",
<<<<<<< HEAD
   "execution_count": 3,
=======
   "execution_count": 24,
>>>>>>> refs/remotes/origin/main
   "id": "466a6f03-5136-4533-88ab-3eb2b4a61d5e",
   "metadata": {
    "tags": []
   },
   "outputs": [],
   "source": [
    "def power_iteration(A, num_iterations: int):\n",
    "    # Ideally choose a random vector\n",
    "    # To decrease the chance that our vector\n",
    "    # Is orthogonal to the eigenvector\n",
    "    b_k = np.random.rand(A.shape[1])\n",
    "    for _ in range(num_iterations):\n",
    "        # calculate the matrix-by-vector product Ab\n",
    "        b_k1 = np.dot(A, b_k)\n",
    "        # calculate the norm\n",
    "        b_k1_norm = np.linalg.norm(b_k1)\n",
    "        # re normalize the vector\n",
    "        b_k = b_k1 / b_k1_norm\n",
    "    return b_k\n",
    "\n",
    "def svd_power(X, num_itr):\n",
    "    A = X.T @ X\n",
    "    N = A.shape[0]\n",
    "    mu = np.zeros(N)\n",
    "    V = np.zeros_like(A)\n",
    "    \n",
    "    for i in range(0, N):\n",
    "        bk = power_iteration(A, num_itr)\n",
    "        bk = bk.reshape(bk.shape[0],1)\n",
    "        muk = ((bk.T @ A @ bk) / (bk.T @ bk)).squeeze()\n",
    "        mu[i] = muk\n",
    "        #print(muk)\n",
    "        tempA = A-muk*np.eye(N)\n",
    "        #print(tempA)\n",
    "        b = tempA[:, 0].copy()\n",
    "        vk = np.linalg.lstsq(tempA[:, 1:], -b)[0]\n",
    "        vk = np.r_[1, vk]\n",
    "        #print(vk)\n",
    "        vk /= np.linalg.norm(vk)\n",
    "        V[:,i] = vk\n",
    "        vk = vk.reshape(N,1)\n",
    "        A = A - vk @ vk.T @ A @ vk @ vk.T\n",
    "    return mu, V.T\n",
    "\n",
<<<<<<< HEAD
    "def dmd(X, Y, num_itr=500, mode='exact', svThresh=1.e-10, which=\"LM\"):\n",
=======
    "def dmd(X, Y, mode='exact', svThresh=1.e-10, which=\"LM\"):\n",
>>>>>>> refs/remotes/origin/main
    "    '''\n",
    "    Exact and standard DMD of the data matrices X and Y.\n",
    "\n",
    "    :param mode: 'exact' for exact DMD or 'standard' for standard DMD\n",
    "    :return:     eigenvalues d and modes Phi\n",
    "    '''\n",
    "    \n",
<<<<<<< HEAD
    "    s, Vt = svd_power(X=X, num_itr=num_itr) # the cols of V are the corresponding eigenvectors, since XTX=XXT, we havce V=U.T\n",
=======
    "    s, Vt = svd_power(X=X, num_itr=500) # the cols of V are the corresponding eigenvectors, since XTX=XXT, we havce V=U.T\n",
>>>>>>> refs/remotes/origin/main
    "    \n",
    "    s[s<0] = 0\n",
    "    s = np.sqrt(s)\n",
    "    #U = Vt.T\n",
    "    \n",
    "    #U, s, Vt = sp.linalg.svd(X, full_matrices=False)\n",
    "    #mask_U = np.random.random(U.shape[0]) >= 0.5\n",
    "    #mask_V = np.random.random(U.shape[0]) >= 0.5\n",
    "    #U[:,mask_U] = U[:,mask_U] * (-1)\n",
    "    #Vt[mask_V,:] = Vt[mask_V,:] * (-1)\n",
    "    #Vt = U.T\n",
    "    \n",
    "    # remove zeros from s\n",
    "    s = s[s > svThresh]\n",
    "    r = len(s)\n",
    "    #U = U[:, :r]\n",
    "    Vt = Vt[:r, :]\n",
    "    U = X @ la.pinv(Vt) @ np.diag(1/s)\n",
    "    S_inv = np.diag(1/s)\n",
    "    A = U.T @ Y @ Vt.T @ S_inv\n",
    "    # d, W = sortEig(A, A.shape[0])\n",
    "    # d, W = sortEig(A, r)\n",
    "    n = A.shape[0]\n",
    "    if r < n:\n",
    "        d, W = sp.sparse.linalg.eigs(A, r, which=which)\n",
    "    else:\n",
    "        d, V = sp.linalg.eig(A)\n",
    "        ind = d.argsort()[::-1]\n",
    "        d = d[ind]\n",
    "        W = V[:, ind]\n",
    "\n",
    "    if mode == 'exact':\n",
    "        Phi = Y @ Vt.T @ S_inv @ W @ np.diag(1/d)\n",
    "    elif mode == 'standard':\n",
    "        Phi = U @ W\n",
    "    elif mode == 'eigenvector':\n",
    "        Phi = W\n",
    "    else:\n",
    "        raise ValueError('Only exact and standard DMD available.')\n",
    "\n",
    "    return d, Phi\n",
    "\n",
    "def degree_vector(AdjM):\n",
    "    D = np.sum(AdjM, axis=1)\n",
    "    return D\n",
    "\n",
    "def graph_laplacian_eigs_sym(AdjM, N, evs):\n",
    "    D_nsqrt = np.diag(np.power(degree_vector(AdjM), -0.5))\n",
    "    L = np.eye(N) - D_nsqrt @ AdjM @ D_nsqrt\n",
    "    #L = -L\n",
    "    # eigen system of static graph\n",
    "    I = np.eye(N=N)\n",
    "    # assemble M = [I * 2 + 2*L, -I; I, 0*I]\n",
    "    M = np.concatenate((np.concatenate((I * 2 + 2 * L, -I), axis=1), np.concatenate((I, 0 * I), axis=1)), axis=0)\n",
    "    (d_M, V_M) = sp.sparse.linalg.eigs(M, M.shape[0], which=\"LM\")\n",
    "    (d_L, V_L) = sp.sparse.linalg.eigs(L, evs, which=\"SM\")\n",
    "    # print(d_L)\n",
    "    return L, d_M, V_M, d_L, V_L\n",
    "\n",
    "def graph_laplacian_eigs(AdjM, N, evs):\n",
    "    D = degree_vector(AdjM)\n",
    "    L = np.eye(N) - np.diag(1/D) @ AdjM\n",
    "    L = -L\n",
    "    #L = np.zeros((N, N))\n",
    "    #for ii in range(N):\n",
    "    #    L[ii, :] = AdjM[ii, :]/np.sum(AdjM[ii, :])\n",
    "    #    L[ii, ii] = -1\n",
    "\n",
    "    #print(L-L1)\n",
    "    # eigen system of static graph\n",
    "    I = np.eye(N=N)\n",
    "    # assemble M = [I * 2 + 2*L, -I; I, 0*I]\n",
    "    M = np.concatenate((np.concatenate((I * 2 + 2 * L, -I), axis=1), np.concatenate((I, 0 * I), axis=1)), axis=0)\n",
    "    (d_M, V_M) = sp.sparse.linalg.eigs(M, M.shape[0], which=\"LM\")\n",
    "    (d_L, V_L) = sp.sparse.linalg.eigs(L, evs, which=\"SM\")\n",
    "    # print(d_L)\n",
    "    return L, d_M, V_M, d_L, V_L\n",
    "\n",
    "def generate_time_sequece(L, N, T, v=0):\n",
    "    # initialize time series\n",
    "    u = np.zeros((N, T + 1))\n",
    "    # initialize u(0) and set u(1)=u(0)\n",
    "    for ii in range(N):\n",
    "        u[ii, 0] = np.random.rand(1, 1)\n",
    "        u[ii, 1] = u[ii, 0] + v * np.random.rand(1, 1)\n",
    "    # df_u = pd.DataFrame(u[:, 0], columns=[\"u\"])\n",
    "    # df_u.to_csv(\"u_init.csv\", index=False)\n",
    "    c = np.sqrt(1.) - 1.e-6\n",
    "\n",
    "    # generate time sequence for each node\n",
    "    for tt in range(1, T):\n",
    "        # for kk in range(N):\n",
    "        #     tmp = 0\n",
    "        #     for ll in range(N):\n",
    "        #         if L[kk, ll]:\n",
    "        #             tmp += L[kk, ll] * u[ll, tt]\n",
    "        #     u[kk, tt+1] = 2.*u[kk, tt] - u[kk, tt-1] + c**2*tmp\n",
    "        u[:, tt + 1] = 2. * u[:, tt] - u[:, tt - 1] + c ** 2 * L @ u[:, tt]\n",
    "    return u\n",
    "\n",
    "def wave_dyn(T, N, solver, B):\n",
    "    #Nrows = N\n",
    "    #Ncols = N+1\n",
    "    #T = Nrows + Ncols\n",
    "\n",
    "    # Neumann initial condition\n",
    "    u0 = np.concatenate((np.random.rand(B.shape[0]),np.zeros(B.shape[1])))\n",
    "    ut = np.zeros((N, T),dtype=np.complex_)\n",
    "    ut[:,0] = u0[:N]\n",
    "\n",
    "    for i in range(1, T):\n",
    "        t_span = np.array([0., i])\n",
    "        ut[:,i] = solver.solve(t_span=t_span, y0=u0).y[-1,:N]\n",
    "    return ut\n",
    "\n",
    "def graph_clustering_static(u, d_L, v_inds, Nrows, case, base, node_num=[0]):\n",
    "    n_inds = len(v_inds)\n",
    "    (N, T) = u.shape\n",
    "    Ncols = T + 1 - Nrows\n",
    "    dominant_freqs = np.zeros((N, n_inds))\n",
    "\n",
    "    # generate input matrices\n",
    "    XX = np.zeros((Nrows, Ncols))\n",
    "\n",
    "    dmdcoeff = np.zeros((N, n_inds))\n",
    "    for i in range(N):\n",
    "        # DMD\n",
    "        for jj in range(Nrows):\n",
    "            XX[jj, :] = u[i, jj:jj + Ncols]\n",
    "\n",
    "        X = XX[:, :-1]\n",
    "        Y = XX[:, 1:]\n",
<<<<<<< HEAD
    "        (d, V) = dmd(X, Y, svThresh=1.e-3, num_itr=500)\n",
=======
    "        (d, V) = dmd(X, Y, svThresh=1.e-3)\n",
>>>>>>> refs/remotes/origin/main
    "        freq = np.angle(d[:5])\n",
    "        # print(f\"Node {i} DMD Freq: {freq}\")\n",
    "\n",
    "        if i in node_num:\n",
    "            # printVector(d.real, f'Node{i + 1}_d_{case}')\n",
    "            eigenvalues = np.append(np.reshape(d.real, (1, -1)), np.reshape(d.imag, (1, -1)), axis=0)\n",
    "            df_real = pd.DataFrame(eigenvalues, index=[\"real\", \"imag\"])\n",
    "            df_real.to_csv(f\"/Users/xingzixu/clustering/canonical/wave/result/output_{base}/eigenvalues_{case}.csv\")\n",
    "\n",
    "            # plot eigen modes\n",
    "            plt.figure()\n",
    "            plt.plot(np.real(V[:, 0]), '-o')\n",
    "            plt.plot(np.real(V[:, 1]), '-s')\n",
    "            plt.plot(np.real(V[:, 2]), 'v-.')\n",
    "            plt.plot(np.real(V[:, 3]), '^:')\n",
    "            plt.plot(np.real(V[:, 4]), '*--')\n",
    "            plt.xlabel(\"k\")\n",
    "            plt.tight_layout()\n",
    "            plt.savefig(f\"/Users/xingzixu/clustering/canonical/wave/figure/plots_{base}/modes_real_{case}_node{i + 1}.png\")\n",
    "            plt.close()\n",
    "\n",
    "            plt.figure()\n",
    "            plt.plot(np.imag(V[:, 0]), '-o')\n",
    "            plt.plot(np.imag(V[:, 1]), '-s')\n",
    "            plt.plot(np.imag(V[:, 2]), 'v-.')\n",
    "            plt.plot(np.imag(V[:, 3]), '^:')\n",
    "            plt.plot(np.imag(V[:, 4]), '*--')\n",
    "            plt.xlabel(\"k\")\n",
    "            plt.tight_layout()\n",
    "            plt.savefig(f\"/Users/xingzixu/clustering/canonical/wave/figure/plots_{base}/modes_imag_{case}_node{i + 1}.png\")\n",
    "            plt.close()\n",
    "\n",
    "            # plot eigenvalues\n",
    "            plt.figure()\n",
    "            plt.plot(np.real(d_L), np.imag(d_L), 's', alpha=0.8, label='exact')\n",
    "            plt.plot(np.real(d), np.imag(d), 'o', alpha=0.8, label='DMD')\n",
    "            plt.xlabel('Real')\n",
    "            plt.ylabel('Imag')\n",
    "            plt.legend()\n",
    "            plt.xlim([-1.2, 1.2])\n",
    "            plt.ylim([-1.2, 1.2])\n",
    "            plt.axis('equal')\n",
    "            plt.tight_layout()\n",
    "            plt.savefig(f\"/Users/xingzixu/clustering/canonical/wave/figure/plots_{base}/eigenvalues_{case}_node{i + 1}.png\")\n",
    "            plt.close()\n",
    "\n",
    "        # compute coefficients proportional to kth Laplacian eigenvector\n",
    "        for k_ind, v_ind in enumerate(v_inds):\n",
    "            # v_ind2 = v_ind * 2 - 1\n",
    "            v_ind0 = np.where(np.angle(d) > 1.e-6)[0]\n",
    "            v_ind1 = np.argmin(np.angle(d[v_ind0]))\n",
    "            v_ind2 = v_ind0[v_ind1]\n",
    "            dmdcoeff[i, k_ind] = np.real(sp.linalg.lstsq(V, X[:, 0])[0][v_ind2] * V[0, v_ind2])\n",
    "            dominant_freqs[i, k_ind] = np.angle(d[v_ind2])\n",
    "\n",
    "    return dmdcoeff, dominant_freqs"
   ]
  },
  {
   "cell_type": "code",
<<<<<<< HEAD
   "execution_count": 4,
=======
   "execution_count": 25,
>>>>>>> refs/remotes/origin/main
   "id": "0e6aa1ae-5fd8-48bd-96b2-27024e3f5046",
   "metadata": {
    "tags": []
   },
   "outputs": [
    {
     "name": "stdout",
     "output_type": "stream",
     "text": [
      "DMD_karate_T49_rows25\n"
     ]
    }
   ],
   "source": [
    "np.random.seed(1234)\n",
    "plt.rcParams.update({\"font.size\": 28, \"lines.linewidth\": 3})\n",
    "\n",
    "evs = 3\n",
    "v_inds = range(1, evs)\n",
    "T = 49\n",
    "Nrows = 25\n",
    "base = \"karate\"\n",
    "case = f\"DMD_karate_T{T}_rows{Nrows}\"\n",
    "print(case)\n",
    "\n"
   ]
  },
  {
   "cell_type": "code",
<<<<<<< HEAD
   "execution_count": 5,
=======
   "execution_count": 26,
   "id": "1dab7b43-0bf6-4570-bf80-bf92f60a66df",
   "metadata": {
    "tags": []
   },
   "outputs": [
    {
     "data": {
      "text/plain": [
       "'# what was used in the code is really -L_rw\\nL = np.zeros((N, N))\\nfor ii in range(N):\\n    L[ii, :] = AdjM[ii, :]/np.sum(AdjM[ii, :])\\n    L[ii, ii] = -1\\n\\nL1 = np.zeros((N, N))\\nD = np.sum(AdjM, axis=1)\\nL1 = np.eye(N) - np.diag(1/D) @ AdjM\\n#D_nsqrt = np.diag(np.power(degree_vector(AdjM), -0.5))\\n#L = D_nsqrt @ AdjM\\n#L = L @ D_nsqrt\\n#print(D)\\n#print(L)\\nprint(np.sum(abs(L1+L)))'"
      ]
     },
     "execution_count": 26,
     "metadata": {},
     "output_type": "execute_result"
    }
   ],
   "source": [
    "\"\"\"# what was used in the code is really -L_rw\n",
    "L = np.zeros((N, N))\n",
    "for ii in range(N):\n",
    "    L[ii, :] = AdjM[ii, :]/np.sum(AdjM[ii, :])\n",
    "    L[ii, ii] = -1\n",
    "\n",
    "L1 = np.zeros((N, N))\n",
    "D = np.sum(AdjM, axis=1)\n",
    "L1 = np.eye(N) - np.diag(1/D) @ AdjM\n",
    "#D_nsqrt = np.diag(np.power(degree_vector(AdjM), -0.5))\n",
    "#L = D_nsqrt @ AdjM\n",
    "#L = L @ D_nsqrt\n",
    "#print(D)\n",
    "#print(L)\n",
    "print(np.sum(abs(L1+L)))\"\"\""
   ]
  },
  {
   "cell_type": "code",
   "execution_count": 27,
>>>>>>> refs/remotes/origin/main
   "id": "f238409b-9be3-4f2d-8a02-7f9ad5efb82b",
   "metadata": {
    "tags": []
   },
   "outputs": [],
   "source": [
    "# load graph data\n",
    "data = scipy.io.loadmat('/Users/xingzixu/clustering/canonical/schr/data/karate.mat', squeeze_me=True)\n",
    "for s in data.keys():\n",
    "    if s[:2] == '__' and s[-2:] == '__': continue\n",
    "    exec('%s = data[\"%s\"]' % (s, s))\n",
    "# Adjacent matrix and Laplacian for static graph\n",
    "N = np.max(A[:, :2])\n",
    "AdjMt0 = np.zeros((N, N))\n",
    "# AdjMt = np.zeros((N, N))\n",
    "L0 = np.zeros((N, N))\n",
    "for ii in range(A.shape[0]):\n",
    "    AdjMt0[A[ii, 0] - 1][A[ii, 1] - 1] = 1\n",
<<<<<<< HEAD
    "AdjM = (AdjMt0 + AdjMt0.T) / 2.\n"
=======
    "AdjM = (AdjMt0 + AdjMt0.T) / 2.\n",
    "N = np.max(A[:, :2])\n"
>>>>>>> refs/remotes/origin/main
   ]
  },
  {
   "cell_type": "code",
<<<<<<< HEAD
   "execution_count": 6,
=======
   "execution_count": 29,
>>>>>>> refs/remotes/origin/main
   "id": "05167cf7-7c45-4081-89ad-7b1e48f18abe",
   "metadata": {
    "tags": []
   },
   "outputs": [],
   "source": [
    "# Incidence matrix and Laplacian for static graph\n",
    "\n",
    "IncMt = np.zeros((N, A.shape[0]))\n",
    "# AdjMt = np.zeros((N, N))\n",
    "for ii in range(0, A.shape[0]):\n",
    "    edge = A[ii,:]\n",
    "    IncMt[edge[0]-1,ii] = -1\n",
    "    IncMt[edge[1]-1,ii] = 1\n",
    "#IncMt = np.concatenate((IncMt, 2.j * np.diag(np.sqrt(degree_vector(AdjM)))), axis=1)\n",
    "#IncMt = np.concatenate((IncMt, np.eye(N)), axis=1)"
   ]
  },
  {
   "cell_type": "code",
<<<<<<< HEAD
   "execution_count": 7,
   "id": "298f5cb0",
   "metadata": {},
   "outputs": [],
   "source": [
    "#L_unnorm = IncMt @ IncMt.T\n",
    "#D_nsqrt = np.diag(np.power(degree_vector(AdjM), -0.5))\n",
    "#L_sym = D_nsqrt @ L_unnorm @ D_nsqrt"
   ]
  },
  {
   "cell_type": "code",
   "execution_count": 8,
   "id": "09c0fd2e",
   "metadata": {},
   "outputs": [],
   "source": [
    "#D_nsqrt = np.diag(np.power(degree_vector(AdjM), -0.5))\n",
    "#B = D_nsqrt @ IncMt / np.sqrt(2.)\n",
    "#L_B = B @ B.T"
   ]
  },
  {
   "cell_type": "code",
   "execution_count": 9,
   "id": "f7df0357-8704-4c37-9883-37d6cabeeb8c",
=======
   "execution_count": 8,
   "id": "442f3533-ce3b-4c11-a190-18a5cc87db60",
>>>>>>> refs/remotes/origin/main
   "metadata": {
    "tags": []
   },
   "outputs": [
    {
<<<<<<< HEAD
     "name": "stderr",
     "output_type": "stream",
     "text": [
      "/var/folders/8v/z8r5x7y96zg82dknc14c73y40000gn/T/ipykernel_65574/3712117631.py:34: ComplexWarning: Casting complex values to real discards the imaginary part\n",
      "  u_B[:,i] = sol[i].y[-1,:N]\n"
     ]
    },
    {
     "data": {
      "text/plain": [
       "'# form static Hamiltonian matrix\\nH_static = c * np.concatenate((np.concatenate((np.zeros((B.shape[0],B.shape[0])), B),axis=1),np.concatenate((B.conj().T, np.zeros((B.shape[1],B.shape[1]))),axis=1)), axis=0)\\n\\nhamiltonian = qiskit_dynamics.models.HamiltonianModel(static_operator=H_static)\\n\\n# define Schrodinger equation\\nsolver = Solver(static_hamiltonian = H_static, validate = True)'"
=======
     "data": {
      "text/plain": [
       "'L_un_inc = IncMt @ IncMt.conj().T\\nL_un = np.diag(degree_vector(AdjM)) - AdjM\\nprint(L_un)\\nprint(0.5 * L_un_inc)'"
      ]
     },
     "execution_count": 8,
     "metadata": {},
     "output_type": "execute_result"
    }
   ],
   "source": [
    "\"\"\"L_un_inc = IncMt @ IncMt.conj().T\n",
    "L_un = np.diag(degree_vector(AdjM)) - AdjM\n",
    "print(L_un)\n",
    "print(0.5 * L_un_inc)\"\"\""
   ]
  },
  {
   "cell_type": "code",
   "execution_count": 9,
   "id": "aa53efa0-99d4-4714-931b-3bdfbed0b55f",
   "metadata": {
    "tags": []
   },
   "outputs": [
    {
     "data": {
      "text/plain": [
       "'D = np.diag(degree_vector(AdjM))\\nD_nsqrt = np.diag(np.power(degree_vector(AdjM), -0.5))\\nB = D_nsqrt @ IncMt\\nL_un_inc = IncMt @ IncMt.conj().T\\nL_un = np.diag(degree_vector(AdjM)) - AdjM\\nL_sym = D_nsqrt @ L_un @ D_nsqrt\\nL_sym_inc = B @ B.T\\nprint(B)\\nprint(0.5 * L_sym_inc)'"
>>>>>>> refs/remotes/origin/main
      ]
     },
     "execution_count": 9,
     "metadata": {},
     "output_type": "execute_result"
    }
   ],
   "source": [
<<<<<<< HEAD
=======
    "\"\"\"D = np.diag(degree_vector(AdjM))\n",
    "D_nsqrt = np.diag(np.power(degree_vector(AdjM), -0.5))\n",
    "B = D_nsqrt @ IncMt\n",
    "L_un_inc = IncMt @ IncMt.conj().T\n",
    "L_un = np.diag(degree_vector(AdjM)) - AdjM\n",
    "L_sym = D_nsqrt @ L_un @ D_nsqrt\n",
    "L_sym_inc = B @ B.T\n",
    "print(B)\n",
    "print(0.5 * L_sym_inc)\"\"\""
   ]
  },
  {
   "cell_type": "code",
   "execution_count": 10,
   "id": "1f041ccc-8d53-41bb-8275-7168458e005e",
   "metadata": {
    "tags": []
   },
   "outputs": [
    {
     "data": {
      "text/plain": [
       "'L, d_M, V_M, d_L, V_L = graph_laplacian_eigs_sym(AdjM=AdjM, N=N, evs=evs)\\nD_nsqrt = np.diag(np.power(degree_vector(AdjM), -0.5))\\nB = D_nsqrt @ IncMt / np.sqrt(2.)\\nL1 = B @ B.conj().T'"
      ]
     },
     "execution_count": 10,
     "metadata": {},
     "output_type": "execute_result"
    }
   ],
   "source": [
    "\"\"\"L, d_M, V_M, d_L, V_L = graph_laplacian_eigs_sym(AdjM=AdjM, N=N, evs=evs)\n",
    "D_nsqrt = np.diag(np.power(degree_vector(AdjM), -0.5))\n",
    "B = D_nsqrt @ IncMt / np.sqrt(2.)\n",
    "L1 = B @ B.conj().T\"\"\""
   ]
  },
  {
   "cell_type": "code",
   "execution_count": 11,
   "id": "bcdc9a3d-b351-482a-9487-feb9c2539924",
   "metadata": {
    "tags": []
   },
   "outputs": [
    {
     "data": {
      "text/plain": [
       "'print(L)\\nprint(L1)'"
      ]
     },
     "execution_count": 11,
     "metadata": {},
     "output_type": "execute_result"
    }
   ],
   "source": [
    "\"\"\"print(L)\n",
    "print(L1)\"\"\""
   ]
  },
  {
   "cell_type": "code",
   "execution_count": 8,
   "id": "f7df0357-8704-4c37-9883-37d6cabeeb8c",
   "metadata": {
    "tags": []
   },
   "outputs": [],
   "source": [
    "#L, d_M, V_M, d_L, V_L = graph_laplacian_eigs(AdjM=AdjM, N=N, evs=evs)\n",
    "#L_sym, d_M_sym, V_M_sym, d_L_sym, V_L_sym = graph_laplacian_eigs_sym(AdjM=AdjM, N=N, evs=evs)\n",
    "#L, d_M, V_M, d_L, V_L = graph_laplacian_eigs_sym(AdjM=AdjM, N=N, evs=evs)\n",
    "#D_nsqrt = np.diag(np.power(degree_vector(AdjM), -0.5))\n",
    "#L = D_nsqrt @ IncMt @ IncMt.T @ D_nsqrt\n",
    "\n",
>>>>>>> refs/remotes/origin/main
    "# calculate the B matrix\n",
    "D_nsqrt = np.diag(np.power(degree_vector(AdjM), -0.5))\n",
    "B = D_nsqrt @ IncMt / np.sqrt(2.)\n",
    "\n",
    "# calculate ground truth eigen value and eigen vector\n",
    "L_B = B @ B.T\n",
    "d_L_B, V_L_B = la.eig(L_B)\n",
    "\n",
    "# define propagation speed\n",
    "c = np.sqrt(2.) - 1.e-6\n",
    "\n",
<<<<<<< HEAD
    "\n",
    "drift = c * np.concatenate((np.concatenate((np.zeros((B.shape[0],B.shape[0])), B),axis=1),np.concatenate((B.conj().T, np.zeros((B.shape[1],B.shape[1]))),axis=1)), axis=0)\n",
    "\n",
    "initial = np.random.rand(B.shape[0])\n",
    "\n",
    "u_B_0 = np.concatenate((initial,np.zeros(B.shape[1])))\n",
    "u_B = np.zeros((N, T))\n",
    "u_B[:,0] = u_B_0[:N]\n",
    "#u_B = np.zeros((N, T+1)) + np.imag(np.zeros((N, T+1)))\n",
    "hamiltonian_solver = Solver(static_hamiltonian=drift, validate = True)\n",
    "t_spans = []\n",
    "for i in range(1, T+1):\n",
    "    t_spans.append(np.array([0.,i]))\n",
    "sol = hamiltonian_solver.solve(\n",
    "t_span=t_spans, # time interval to integrate over \n",
    "y0=u_B_0, # initial state \n",
    "#t_eval=times, # points to integrate over\n",
    "#method='DOP853',\n",
    "#atol=1e-10,\n",
    "#rtol=1e-10\n",
    ")\n",
    "for i in range(0, T):\n",
    "    u_B[:,i] = sol[i].y[-1,:N]\n",
    "#all_states = sol.y\n",
    "#u_B = np.rot90(np.array(all_states)[:,:N])\n",
    "#for i in range(1, T+1):\n",
    "#    t_span = np.array([0., i])\n",
    "#    u_B[:,i] = hamiltonian_solver.solve(t_span=t_span, y0=u_B_0).y[-1,:N]\n",
    "\"\"\"# form static Hamiltonian matrix\n",
=======
    "# form static Hamiltonian matrix\n",
>>>>>>> refs/remotes/origin/main
    "H_static = c * np.concatenate((np.concatenate((np.zeros((B.shape[0],B.shape[0])), B),axis=1),np.concatenate((B.conj().T, np.zeros((B.shape[1],B.shape[1]))),axis=1)), axis=0)\n",
    "\n",
    "hamiltonian = qiskit_dynamics.models.HamiltonianModel(static_operator=H_static)\n",
    "\n",
    "# define Schrodinger equation\n",
<<<<<<< HEAD
    "solver = Solver(static_hamiltonian = H_static, validate = True)\"\"\""
=======
    "solver = Solver(static_hamiltonian = H_static, validate = True)"
>>>>>>> refs/remotes/origin/main
   ]
  },
  {
   "cell_type": "code",
<<<<<<< HEAD
   "execution_count": 10,
=======
   "execution_count": 9,
   "id": "a748fa0b-163b-49b1-b3db-0b91c576d4d0",
   "metadata": {
    "tags": []
   },
   "outputs": [
    {
     "name": "stderr",
     "output_type": "stream",
     "text": [
      "/var/folders/8v/z8r5x7y96zg82dknc14c73y40000gn/T/ipykernel_1891/366676895.py:8: ComplexWarning: Casting complex values to real discards the imaginary part\n",
      "  u_B[:,i] = solver.solve(t_span=t_span, y0=u_B_0).y[-1,:N]\n"
     ]
    },
    {
     "data": {
      "text/plain": [
       "'\\n# initialize time series\\nu = np.zeros((N, T + 1))\\n# initialize u(0) and set u(1)=u(0)\\n#for ii in range(N):\\n#    u[ii, 0] = np.random.rand(1, 1)\\n#    u[ii, 1] = u[ii, 0] + v * np.random.rand(1, 1)\\n# df_u = pd.DataFrame(u[:, 0], columns=[\"u\"])\\n# df_u.to_csv(\"u_init.csv\", index=False)\\nu[:,0] = initial\\nu[:,1] = initial\\nc = np.sqrt(2.) - 1.e-6\\n\\n# generate time sequence for each node\\nfor tt in range(1, T):\\n    # for kk in range(N):\\n    #     tmp = 0\\n    #     for ll in range(N):\\n    #         if L[kk, ll]:\\n    #             tmp += L[kk, ll] * u[ll, tt]\\n    #     u[kk, tt+1] = 2.*u[kk, tt] - u[kk, tt-1] + c**2*tmp\\n    u[:, tt + 1] = 2. * u[:, tt] - u[:, tt - 1] + c ** 2 * ( L_B) @ u[:, tt]'"
      ]
     },
     "execution_count": 9,
     "metadata": {},
     "output_type": "execute_result"
    }
   ],
   "source": [
    "initial = np.random.rand(B.shape[0])\n",
    "u_B_0 = np.concatenate((initial,np.zeros(B.shape[1])))\n",
    "u_B = np.zeros((N, T+1))\n",
    "u_B[:,0] = u_B_0[:N]\n",
    "\n",
    "for i in range(1, T+1):\n",
    "    t_span = np.array([0., i])\n",
    "    u_B[:,i] = solver.solve(t_span=t_span, y0=u_B_0).y[-1,:N]\n",
    "    \n",
    "\"\"\"\n",
    "# initialize time series\n",
    "u = np.zeros((N, T + 1))\n",
    "# initialize u(0) and set u(1)=u(0)\n",
    "#for ii in range(N):\n",
    "#    u[ii, 0] = np.random.rand(1, 1)\n",
    "#    u[ii, 1] = u[ii, 0] + v * np.random.rand(1, 1)\n",
    "# df_u = pd.DataFrame(u[:, 0], columns=[\"u\"])\n",
    "# df_u.to_csv(\"u_init.csv\", index=False)\n",
    "u[:,0] = initial\n",
    "u[:,1] = initial\n",
    "c = np.sqrt(2.) - 1.e-6\n",
    "\n",
    "# generate time sequence for each node\n",
    "for tt in range(1, T):\n",
    "    # for kk in range(N):\n",
    "    #     tmp = 0\n",
    "    #     for ll in range(N):\n",
    "    #         if L[kk, ll]:\n",
    "    #             tmp += L[kk, ll] * u[ll, tt]\n",
    "    #     u[kk, tt+1] = 2.*u[kk, tt] - u[kk, tt-1] + c**2*tmp\n",
    "    u[:, tt + 1] = 2. * u[:, tt] - u[:, tt - 1] + c ** 2 * ( L_B) @ u[:, tt]\"\"\""
   ]
  },
  {
   "cell_type": "code",
   "execution_count": 14,
   "id": "b2d33071-b336-4fa7-ac58-e768b26cce5b",
   "metadata": {
    "tags": []
   },
   "outputs": [
    {
     "data": {
      "text/plain": [
       "'print(u[:,-1])\\nprint(u_B[:,-2])'"
      ]
     },
     "execution_count": 14,
     "metadata": {},
     "output_type": "execute_result"
    }
   ],
   "source": [
    "\"\"\"print(u[:,-1])\n",
    "print(u_B[:,-2])\"\"\""
   ]
  },
  {
   "cell_type": "code",
   "execution_count": 15,
   "id": "e155d40f-8837-4abc-bb05-3b5a1a392375",
   "metadata": {
    "tags": []
   },
   "outputs": [
    {
     "data": {
      "text/plain": [
       "'def power_iteration(A, num_iterations: int):\\n    # Ideally choose a random vector\\n    # To decrease the chance that our vector\\n    # Is orthogonal to the eigenvector\\n    b_k = np.random.rand(A.shape[1])\\n    for _ in range(num_iterations):\\n        # calculate the matrix-by-vector product Ab\\n        b_k1 = np.dot(A, b_k)\\n        # calculate the norm\\n        b_k1_norm = np.linalg.norm(b_k1)\\n        # re normalize the vector\\n        b_k = b_k1 / b_k1_norm\\n    return b_k\\n\\ndef svd_power(X, num_itr):\\n    A = X.T @ X\\n    N = A.shape[0]\\n    mu = np.zeros(N)\\n    V = np.zeros_like(A)\\n    \\n    for i in range(0, N):\\n        bk = power_iteration(A, num_itr)\\n        bk = bk.reshape(bk.shape[0],1)\\n        muk = ((bk.T @ A @ bk) / (bk.T @ bk)).squeeze()\\n        mu[i] = muk\\n        #print(muk)\\n        tempA = A-muk*np.eye(N)\\n        #print(tempA)\\n        b = tempA[:, 0].copy()\\n        vk = np.linalg.lstsq(tempA[:, 1:], -b)[0]\\n        vk = np.r_[1, vk]\\n        #print(vk)\\n        vk /= np.linalg.norm(vk)\\n        #vk /= np.sign((A@vk)[i]/vk[i])\\n        V[:,i] = vk\\n        vk = vk.reshape(N,1)\\n        A = A - vk @ vk.T @ A @ vk @ vk.T\\n    return mu, V.T'"
      ]
     },
     "execution_count": 15,
     "metadata": {},
     "output_type": "execute_result"
    }
   ],
   "source": [
    "\"\"\"def power_iteration(A, num_iterations: int):\n",
    "    # Ideally choose a random vector\n",
    "    # To decrease the chance that our vector\n",
    "    # Is orthogonal to the eigenvector\n",
    "    b_k = np.random.rand(A.shape[1])\n",
    "    for _ in range(num_iterations):\n",
    "        # calculate the matrix-by-vector product Ab\n",
    "        b_k1 = np.dot(A, b_k)\n",
    "        # calculate the norm\n",
    "        b_k1_norm = np.linalg.norm(b_k1)\n",
    "        # re normalize the vector\n",
    "        b_k = b_k1 / b_k1_norm\n",
    "    return b_k\n",
    "\n",
    "def svd_power(X, num_itr):\n",
    "    A = X.T @ X\n",
    "    N = A.shape[0]\n",
    "    mu = np.zeros(N)\n",
    "    V = np.zeros_like(A)\n",
    "    \n",
    "    for i in range(0, N):\n",
    "        bk = power_iteration(A, num_itr)\n",
    "        bk = bk.reshape(bk.shape[0],1)\n",
    "        muk = ((bk.T @ A @ bk) / (bk.T @ bk)).squeeze()\n",
    "        mu[i] = muk\n",
    "        #print(muk)\n",
    "        tempA = A-muk*np.eye(N)\n",
    "        #print(tempA)\n",
    "        b = tempA[:, 0].copy()\n",
    "        vk = np.linalg.lstsq(tempA[:, 1:], -b)[0]\n",
    "        vk = np.r_[1, vk]\n",
    "        #print(vk)\n",
    "        vk /= np.linalg.norm(vk)\n",
    "        #vk /= np.sign((A@vk)[i]/vk[i])\n",
    "        V[:,i] = vk\n",
    "        vk = vk.reshape(N,1)\n",
    "        A = A - vk @ vk.T @ A @ vk @ vk.T\n",
    "    return mu, V.T\"\"\""
   ]
  },
  {
   "cell_type": "code",
   "execution_count": 16,
   "id": "9201820d-1c5c-4b9a-bb80-d10168596a30",
   "metadata": {
    "tags": []
   },
   "outputs": [
    {
     "data": {
      "text/plain": [
       "'u = u_B\\n(N, T) = u.shape\\nNcols = T + 1 - Nrows\\n\\n# generate input matrices\\nXX = np.zeros((Nrows, Ncols))\\n\\ni=0\\nfor jj in range(Nrows):\\n    XX[jj, :] = u[i, jj:jj + Ncols]\\n\\nX = XX[:, :-1]\\nY = XX[:, 1:]\\nU1, s1, Vt1 = sp.linalg.svd(X, full_matrices=False)\\n#print(U1.shape)\\n#print()\\ns, Vt = svd_power(X=X, num_itr=300) # the cols of V are the corresponding eigenvectors, since XTX=XXT, we havce V=U.T\\nU = X @ la.inv(Vt) @ np.diag(1/s)\\ns[s<0] = 0\\ns = np.sqrt(s)\\n\\ns = s[s > 1e-5]\\nr = len(s)\\nU = U[:, :r]\\nU1 = U1[:, :r]\\nVt = Vt[:r, :]\\nVt1 = Vt1[:r, :]\\nS_inv = sp.diag(1/s)\\nA = U.T @ Y @ Vt.T @ S_inv'"
      ]
     },
     "execution_count": 16,
     "metadata": {},
     "output_type": "execute_result"
    }
   ],
   "source": [
    "\"\"\"u = u_B\n",
    "(N, T) = u.shape\n",
    "Ncols = T + 1 - Nrows\n",
    "\n",
    "# generate input matrices\n",
    "XX = np.zeros((Nrows, Ncols))\n",
    "\n",
    "i=0\n",
    "for jj in range(Nrows):\n",
    "    XX[jj, :] = u[i, jj:jj + Ncols]\n",
    "\n",
    "X = XX[:, :-1]\n",
    "Y = XX[:, 1:]\n",
    "U1, s1, Vt1 = sp.linalg.svd(X, full_matrices=False)\n",
    "#print(U1.shape)\n",
    "#print()\n",
    "s, Vt = svd_power(X=X, num_itr=300) # the cols of V are the corresponding eigenvectors, since XTX=XXT, we havce V=U.T\n",
    "U = X @ la.inv(Vt) @ np.diag(1/s)\n",
    "s[s<0] = 0\n",
    "s = np.sqrt(s)\n",
    "\n",
    "s = s[s > 1e-5]\n",
    "r = len(s)\n",
    "U = U[:, :r]\n",
    "U1 = U1[:, :r]\n",
    "Vt = Vt[:r, :]\n",
    "Vt1 = Vt1[:r, :]\n",
    "S_inv = sp.diag(1/s)\n",
    "A = U.T @ Y @ Vt.T @ S_inv\"\"\""
   ]
  },
  {
   "cell_type": "code",
   "execution_count": 17,
   "id": "5dc91ba6-7a3f-4f81-b43c-4d41da8609fa",
   "metadata": {
    "tags": []
   },
   "outputs": [],
   "source": [
    "#np.sqrt(s)-s1\n",
    "#(U @ np.diag(s) @ Vt) - X"
   ]
  },
  {
   "cell_type": "code",
   "execution_count": 18,
>>>>>>> refs/remotes/origin/main
   "id": "a891c317-54f8-4610-9a95-a5f3ed9fd1b4",
   "metadata": {
    "tags": []
   },
   "outputs": [
    {
     "name": "stderr",
     "output_type": "stream",
     "text": [
<<<<<<< HEAD
      "/var/folders/8v/z8r5x7y96zg82dknc14c73y40000gn/T/ipykernel_65574/93067721.py:30: FutureWarning: `rcond` parameter will change to the default of machine precision times ``max(M, N)`` where M and N are the input matrix dimensions.\n",
      "To use the future default and silence this warning we advise to pass `rcond=None`, to keep using the old, explicitly pass `rcond=-1`.\n",
      "  vk = np.linalg.lstsq(tempA[:, 1:], -b)[0]\n",
      "/var/folders/8v/z8r5x7y96zg82dknc14c73y40000gn/T/ipykernel_65574/93067721.py:30: FutureWarning: `rcond` parameter will change to the default of machine precision times ``max(M, N)`` where M and N are the input matrix dimensions.\n",
=======
      "/var/folders/8v/z8r5x7y96zg82dknc14c73y40000gn/T/ipykernel_1891/4128429774.py:30: FutureWarning: `rcond` parameter will change to the default of machine precision times ``max(M, N)`` where M and N are the input matrix dimensions.\n",
      "To use the future default and silence this warning we advise to pass `rcond=None`, to keep using the old, explicitly pass `rcond=-1`.\n",
      "  vk = np.linalg.lstsq(tempA[:, 1:], -b)[0]\n",
      "/var/folders/8v/z8r5x7y96zg82dknc14c73y40000gn/T/ipykernel_1891/4128429774.py:30: FutureWarning: `rcond` parameter will change to the default of machine precision times ``max(M, N)`` where M and N are the input matrix dimensions.\n",
>>>>>>> refs/remotes/origin/main
      "To use the future default and silence this warning we advise to pass `rcond=None`, to keep using the old, explicitly pass `rcond=-1`.\n",
      "  vk = np.linalg.lstsq(tempA[:, 1:], -b)[0]\n"
     ]
    }
   ],
   "source": [
    "#freq = np.angle(d_M[:3])\n",
    "#print(f\"Actual Freq 2: {freq}\")\n",
    "\n",
    "#u = wave_dyn(T=T, N=N, solver=solver, B=B)\n",
    "\n",
    "dmdcoeff, dominant_freqs = graph_clustering_static(u=u_B, d_L=d_L_B, v_inds=v_inds, Nrows=Nrows, case=case, base=base, node_num=[2])"
   ]
  },
  {
   "cell_type": "code",
<<<<<<< HEAD
   "execution_count": 11,
=======
   "execution_count": 19,
>>>>>>> refs/remotes/origin/main
   "id": "b563b364-8e58-4795-a17b-f4c75a0f89cc",
   "metadata": {
    "tags": []
   },
   "outputs": [],
   "source": [
<<<<<<< HEAD
    "accuracy = np.maximum(np.sum(np.sign(dmdcoeff[:,0]) == np.sign(V_L_B[:,1])), np.sum(np.sign(dmdcoeff[:,0]) == -np.sign(V_L_B[:,1])))/N * 100."
=======
    "accuracy = np.minimum(np.sum(np.sign(dmdcoeff[:,0]) == np.sign(V_L_B[:,1])), np.sum(np.sign(dmdcoeff[:,0]) == np.sign(V_L_B[:,1])))/N * 100."
>>>>>>> refs/remotes/origin/main
   ]
  },
  {
   "cell_type": "code",
<<<<<<< HEAD
   "execution_count": 12,
=======
   "execution_count": 20,
>>>>>>> refs/remotes/origin/main
   "id": "05535761-5812-4671-8fe8-2dd46a5c6485",
   "metadata": {
    "tags": []
   },
   "outputs": [
    {
     "data": {
      "text/plain": [
<<<<<<< HEAD
       "<matplotlib.legend.Legend at 0x7fb5a96f4fd0>"
      ]
     },
     "execution_count": 12,
=======
       "[<matplotlib.lines.Line2D at 0x7fe3d2198ee0>]"
      ]
     },
     "execution_count": 20,
>>>>>>> refs/remotes/origin/main
     "metadata": {},
     "output_type": "execute_result"
    },
    {
     "data": {
<<<<<<< HEAD
      "image/png": "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",
=======
      "image/png": "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",
>>>>>>> refs/remotes/origin/main
      "text/plain": [
       "<Figure size 432x288 with 1 Axes>"
      ]
     },
     "metadata": {
      "needs_background": "light"
     },
     "output_type": "display_data"
    }
   ],
   "source": [
<<<<<<< HEAD
    "plt.plot(np.sign(dmdcoeff[:,0]), label='DMD',color='blue')\n",
    "plt.plot(np.sign(V_L_B[:,1]), label='Ground Truth',color='orange')\n",
    "plt.legend()"
=======
    "plt.plot(np.sign(dmdcoeff[:,0]))\n",
    "plt.plot(np.sign(V_L_B[:,1]))"
>>>>>>> refs/remotes/origin/main
   ]
  },
  {
   "cell_type": "code",
<<<<<<< HEAD
   "execution_count": 13,
=======
   "execution_count": 21,
>>>>>>> refs/remotes/origin/main
   "id": "409cfeba-b728-4bf3-bd9c-75b5bad8ba87",
   "metadata": {
    "tags": []
   },
   "outputs": [
    {
     "data": {
      "text/plain": [
       "100.0"
      ]
     },
<<<<<<< HEAD
     "execution_count": 13,
=======
     "execution_count": 21,
>>>>>>> refs/remotes/origin/main
     "metadata": {},
     "output_type": "execute_result"
    }
   ],
   "source": [
    "accuracy"
   ]
  },
  {
   "cell_type": "code",
<<<<<<< HEAD
   "execution_count": 14,
   "id": "3a5f98cb-44c8-4fbe-bbaa-40705f430fbe",
   "metadata": {},
   "outputs": [
    {
     "data": {
      "text/plain": [
       "<matplotlib.legend.Legend at 0x7fb5c94d9a00>"
      ]
     },
     "execution_count": 14,
     "metadata": {},
     "output_type": "execute_result"
    },
    {
     "data": {
      "image/png": "iVBORw0KGgoAAAANSUhEUgAAAboAAAEKCAYAAABkPZDwAAAAOXRFWHRTb2Z0d2FyZQBNYXRwbG90bGliIHZlcnNpb24zLjQuMywgaHR0cHM6Ly9tYXRwbG90bGliLm9yZy/MnkTPAAAACXBIWXMAAAsTAAALEwEAmpwYAABXGElEQVR4nO2dd5xU1fn/32dmC1spy9K7VAUBQSyogH5BE/1aoqZYsUSDiT0mxthi1Gh+8Rtj/aqxt3wTOwZFRcCChWZoIiC9s7DLNtg25/fHmdl7Z3Z6n9nn/Xrd194799xzz8zOzGee5zzPc5TWGkEQBEHIVhypHoAgCIIgJBIROkEQBCGrEaETBEEQshoROkEQBCGrEaETBEEQspqcVA9A8KZr1656wIABqR6GIAhCRrF48eIKrXW5v3MidGnGgAEDWLRoUaqHIQiCkFEopTYFOieuS0EQBCGrEaETBEEQshoROkEQBCGrEaETBEEQshoROkEQBCGrSUuhU0r1UUrdr5RapZSqVUpVKaWWKqVuV0p1jrHvXKXUyUqpvyilPlNK7VFKNSml9iullimlHlZKjQyjn+lKKR3mdmcsYxYEQRCiJ+3SC5RSpwCvAp18To1xb1copc7QWi+Oou9y4FugzM/pUmCUe7tKKXW/1vqWSO8hCIIgRIjWsOlVaKqBIVfGvfu0Ejql1OHAa0ARUA/cD8zBjPMM4BqgN/CuUmqc1np7hLfIxxK5FcDbwBfATvc9TwSuAzoCv1NKtWitbwuj35OBYGPZHeE4BUEQ2ge16+HrGbDzA3AWQM9pUDwwrrdIK6EDHsQITgvwA631J7Zz85VSS4AXgR7A3cClEfavgY+AO7TWC/yc/0Qp9TKwAOgK3KyUekZrvSFEv2u01hsjHIsgCEL7xdUEq/8Ky++ElgPmsZYD5viY5+N6q7SZo1NKjQOmuA+f8xE5ALTWLwEfuw8vUkp1i+QeWuttWuupAUTO02YtcJf7MAc4M5J7CIIgCCHYuxDePxK++a0lcigYdi2MfyTut0sboQN+ZNt/Oki7Z9x/ncDpCRrLXNv+4ATdQxAEoX3RVAOLr4MPjoaq/1iPdxoNJ38F4x6E3JK43zadXJfHuf/WAwuDtLOL0HHA3xMwljzbfksC+hcEQWhfbJ0Ji34J9Vusx5wFMOoPMPw6cOQm7NbpJHSHuv+u1Vo3B2qktd6ulKrGREkeGqhdjEyy7X8bRvtnlVJDgXKgBliPEeTHw5jfEwRByF4O7oGFV8GW17wf7zENJjwOxYMSPoS0cF0qpfIxwR8AW8O4xNOmbwLGUoSJvARowERmhmIy0AvIBboA44GbgDVKqd/Fe4yCIAgZw4ILvEUuvxyOeQmmvJ8UkYP0sejsTtnaMNp72hQnYCx/Afq59x8JkcKwAXgDk6KwGXAB/TFzh+dhhO9epVS+1vrOBIxVEAQhfTmwy6QNeBh0CYz9f5DvL5U5caSL0BXY9hvDaN/g57qYUUpdCvzCfbgSCJZD9ybwvNZa+zy+GHhDKfUE8D7GxXqbUup1rfXyAPe9ArgCoF+/fv6aCIIgZB4VtgD38olw9DOB2yaQtHBdAgds+3kBW1nk+7kuJpRSPwD+131YAfxIax2wf631fj8iZz//BSbBHczr/KsgbZ/UWo/XWo8vL/e7QK4gCELmsecza7/8uMDtEky6CF2NbT8cd6SnTThuzpAopU4AXse4GquBk7XWa+LQ9ctYz21yHPoTBEHIHPZ8bu23d6HTWjdgrCiAPmFc4mmzJWirMFBKTQDexbhB64Efaq2XxNovgDt69Dv3YTjPSxAEITtorod9tpLEXY9N2VDSQujcrHL/HaKUCjh3qJTqhZn3sl8TFUqp0Zh5tBLMvN8ZWuvPg18VMQHdm4IgCFnL3q/BkynW8VDI75KyoaST0HmcuYXAkUHaTfZzTcQopUYAHwKdgSbgXK31R9H2F+AeOcAw92GkBagFQRAyF7vbsuvE1I2D9BK6N2z7lwVp5ynk3AK8E82NlFKHYIo7l7v7uUBrPTOavkLwMyzrc34C+hcEQUhP0iQQBdJI6Nzry3nKe01XSh3v20YpdT5wkvvwBa31bp/zA2yLnc7zdx+lVF/M0j+9MG7Fy7XW/4xkrO77HBGizTHAw+5DDTwWyT0EQRAyFlcLVHxhHZen1qJLlzw6D9dhlsgpAt5XSt2H93p017rb7QJujbRzpVQZxpLr737oUWBRiBXF6/yU8RoAzFVKfQXMBL5xj0ljJYyfj/X6/jleAS6CIAhpz/6V0LTf7HfokbQKKIFIK6HTWi9TSp2DtcL4XVhL5njYhgkaiWbOaxQw1Hb8K4Lkt7mZT+DUgKPcWyCagD8A94Y5PkEQhMzH122pVOrGQpoJHYDW+n2l1ChMsvVpmHJcLZhyW28CD2mtK1M4RDDVTy4AjgbGYdygXTF5eFWYlIK5wN+11jGnQAiCIGQUXvlzqXVbQhoKHYDWeivwG/cWyXUbgYA/HbTW84Kdj+A+NZhk8Jdj7UsQBCHrSKNAFEijYBRBEAQhC6jbAvWbzb6zEDqPTu14EKETBEEQ4olX/tzRCV1QNVxE6ARBEIT4UZFe83MgQicIgtCW2vWw8l6oWpnqkWQeaTY/ByJ0giAI3mgXzPsh/Of38NHx0LAv1SPKHJqqoWqZ2VcO47pMA0ToBEEQ7Oz5DKrdi440VsKaR1I7nkyi4kvzQwGg0+GQWxq8fZIQoRMEQbCz6R/ex9/9DZrisvRl9pOGbksQoRMEQbBwNcPmf3k/1rgPvn8qNeNJFC2NluUVT9JoxQI7InSCIAgedn0MDRVtH//2AWhpSP54EsGeBfBGOcwcAgf3xK9fV5NxXXroJhadIAhC+mF3Ww6ZYQoSAxzYBhteTM2Y4s3KP5mgkdr1sP6Z+PVb+Q201Jv9ov5Q2Cd+fceICJ0gCAIYi22LbVnMgdNh+A3W8ar7zfIzmUxLg7FaPez8OHDbSElTtyWI0AmCIBh2zLaWlikaCGVHwpBfQG4n81jtOtjyWsqGFxf2fGpZXa3HcXLJ2gNR0shtCSJ0giAIhk2vWvv9f2qWlsktgaG2lbxW/gm0Tv7Y4sX2972PWw7A3q9i71drsegEQRDSmuY62PqOddz/p9b+sGtNcWKAqv/A9veSO7Z4suP9to/tnBN7v7Xr4eBOs5/bEToeFnufcUSEThAEYdu7lkuvdAR0GmWd69AVBv/cOl71p+SOLV7UbTErf/uyKw7zdHa3ZddjwOGMvc84IkInCIJgj7b0uC3tDL/RqsK/5zPY/WnyxhYv7NZc57HWfsWXsSfEey20ml7zcyBCJwhCe6dxP2yfZR3b3ZYeivrCgAut45UZaNXZhW7ghZbVqpu9LbJoSNOKKB5E6ARBaN9sfQtcjWa/8xFQOtR/u0N/C7gtvR3vwb6lyRhdfHA1wc6PrOOep0D3k6zjXTHM0zXshepvzb7KMdGqaYYInSAI7Rtft2UgSodCv3Os41X3JW5M8abiC5MkDiaZu3Q4dD/ROh9LPt2eBdZ+l3GQUxh9XwlChE4QhPbLwQrY+aF13P/Hwdsf+jtrf/O/oHpN8PZaw/5VULMu+jHGA3taQc9TzBxk90mg3EEjlUujX47Iy22ZXmkFHkToBEFov2x5DbS72knXY421E4wuY41QAKDh2z+3baM1VC2H/9wK7w6Dfx9m6kp+dblx86WCHT5CB2YJnS7j3Q9q2D0vur4r0jsQBUToBEFoz4TrtrRz2C3W/oYXoH6r2d+/CpbdCf8+FGYdDivvgZq1VtvvnzbC9/2ziVk5IBAHdhqLDcwcWg/b3Jx9P5p8upaDsHehdSwWnSAIQhpRvw12f2L2lQP6nRvedd2Ot77QXU3w+Xnw71HGclvxB6he7d3e2cHab9gLX10KH02CqhWxP4dw2DHb2i8/zlR78WCfp4smn27fYiuQp2QIdOgW3RgTjAidIAjtk83/AtzlvLpNgYIe4V9rn6vb8yns9xGtnCJjIR7/Bpy9D054x9stuuczeG8sLP2tqcoSiOY62D7btHv/SHijJ3z3cPjjBG+3Za9TvM91PRYc+Wa/erUR/0hI87QCDzmpHoAgCEJKiMZt6aHXD6HTaFMSzIOzAHqdCv1/Ys7bow/7/Df0OBFW/NGsbaebzfbtn804xj8Efc4wBZYrvjTW1a6PTR1KV5P3vZdcDz1PDpwGYcfVAjs+sI57/sD7fE4BlB8Lu+aa410fmxy7cNmd/oEoIEInCEJ7pHaDVcxY5UDfH0V2vVIw8R+w+FrjCux7DvQ+DXKLA1+TUwRj7jOJ5wtnGEsQoH4zfHKmSeCuWWcKLQdDt8Cy2+G4fwRvB7BvoVkhHaCgp3dpMw/dT4pO6LQLKmypBWLRCYIgpBGb/s/a73ky5HeJvI+Ow+HE2aHb+dLpMPiv+bDheVh6k7WiedXyAO1HGddqySFGWAE2/x9U3gydxwS/l7+0Al+88unmmKhRf+182T3fEtH8rlAShoWZIkToBEFof/guyZNslIJB06H3f8M3v4Pvn7LOFQ82bs7uJ0L3Kd4BHrs+hq1vm/3//B4m/zv4ffylFfhSdiTklEBzDdRvgdrvoWRw8H61hmV3WMd9fxSeOKYIETpBENoX+1dB1TKz7+xg5sZSRX4ZHPUkDP0lVH8HXY+Gon6B2x9+t3s5IW3qc+7+LPAipwcrYO/XZl85oOdU/+0cOdBtEmx/1xzvnBNa6HbNsVyvKsc7OCcNkahLQRDaF3a3Za/TvMPtU0Xn0aYqSzCRA+g0EgZcYB3/55bAC8Hu/JDWqNKyoyGvc+B+e0SQZuBrzR1yGRQPCH5NihGLThCyhe3vwar7oakmeDvlgL5neSc+J4qNr8CGl2D49YEtinA4sAMWX2cCKsY+EP16Z1rHFm2ZDhx+p3G96mZjVe14H3r9oG27cNyWHrwKPH9sAk1UADtoxwdWEIojLznvoxgRoROEbEC74MtL4OCu8NrvW2RC4EMFM8RCU40pe9VywLgKz9wS/TzOintg8z/Nfvnx0O/s6PqpWQs17vqUOcXmNcg0igfB4Ctg7WPm+D+/NwE1dmHSLu9EcX9CaKfTSBNQ0lBhtqoV0Pnwtu20huW3W8eH/Dy0FZoGiOtSELKBuk3hi5yHRBcarllrhcof2GbGGC32xGR77lqkVH9n7Xc92uSRZSIjbzV5e2DKe21+zft85TfW+yG/K3Q5Inh/yuFTJSVAObDts6x5P0c+HJbec3MeROgEIRvwBFcAlB0Fpyzyv/U502rXGGW1+nDxFdJ9i6Prp/kA7F8ZuN9IqLVdWzIk+n5STUFPGHaNdbzsNnA1W8debsuTA7sh7YRatkdrWG6bmxt8JRT2Dn/MKUSEThCygUqb0HU9xqwL5m+zf7knupJ+ra/QLYqun6plZj7KQyxCZ7+2OERkYboz4jeQ29Hs16wxeXkevPLnQrgtPdgLPO+e7y2cANtmWj9WnB3gsJsjH3OKEKEThGzA7s7r5GduxUN+mbWfaKGzV+6H6C063+tq1gaONIxkTKFC6NOd/C4w4ibrePmdZjWBxipbxRIFPaeF11/xIVDY1+w313j/MNEuU43Fw5CrjFWZIYjQCUI2YHdd+gsi8JBnE7pUuC6jEShfoWuqin7s9jFlutABDLvWSiiv3wprH3dXN3GvsddlHHQoD68vpQIv27P1LevHlLPAWJMZhAidIGQ6zXXWF7hyQOmhgdvaS10l3KLzEbrGfVC3MfJ+/Lk8o3FftjRCvScgRpnoxUwntxgO+711vPJe96oMbkKlFfjib9ke7fLOmxv6KyjoHvlYU4gInSBkOlUraU0MLhkaPJLQy6JLoNA11cLBnW0fj9R96RuI4iEaoavbaC14WtjHe524TGbwldYSQA0Vpg6mh1BpBb7YhW7P5+b13/K6tQxRTpG3uzRDEKEThEzHa35udPC2XnN0CXRd1n7v//FIha5qmeWG8+o/CqGryZKIS1+c+TDqzraP53aCsgmR9VXYG0qHmX1Xg0nrWG7re+g14btC0wgROkHIdMKdnwPIs7kuE2nR2UXFkWvtRxp5aW9v7ycai642y+bn7Ay4AEqHez/Wc6qpYxkp9iopS643tUHBFH4ecWP0Y0whInSCkOnYhS5YxCW0teiijV4MhV1Uepxs7UcakGK3AO39RCN02ZRa4IsjxxR8thNuWoEvdvel3W087Frv908GIUInCJmM1t45dKGEzplv5lnA5KY1h6iLGS12Uek5zSoo3FgZWUCKXejsdSljdl1mmdCBWSqn7Ciz7yyMfH7OQ/cpgE+pttxSGHFDTMNLJSJ0gpDJ1G814fZg5mQ8eVDByEtC5KVXvtoQ6GwrQRXuPJ1vIErv06wAkoYKky8W9ZiyUOiUghPeNpbdiR9AQY/o+snvAp3Hej82/Ibgqx+kOSJ0gpDJ2ANROh8eXtHkZCSN+1pPZeOt43Dn6ar+YwWilA6DvI4mqdnfPULhavK2JLMhtcAfBd1h5O+hfGJs/diX7cntBMOui62/FCNCJwiZTCTzcx68AlISEHnZXG+KOAMopwl97zLOOh+uRWdv19l9vd0Si0To6jZbZcQKelnuW8E//X9Gq/ty5G3mR0YGI8v0CEImE8n8nIdEW3S16639ogEmWtJX6LQObX3aLT/P9fYgkkjm6bI1tSBRdDkCfrDEuIjtUZgZigidIGQyUVl0CS4D5i/oo2igmeNprHQHpGwI7T60W3Qe12e0Fl02pxYkikSuVZhkROiE9o12mV+tB3ZY28GdpjjuoOlQPDDVIwxM8wGo8ayvpszimeGQ6DJgtX7C+JUyVtnOj8zxvsXBha653srfQlnBESVxsOiyLbVACIkIndC++P5Z2PqmTdR2eS8BY2fbu/CDKCvuJ4PqVVZJq5LB4c875SXYdRnITegrdP3ODdxHpT0QZSjklpj94igtumxPLRCCIkIntB/2LoKvLg2/fdUyIyThLFqZCqKZnwPvObpkuS4ButgjL0P8gLCft19X2BcceeBqND9SmmosEQyGuC7bNWn6CRaEBLDLz6rJYMKnS0eYihADzgdHvnlcN0eeq5VMopmfg8Tn0QXKV/MXkBKISrvQ2a5zOL1dnuFYda4W7wAZe4qC0C4Qi05oP9ithJG3waBLoEOPttX+K76yLICDu7zntNKJaIUuP4ErGLQchPotZl85TNSlh6IB4Qek7PUTcemheDBUrzb7teugi09ysy/1W4wFCNChe3gWoJBViEUntB/s4ep9zjSBJv6WtLGvtXVwV8KHFRVa+ySLh1i1wE4iVzCo3UDrkkGF/UzJMQ+egBQPgdyXzfVm/tFc1LZKR6SRl+K2bPeI0Antg8ZKy33lyIOOQSIUO2SA0B3YYbkdc0qs9cjCIZErGIQK+rDPt9mtNjuV/7GCbEqHtbXAIhU6yaFr94jQCe0Du/XQ6XBw5gVum9/N2k9XofNyW46KLGDGXrOwscrMYcULf6kFdsKx6PwlituJNGlcUgvaPSJ0Qvsg2JyPL14W3e7EjCdWop2fA7OkS24n94G2ikLHg5AWne21r1ziPyBlX4BAFH/9iutSCAMROqF9EChc3R+ZMEdXGeX8nIdEJY2HchMWDbBcp56AFF9C/a+K+oNyx9Ed2A7NdRGMSYSuPSJCJ7QPQrnD7GTCHF0sFh0kLmk81FI4vgEpvvN0oQJRwFik9oo1Nd8HHo92Qa3tvKQWtEvSUuiUUn2UUvcrpVYppWqVUlVKqaVKqduVUnFbFEkpNUEp9ZxSaoNS6qBSardSaq5S6nKllDOCfqYqpf6llNqilGpQSm1XSs1SSgUp/SAkjYa91hItjnzoeFjw9ukudC0NVng9hF/6y47dootX0nhLI9Rvch+owKkDwebpKr/xCUQp9t9HuPN09dtMygNAflfI6xS4rZC1pF0enVLqFOBVoJPPqTHu7Qql1Bla65hqMymlbgH+iLfYlwOT3dslSqnTtNaVQfpQwKPADJ9TPd3bD5RSbwM/0Vo3xDJeIQYiCUSB9A9GqV5tlS0rGmhWf46URFh0dRstkSrsYy2S6kuwCinhuphLBsMO936webpQwTFCuyCthE4pdTjwGlAE1AP3A3Mw4zwDuAboDbyrlBqntd4e5X0uBe5xH24C7gWWAt2AK4H/Bo4F3lRKnai159PbhruwRG65e7zfAf2B64Dj3ON+CrgomrEKccBfFfxgFPgEo4SzpEwysbstO0fhtoTElAELdy4s2JI9oQJR/PUfTOhkfi7lbN4MS5dCfT00NkJTk/lr37c/duWVMCTOWSBpJXTAgxiRawF+oLX+xHZuvlJqCfAi0AO4G4igcKFBKdUJ+Iv7cBtwlNba/rP930qpp4DLgUnABcALfvo5BPit+/Ab4DittWdWfJHbkpsJnAJcqJT6u8/zEZKF1/xcGEKXU2KskZaD0HIAmmvTq5qGPRClUxSBKJCYMmDhWk9F/c39G/eZiM/a9VDinjsLdy41XNel5NAlFa1h3Tr45BOYP9/83bQp9HV2Tj45i4VOKTUOmOI+fM6fKGitX1JKXQKcCFyklLpZax1p/PdlgGee72YfkfNwPXAu0BG4CT9Ch7HYct37V9tEzjPWZqXUL4D1GPfoTUD6C11zHax93BTP7f+TVI8mPkSSWgDGuujQHercn9CDu9JL6GINRIHElAEL13pSyvzg2PmBOd632Ahdcx1Uf+tp5D8QxV//4bou/YyppQV274bt22HHDvPXs79nDxQUQMeOZuvUydq3b2AskYYGa/M97tgRDj3UfIHnxPCt29QEubmh2/lj71747jtYvRrWrIH8fBg61No8zyUSGhtNXx5R++QT2LkzuvHZ+4w3aSN0wI9s+08HafcMRuicwOnA36O8Tw3wL38NtNa1Sql/Yay6kUqpwVrr1k+Me27uTPfhGq31ZwH62aSU+hj4L2CqUqpYa10b4XiTy8o/wUq3V7egJ3Q7IbXjiZWDe6B+s9l3doCOh4Z3na/QpZPby0fotIYlS+DNN+Hzz0N/UTgccO0ZZZzTy/1AvMqA+VhP27fDk08at9Xw4eaX+sSJ5gvWLNnjEbpF0P/HPhVRhkNuMVrDihXwwQfmuZWVwaWXwtFHDkAph2lfv8WszeevnJtPsvi6dfC//wvz5hlB27ULXIEmJhJAXh4MGwaHHWZtI0fCoEHgdJr/3aZNsH49bNhg/tr3q6qgpAR69jRbjx7WvmcrL4etW42g2beKiuBj697dCN6wYZb4depkhGvHDrPZ93fsMOIZiqIiOOoo6NbNPP/c3OB/hw+PxyvtTToJ3XHuv/XAwiDt5vpcE7bQKaVygQnuwy9DBIjMxQid5z72n40DgD7u/fkhbjsXI3T5wHhgXrjjTQWuLTNbo3P01ndRmS50tjmfutzR/OWPuaxda4wKh8P/5nTCL0d2Y4QnxiOdAlIO7GodT4sq5MbbBvHmW2YeJBKKqrtwjsfxHi+LzmY93XTXYB58DprdMTPvvAN//jMUFsLkyXDVaeM41WNBeP5HNrflhupx/GG6EbgdO/Di73+HsWPzmH9Df0oc7jy8ug1tf8Ro7SV05142mNfeiflZxkRjIyxfbjY7HTpAly7muQZb1AGgpsZsa9bEd2y7dpnt009j66djRzj+eDjhBJg0CcaOjd4KjRfpJHSed+larQOthAla6+1KqWqg1HZNuAzFes6rgjUEbPHbbe5jP460n3kh2iedTZvg3/+GeR9U8Y9zlrfGoS6c9TmP/g1OPRWmTTO/7jKJpibYvHAxnsypZ98Zz53Ph3ftmMu7M8LtSK/bu5uivgkZYkQcPAjfzF7G0e7jhWtH8beHws6C8WJvreW63LdjL7Guz3Cgrpn86g043DElj704qFXk7NTXw6xZsOLr8Wz6m3msbusSXn9BM7JmMUe4JxUefGE8z88OfL+lS+GLlYOZNsoI3Y41a+l5pPfHdN/2HXRpqTf7tZ157R3/z7JrV+jVy2w9e1r75eXmNd+/33urqvI+VspYqfn5xiLx3c/LMwKyYoWxtPxx8KCxMEOhVGghDERBgbHWhg83fxsajCtzzRpYuzY6l6HDYV6zY44xwnbCCcZCdUb3tkwYaSF0Sql8oKv7MMBbwYutGNGI9Ounj20/1H222PZ97xOvflJCczN88YURt3//23wAAU4Z/QUOh/UpGt13Ef9310FeeKEDTiccd5wRvVNPhREj0isQ0UNNDbz/Prz9tnluz0xfxCFHmnOLN4QxP+dm134r8vKRv+yiyyS47DLzwQ6Hlhb48EP45z+httZ8mXq28vK2x2C+DHfuDLytWAFXnLCMo8837ZdttubnOnWC//5vOOMM484KxqJF8L9/sYSuumIfv/05/O1vxuKKhI0b4bHHYM7bm1h8h1G2bft6Ud9gVjs/4QT46U9h5UqYPdsEKgBsruhHRU0ZXUv2UpRbxR+uX8/bNyxunT23/686d4apU2HKFFi4EF55xQjD2p1DmDbqQwAeuHMd3wK//KV5PR97DLYsWcdHbqt13S7jelbKvH+vvBIOP9y8Vnkhsk3iyf79sGqVeT1WrDB/V660rFaloE8f48ocOND8te9362aE1u4+9N327DFuyOHDvbe+fQO/f1tajFdgzRpL/L77zvww8bhH7W5Sz355eWxzjskiXYZon+kPZw7L0yZANmlc7mM/73ufePUDgFLqCuAKgH79+oXoLjqam+G99+DVV40QVPrJDjx+mLfPIj+3kXEDF7NgzURaWsyE8/z58JvfwIAB8MMfmnmXKVPMvEGq0NrMufz1r+bL1P7LdNxAy3X53Z7xnHeeGW9enpmbCbQ51lpCV5K7iyuugKeegkcegQkTCMjmzfDss/DMM5G7E8Ph8L7W/Nym/Ydz1VVw1lnGRRSue2jiRDjxuC4mEQYoK97L3/8OX35phHnEiODXV1SYHxKvvWZeb61h2ijLRbh+z2B+/nMjOqN9gkLXrzc/AD74QPGfLeM46VAzTzdpxHxG9DaBKC6XorDXGO66wLy/xo2zLIRf/MK4QJ99Fiq/seZND+m+jgeeNdaih0smWWPaXDmYm26CGTOMaKSKjh2N9XPMMd6P79tnBKx3b/ccZhC6dDHbYSHqHkSC02lel4EDzWuebaSL0NlnkcMxoD1za35mn+N2H/v8ne994tUPAFrrJ4EnAcaPHx+lY8I/q1aZL4UXXzQWgz/y8syX/8U/bBtTc+dVn3HLSxNZ5FOpyfNL/rHHzBfssceaD8jJJ8OYMeFbPrHgcsFbb8H998PXX7c93610F/26GoO6hQLmLx1BbogvEQ96Y3dYYPa7dzQv3MKFZlL9ssvgT3+yLLGmJpg508wdvf9+9K6lcDhyiCV0f3z4cBwhrLdAjDqiI3qNE6VbKCmoJdfZyIoVeYwfD48/Dhf5ZH1u326CXV5/3fzY8Q3gGNzDEpUJJw7m+En+7ztokLGmrrwSXEvHw7dG6G488xmcDtOpLh3BB3MD/4YtK4Nf/xpcWwaD+7fZ4O5tIy/tj51xwRDOOSJglynHI15CYkgXoTtg2w/HkeD5ujoQtFVs97F/JfreJ179JISqKvjHP4zA+RMAMHMQp54Kp50GJ50ERR0a4F9fg88X2NQxnzP1WuM6e/994w784AOorrbaNDVZ1t4ttxgBmDrViN7UqcbFEU8aGuCll8wve38T8qNHGxfehSctbnUsO7uOwZkf/ttdFVjVUcaP3EV+vrkvwNNPmy/8224zPx6ee86EqPtSVgYXX2wskr17jSXk2fbs8T52uYy7qUePwFvf3k30/3pV6//I0WVU2M+n7RNUqLwu0LAHgF5l+9i0uwf19WbMc+fCTTcZL8DrrxtXdyCmTYMbL18HTeY4v2t4EaqOrpZ78rBun7fuO7uG52J2lFr3mTx+HTfeaCzpujr4yU/gyrPXgTvpJ7dzGkXNCkknXYSuxrYfjjvS0ybSUP1I7mM/73ufePUTN1wumDPHiNubb5o5DF969DC/1H/6U2N1ec2x7VkMLvc3eU6xSZIGqFgA2kWPHg6mT4fp042wffaZcVvNng3ffON9nz17zDzKK69Y9x01ykxSe7bDDjNhx5FQXW3C1f/617YT9/n5Zmw33GDCogFYbgldWPlzdmz1Lvt3382qVXD99SZ6EMyPiRtv9H/p1Klw+eVGbEO5ocBYgFqHYQVXfQcutwOhsJ/3unLRkG8J3eyZeznjoh5853ZnPvec2QJx7LHwox+ZbeBAYN468PxPwk3FCPQ/Cfd/VTwQUIAmt3Ezf7m/gfvuy6e52UQx8p4ldFL+q32TFkKntW5QSlVgAlL6hGpva7MlaKu22ANHQt3HHjjie5949RMXPvrI5BZt8dN7bi6cfjpccomxsAJOHO+xuS37/gi2z4KGClM1o/o76GhN3OTmGlfnlClw333G2vvwQyN6H3xghM6OJ5jiww+9Hx80yIjeoYeGDoKoqIDnnzeT+XZKS+Gqq+Daa/0EYURaEcWOT2HnQYPMvNSsWeZenqAKD716mf/BpZdGPgekVJiBPfFIFLdjq3c5bMBeFi0yc1gvvdS2qdNp5gHPPhvOPNM8Xy+8ErPDLGtR2M8UWm7wSfAKp0wbmLzIwr4mT1K7oG4jOaXDzHvcJ7UgrfIghaSTFkLnZhVwAjBEKZUTKMVAKdULk1rguSYS1gDNmOcdKjXBnrboex/7cSz9xIX+/duK3NixRtzOO8+40EJiF7puJ0DTftj6tvvc515C50uPHnDhhWZzuYyF57H2vvrKv3UJVjKsx0qKhJ49jYV15ZVG7PwSyRp0vuR1Nmue6WZoqjblwJwd+OEPjav3f/7HWDwjRhjr7ZRTkhB9Fo8al3a8yoDto7gbvPACnHiiEfODB411evbZ5sdS164B+nG1mDJeHsJdCsezZM8OWx6BckDnMeE/h5LBVkGAmnVmxQMwlmqz2/GSW2oEVWi3pJPQfYYRukLgSCDQrMBkn2vCRmvdpJT6GlOw+WilVJ7WOlAwif0+n/uc24ipk9kbUw8zGJ5+GoBFQdpFzZAhJvT/22/hgguMwPlGuwVFu4yYeSg/zlTL8Ahdxecw+HL/1/rgcMARR5jtd78zYcvr15tQas+2fLmZW2tpiWCMboYONXNHF14Ywi14YCcc2Gb2nYWm0kYkKAd06GYW9gSTpF3UHzD3/d3vzJZUKuNs0fkpA6aUef/89Kfm4YJwwr3qt1gu1Q7dIyuX5it0pcMhJwKfdslg2PWx2bevhWffLx6cnrkwQtJIJ6F7A7jFvX8ZgYXOU8i5BYimzsEbGKErAX4MtHHUKKWK3ecAVmit19rPa621UupN4FfAUKXUcf7KgCml+mPKlQF8mMjyXy+/HENO0P5vrQr2+V2hZCiUT7TO747o94QXTqcR4iFDTBi8B0+y6ooVJlnVX3KxHaVg/HgTQBNWMqqXNTcWHFFksNqF7oAldCmjKg7FnO3Yhc6nDFhYAuchRD3JoPjOx3WOcC7V7ia1uyrFbSnYSBuh01ovVkrNxRR2nq6Uel5r7ZXYpZQ6HzjJffiCb0FnpdQAwF0TiPla68l+bvU08HtMauqflFIf+CkM/T+Ygs4A/y/AkB/ELOmTCzyklDreXthZKZUDPI6pyRmsn7gQU/qd3W1ZfpzlUnLkmwCV2nXmi96+fE2M5OebhN3D42CY+MU+Pxfpl6cH+zxdQ6S1w+PMwQpLdJ0d4vPlbXddxlIGzKeeZET4upTDnZ/zd79aETrBP+m2wvh1mDgpJ/C+Uuo2pdSxSqkTlFIPAJ4CTruAW6O5gda6CrOSAJhAkq+UUj9XSh2plPqhe3mdn7vPz8ePxefu53vM+nMAY4EvlFLnKaXGK6XOwtS4/IH7/ItpvUSPr9ABOPOh7Ejr8YoFyR1TrNhXLIj0y9NDOq00vt9WHLHjYeCIw29UL4suTkIXqagU9vWeP4s0OjbQKgbRBMcIWUvaWHQAWutlSqlzsFYYv8u92dkGnBHtoqvu+zytlOrh7nsA7mRtHxYAPwqy6CrA7UAZZvHVUcDLftrYhTM98Sd0YNyXnnN7PoO+Z5ExVIa5gGcw0kno4j0/B/FbfDWWVbyVgiFXwYq7zLI8ZUdFdn3xIGu/biO4msCRG5uVKWQd6WbRobV+HyMa/w/4FmPhVQP/Ae4ERmmtFwfsIPz73AMcg1lrbhMmWKQCY8X9HDhBax30068NVwHTgNcxItwI7ATeB36stT4zxCoJqaV+q/mCAHAWQBdb+Qi76O3xjcdJY+q3wwF38cCcIigZFl0/dqE7kGKh85qfi5PQxWvxVbuolEZhPR3+BzhjE5y8MHJLNacQCnqbfd1illbS2jsYRVyX7Z60sug8aK23Ar9xb5FctxGTQRpu+6+BALVDIrrvh8CHIRumI3YB63q0+TXcenystV+5BJrrzRdLumMPROkcZSAKmGAUD6meo/NKLYhDIArEx3WpXVD7vXUcbmqBL0UxTDKXDLYibGvWmdSQJnfCZU6R9w8WoV2SdhadkGQCuS3BVM4odefPuZpgb7BlAtOIWBLF7aSL69LVDPtXWscdYyj9ZScvDq7L+m0mxxDMXFtep5iHFTFe83RrJbVAaIPSiaxAK0TM+PHj9SLfCsqJ5L2xUPmN2Z8yG3pO8z7/1c/he/fatqPv4cCg66msrKS2tpaWaBLhksHB3dDiLiuaX2ZKmkWDq9FygTpyocC3HEiSaDloCa1yQmE4xYPCwLM6t+k4OqvKPjZHPhREWWU6Fpr2Q2OV2c8pAWeeZaE6C6FDefLHJISFw+GgoKCAkpISSktLccawkJ1SarHW2u8v27R0XQpJonE/VLrnfpTDuC59KT+uVeiq9+1kV95WunTpQnl5OTk5Oah0+7WsNVQ1gsuddNzxMMiJdJELN64mqHRXKnbkQOcQ69ckAq2h+ltodkcm5neF4gHx67vyoLXcQpehRkgj4eAeqHP/4Mnv4h0ckiwaKi33aV5HcBbBAff7sqBH/H4YCHFFa43L5aKuro6amhoqKiro378/eQlYIFBcl+2Zii8A95dcp9GmVJIv7sTxhpye7CycRt8+fSgrKyM3Nzf9RA6MOLnc4qQcJucsWpTtd6Cr2VhAyaZxn5kbBeOCK4jjUhBK+TzHKCx0ly3OyhHDax0LTluJnJYGcNlqzjnCXJdJSDpKKZxOJ6WlpfTu3ZuuXbuyadOmhHiKROjaM8Hm5zwUHwIdulFdfCwdO5XRIczFPVNGS721n1MY2/yMUt5RgP7LryYO7bKCLMDMGTrj/MWtYnx+LTZRiffYwsUuZq4GnzGlSHyFiOncuTOFhYVU29cAixMidO0Zr0LOx/tvoxSUH0ddx0kUF+Ray/ekK8111r4zwnWA/KFsyu5KstAd3A0t7hqSjhzokID5r1iF3MuiS5XQOa1oYa0tCziVYxKioqSkhJqamtANI0SErr3S0gh7v7KOu04M3LbrRBry+hlrLu2FzseiixW7EHhcosnA1WwFwoAJhIlHNRRf7HNykQq51sZV6CGV1pM/a1I5vNNlhLSnqKiIAwfivz61CF17pXKJ5eIpHgSFQSIKyyfiUnk4FOktdFpDi82ii6QKfiDsX5Q6iUJ3YLtJgAbzJZ6oZWZicV26mqx5S+VMjBCHiz/LzZEvqQUZhsPhwOWK/1y4CF17JZz5OQ+dxwIO853R0mAtyZJuuJosq0Q54uO2SoXrsuWgiWb0UNjHPJ9E4OW6jDAIwJUm1lyg+6dqzlCImkQFuInQtVciETpnntk8NKWpVedrzcXjQ+MlBEmy6Oq30RoNm1sMuZ0Sdy/fyNJI8HJbplhU/P2oSfWYhLRBhK49ol2RCR14h46nq/vSPj/njFOpsmRbdE210FhpHRf0Saz7zT5HF7HrMo3C+P2JWqrSHYS0Q4SuPVL9nVU5Ir8svNW37V8kaSt0cZ6fg+QGo2htq1SCqdmYG2VVl3CJJepSLDohQxCha4/4W2g1FPYvkub6yOdzEo3WbXPo4kGswSjN9d55XcForLTEWqnkVPSIJWE8HZLFW++f0zYYJtVWppA2SAmw9kikbktwVxkpsGpINtf5r6SSKlyNtkAUZ/y+5GJxXTZUQO1Gs59baqqa5BT7/2Hhmxye3y05Fkm0UZdap0eyuB1Hvu09oMAR/1JSQmYiFl17JBqhA283WroFpPjmz8VrXsvXdRlJEXT7XFtTtXEZV6+Ghn1t+zm4x3IFKifzvlqDUqrN5nQ66dy5MwMGDGDixIlcc801vPrqq2HlHk2ePNmrr1tuuSUs1+VLL73kdV2PHj1MW3tqgcph+vTpfsfcoUMHunfvztChQzn99NO56667+OKLL8J/HcPFHnkpqQWCDRG69kb9dqhdb/adHaDzEcHb27GvApBu83SJcFuCsWSjDdjw57JsrjOv//4VRty0y09yeM+Aa+i5XC6qqqrYtGkTCxYs4OGHH+a8886jV69e3HzzzREl27788sto+1eAq9mvkL/wwgt+npvP/FwQUWloaGD37t2sXbuWmTNncscdd3Dsscdy+OGH8/bbb4c93pDYrfh0sDCFtEFcl+2NCttCq2VHeacNhMJX6LROn1/N9ty+eM8XOXLBU2jW1RxetQ3t8haD/K7QuNcSkpYGsxr2gW3GJewRUGe+e8HX1a2Xzpgxg6uuuqr1uK6ujqqqKlasWMH8+fOZNWsWVVVV3H///cycOZN3332XgQMHBhxafn4+jY2NbN68mXnzP2HK6I6WdaZbvNyZ27dvZ86cOQAUFBRYQhoi4nL27Nn06mWKELhcLvbv38/u3btZuHAhM2fOZNWqVSxfvpwzzzyTGTNm8Oijj8aeQ5VbAh6dzymJrS8hqxCha2/strstA9S3DIQjz3zJeypitBxInxXHvYQuznMzjhzwxGnoJiCMZX98LZ7iAeDqbepXHtxtBfO4msFlq+1X0LtNcni3bt0YOXJkm1ucfPLJ3HjjjWzYsIHLLruMuXPnsmrVKk477TS++OILSkv9z6F26tSJ4cOHM3/+fF588UWmjLkOtPv10y3YvxZeeuklXC4XvXr14pBDDuHTTz91P7/ghZOHDh3KgAED2jx+9tlnc9999/Hmm29y+eWXs2/fPh5//HG6dOnC3Xff7Xe8YZNbAiWHmNfUvnq60O4R12V7Y8+n1n4k83NgrLd0dV8mUui8AlLCjLxssbkQPULgyIXC3tDpcCjs23acOUUmpSBCBg4cyIcffsgpp5wCwKpVq/jDH/4Q9JoLL7wQgNdee40DDTZ3rI9r1uO2PP/883E4bF8XMa4QcNZZZ/H5559TUmIsr3vvvZdly5ZF3E8b8jqbhVYTVUlGyEjk3dCeaKqGKttCq+XHRN5HOgqd1j5CF+dCvo4oqofYhcDXlepwQkF36DTSWHo5RcYyLh4YtSvY6XTy/PPPU1hoLOwnnniCvXv3Bmx/7rnnUlBQQE1NDW/NmmedsD2/xYsXs3LlSgAuuugi7w7iUMx5+PDh3HvvvYBZhPNPf/pTVP0IQihE6NoTFV9aczGdDo8uPSAdIy+1LYhCOeJfXFhFkUvnCsPiUQ4zd9dxBHQ8NOZ6kd26deO8884DzDzeBx98ELBtaWkpZ5xxBgAvvGoLCLFZdB5rbuzYsW1dp3GqinLppZfSsWNHAGbOnElzc5KXQhLaBSJ07Ylo0wrsOAstt5Cr0VovLZXY3YmJyJ1yRJFLl6LFP6dNm9a63zqfFgCPlfbh3M/ZuavCPOgWuubmZl599VWvdl54flg4cmP6YVFYWMjEiWaJqLq6OpYsWRJ1X4IQCBG69kQ8hE4p7/Ja6eC+TOT8HERe2LlNMnUYwStx4ogjrHSRNWvWBG07bdo0evToQUtLC6+8Pts86K6OMmvWLPbs2UNOTk6rlWhhS0GIQxh/JGMWhGgQoWsvaA2V31jHXaOYn/OQbvN0iRa6SINRXI2Wi9hfaaoEUlZmRRvu27cvaFun09kqYi/+a5Z50G3RedyWJ598Mt26dfO50iZ0cUjliGTMghANInTthYY9VqWOnGIT9RctdovOnqiNMfiSvhV0Q3Udb7aSAfHvP6/Y6r/Toa2PByRFbkuA4mLrR0hNTU2QlgZP9OU3y9ew4tt1oJuprKzk3Xff9TrvhT2pPA7PL9IxC0KkiNC1F/Z/a+2XDo8t0du+BE5zfWRlsdoDwSIuE4xdKALl0dkZM2YMh486DIAX/m8WuJr5xz/+QUNDAx07dmwNWAlIHIQu0jELQqSI0LUXqq1KG2EtyxMMewCCdnlXsRd8Ii6TNz8HUFFR0brfpUuXsK658PyfAfDya+/jamlqdVuee+65dOjgT8jsrsvY5+iiGbMgRIIIXXvBLnQdR8TWl1I+Vp2VHK11CrbK5eiKRWZrOpD4ezQfDG7E+ksWTxL2qMVhw4aFdc3555+H0+lk+849/O/Tr/Dll18CAaItgXgHo0QzZkGIBBG69kI8LTrwLv3lM0+XVNokiydoaRbls4pBMFI4R2fPnTv++PBKvPXs1Zf/mnQkADfe9gBgqq0cd1yIyFxnfswVSOrq6liwYAFg5urGjBkTU3+C4A8RuvZCvIXO7pJLqdDZk8WdAav+x0y4uXSuZtuaaI6krom2e/fu1ty34uJipk6dGt6FyslFPz4VgIMHjRv6wgsvDF1kOQ4i/swzz1BdXQ3A6aefTk6OlN8V4o8IXXugud5UygcjBsWDY+/TNyAlVSTDmgOfBUqDWHS+1lySVndoaWnh4osvbl1d4Morrwx/vkspzjrtJLqWdSI/P48OHTr4j7b0JcZAm9WrV5s18QClFDfffHNM/QlCIETo2gM1a2idVyk+JLKleQLh7GCrkNIUfrHjeJMsoXOEmUuXgvm5jRs3MnXqVN5//30ADj30UG6//faI+igoKmbPdx9ycNvnHKitZPDgMH4MxfD83nrrLY477jhqa00e5u9//3tGjRoVdX+CEAzxE7QH9sfZbQnugJQCs5AomICUvDgXUw4Hr/JfCby/ve9gi68mILVg9+7drFixovW4vr6eyspKVq5cybx585g1axYt7vXyDj30UN59993Iw/RVDuCOnnU1Qzge4CCBKGvWrGkVMZfLRXV1det6dO+88w6rVq1qbTtjxgzuuuuuyMYrCBEgQtceiPf8nIecQkvoWuqBFORApcJ1GcyiC6eYc4Q8/vjjPP7440HbdOrUiSuuuII777yTgoIoUhq8XLNh1vMMIuQnn3xyyMtHjRrFH//4x9C5eoIQIyJ07YFqn2TxeOFMg8hLu9DFwyUbiHCDURIccelwOCgpKaG0tJQ+ffowbtw4jj32WM4888zoBK61Y5sJF1DobGkFyhG2BZ2Xl0dpaSmdOnVi2LBhjB8/npNPPpljjomhDJ0gRIAIXXsgURadPfIyVQEp6RSMol1xWacNYPLkyeg4V5yZN29e4JMq9Jp78z58F6q/Mwd+Am2ee+45nnvuudgGKQgJQIJRsh1XizsYxU3HeLou7SkGB0G3xK/vcEmnYBQvay72HLOk4iXkAf6PKcwPFIRYyKBPohAV9ZutL6gO3SGvc/z6Vk7vLzxbhZSkoHXyglGU07JgtMu/GGSyEDjCmKOzl3pLcg1PQYgFEbpsJ1FuSw+prJCim2zJ4jlGjBKFUj7L9fgRgxQWc44Z+2sXaA7S12IVhAxBhC7b8V21IN54BaQk2aKzW3POJKQ2OEJEXiYg4jJphBN1mckWq9CuEaHLdhJt0aWyQkqy5uc8qBC5dClaVTwuOELM0WktrkshYxGhy3a8hC7GVQv8keNT8zKZa9O1JFnogll0Wme2xRMq6tLVYP1vHbmJqykqCAlAhC7b8VqeJwEWnSPXCgLx/bJPNDrZQme36HyEztVoglTACKIjwzJ3Qrku45Q2IQipQIQum2nYCw17zL6zAAr7JuY+qQpI8bLokjBHFywYJZOtOXCnQtijSl3e5zP9+QntGhG6bMbLbTkscXldqQpI8UotSLHrMpPn58BElTqCRF7aA23isKq4ICQTEbpsJtHzcx5SFZCS7GCUYIWd7QKfqYEawZLGxaITMhgRumwm0RGXHlIRkJKslcXtBCvsnMmpBR6CJY2L0AkZjAhdNpOI5Xn84ci3Eo5dzclZm87LbZmTnHJbwcqAZYMQBApIcbXYnq9K6qrpghAPROiymUStWuCLUm2tukSTbGsO2rr2PAEbriZrTks5MlcIAlVHsefPZVoNT0FAhC57aTkIdRvcBwpKhiT2fslesseV5IhLcAds+Im89LXmfKr6ZwyBLDop/SVkOCJ02UrNOsviKB7obXElgmQHpCQ74rL1Xn6W68kGtyUEro6SLc9PaLeI0GUryQpE8ZCT5BSDVLguwX8uXSYXc7YTqDqKK0uen9BuEaHLVhJdzNkXu8uupSH4KtzxIFVC58+iy4aIS/Ceowvouszg5ye0W0TospVkW3TK4f0lmGirLi0sOn+uywxMFvfgL71Aayn/JWQ8InTZSrKFDpIbkJIyi87HdaldPkKQwcEaXq5L9xydbrbm65TTu40gZAgidNmIdiWvKoqdZAWkJHNlcV98XZe+EYmZHHrvL+qyzfPL0IjSMJk3bx5KKZRSzJs3L9XDSRsGDBiAUorp06eneihRkcGfSiEg9Vstiyq/DDp0Tc59kxWQkopkcQ++wShJmr+aP38+N910E0cddRS9e/emQ4cOFBUV0bt3b6ZMmcKvf/1rPv30U3QsVWl8XZeZvvRQErnzzjtbBTLabfLkyal+GlmLCF02kgq3JXjPT7UcaFsBP16kym0JISy6+AvB4sWLmThxIpMnT+Yvf/kLX3/9Ndu3b6ehoYH6+nq2b9/OvHnzeOCBBzjhhBMYPHgwzz//fHQ3Uw7LYtPa/P8k4jJrmT59OkopBgwYkOqhJJy0c7grpc4FLgHGAGXAbuBL4Emt9Ydx6L8/cBowGTgc6IN5HfYC3wCvAy9rrYMurKaU2gj0D+eeWuvk+ntSJXSOHOPeammwrAG7lRcvUil0vsEoXsWc4xuI8uqrr3LppZdy8KB5K44aNYqzzjqLI488kvLycpRS7N69myVLljB79mwWLFjA+vXrufLKK7n44ouju6nKsaJJdfIs1kznqquu4pxzzvF7buHChVx66aUAzJgxg6uuuspvu6KiooSNr72TNkKnlMoH/g84w+dUH+Ac4Byl1OPAL3WU/hml1F3ArbQuvOVFT/f2A+AmpdQ5WusV0dwn5aRK6MBYdZ7gjJb67BM6h0+uWYKEYP78+Vx00UU0NzdTUFDAE088wQUXXIDyM0d22mmncfvtt7NkyRJuvfVWPv744+hv7MixXMO6RSIuw6Rbt25069bN77mKigqvdiNHjkzWsAQ3aSN0wN+xRO4z4K/AZmA48BtgFDADqABuj/IevTAidwB4G/gIWAPUAYOBK4ETgWHAR0qpI7TW20P0+TZGPNOHVASieHAWAlVmv7keEhGEmFKLzmGiDz2RiHaLLk5CcODAAX72s5/R3NyMw+Fg1qxZYc3fHHHEEcyaNYsXXngh+pv7rtBgFzpZh07IUNJijk4pdQJwgfvwPWCK1voNrfUirfVLwLHAf9znb1ZKHRLlrfYBvwN6aq1/prV+Wmv9qdZ6idb6n1rrk4AH3W27A3eF0WeV1npFsC3KsUZPspPF7SRjtfFU1Lm04++ejhxvay8Gnn76aXbs2AHA1VdfHXGQwkUXXeT38cmTJ3sFPaxbt45rrrmGYcOGUVxcjFKKb5avsS5oqWPLth38+vYHGXX8z+jYuQsFBQUMHDiQiy++mAULFgQdhyfI4s477wzaLthc0caNG1v7ee655wCYM2cOZ555Jr169SI/P5++fftyySWXsG7duqD3AfMj4t5772X06NEUFRVRVlbGxIkTeeqpp3C5EjSnHAa+r9W8efP46U9/Sv/+/cnPz6dTp06tbcOdWwsUQeoJnPHM5W7atMlvcEww1qxZwy9+8QsGDhxIhw4dKC8v59RTT2XOnDnRPP2Eky4W3U3uvy3ADK29F8PSWtcqpa4GPgFygeuAqyO9idb6N2E0+y3wE4wb82yl1M+jdZWmhMYqOLjT7DvyoGhAcu/vlWJwwMzVxTskPVV1LlvvmevtsoS4Jop7vtCVUlxzzTVx69fOzJkzOe+886itrfU+YauO8sor/+CyX93CwYMNXk02btzIxo0beeGFF7j66qt58MEHcTiS85v597//Pffee6/XY1u3buW5557j9ddfZ/bs2RxzzDF+r925cycnnngi335r/RCsr69nwYIFLFiwgNdff50bbrghoeMPh9tvv527777bK4K2oCB9ChG89dZbXHDBBdTV1bU+1tDQwKxZs5g1axYPPfQQV18d8ddzQkm50CmlioGp7sM5WutN/tpprT9VSq0FhgBnKqWuSYQAaa0blVILgLOBTkBXYE+875Mwqr+z9kuGgsMZuG0icOS653ncicauxvgnUafSdQn+k6bj5Lasrq7mm2++AWDYsGEMGjQoLv3a2bx5M+effz75+fnccsstHH/88eTl5bF06VK6lJUB8P6cBVzw81+jtaagIJ/rfnkZPzj9p+Tn57No0SLuu+8+tmzZwsMPP0yHDh3485//HPdx+vLUU0+xYMECJk6cyIwZMxg2bBh1dXW89tprPProo9TU1HDBBRewevVqcnO9re7m5mZOO+20VpE76aST+OUvf0m/fv3YsmULjz32GLNnz2bfvn0Jfx7BePPNN1m2bBmHHXYY119/PaNGjaKhoYGvv/46bvfwBM7ceuutvP322/Tq1YvZs2eHde3y5cv55z//SXl5Offccw8TJkzA6XQyf/587rnnHvbv38+NN97I1KlTGT48yd6kIKRc6IAjsWZy5odoOw8jdH0wEY8bEzQm+7dnS8BW6Yh9fq5jkufnwFhvzkJwVZvj5vr4Cp12pS5ZPNg94xR6v2LFClpazFtu3LhxcenTlw0bNtCjRw+++OILL/fXhAkT4MBOmvZv5OfX39Mqch+/+ThHn/BDKOje2u4nP/kJxx13HKtXr+aBBx7g/PPPZ/To0QkZr4cFCxZwySWX8Pe//93Lgpw0aRLl5eXccccdrF+/nlmzZnHGGd4xbU888QSLFy8G4OKLL261msG8zmeeeSaXX345Tz/9dEKfQyiWLVvG5MmTee+99+jQwXpPHX/88XG7hydwxuMOzc3NDTtAZsmSJYwZM4aPP/6Yzp07tz4+YcIEJkyYwOTJk2lqauKJJ57gr3/9a9zGHCvpMEd3qG1/VYi2tm9xr+vihlIqF/D4PnZprUP9xDtBKbVUKVWtlKpXSm1SSr2ulPqZUirJ5hTJW2w1GIlchNVX5FJRicTfXFycLDp7hF55eXnQtuvXr2fFihV+t927dwe99r777vM/x6NyeGvWPLZuN9ff9MsLOXr8qDbPr6ysjCeffBIAl8vFI488Esazi40ePXrw2GOP+XWTXnfdda1W3Pz5bX8vP/bYYwB06dKFhx56yG//Dz74YMjXPNE4HA6eeeYZL5FLN5599lkvkfMwadIkjjrqKMD//yCVpINF18e2vzVE2y22/b4JGAvALzDuSoB/htF+oM9xP/f2I+C3SqlztdZr4zi+4KQytQDglewuEeXFyQut/TgJXU1NTet+cXFx0LbnnXceX331ld9zd9xxR8AgkLy8PH784x/779SRw4fzrD4vv9BtGfmxyo8//niGDx/O6tWr+fDDmFNcQ3LOOecEFIDS0lKGDh3KypUrWb9+vde5HTt2sGqV+Q199tlnU1pa6reP4uJifvzjH/Poo4/Gd+ARcOyxxzJwoO9XSvowcuRIxowZE/D8+PHj+eqrr9r8D1JNOlh0Jbb92oCt2p4P/i0QBUqpIcA97sMa4E9BmjcB72KCYqYAY4FJwI2YlAWA0cBcpVTvEPe9Qim1SCm1aM+eGKcDUy107RHliNtcYUmJ9XFoEygSJ4YMGRI4uEE5WbH6ewB69Sinb+8e7pXV/bufjz76aMBE7tlFOhGMGBHcFd+lSxeANuNYvnx56/6RRx4ZtI8JEyZEObr4kGj3b6xE+z9INekgdPZPXGPAVgZ7+Fdcw5CUUiXAm1jC+0ut9Y4glxyptf5vrfUjWut5WutvtNafaK3/B5Pz97K7XW+slAW/aK2f1FqP11qPj8l14mqCmu+t49Jh0fclhI99Lb4YKXMHgwCE+tHz5ZdforVu3ebOnRvWPfy5nVpROeyrNPOr3crd7RyBizn36NGjdT/RgRyFhcGLD3hcmp45Tg/2cQVK6vbQvXv3KEcXH4L+b9KAcP8HqUzV8EfYrkulVAdMonWs/EFrfaft2N5nqJ/F9p+Vcasa7K7K8hZwmPuhh7TWLwa7RmtdFeRco1LqEkygzVBMmkKvMJLPY6Pme6vqfGE/yElBSaHz3IGw+7+FZnf4cclQyPPvLoqYus1w0D3/VNgHCnoEb58IWhqgyrIS4lkxZOTIkTgcDlwuF0uWLIlbv3acziBTx7b5R+UpIBTk+WVC5o19jKHyw1L9fIL+b4SoSQeLzm7jhnJH2s/Hxa+jlMrBlB470f3QC5g8vZjQWjcBnhAuhXFrJpZ0CETxkKjE8VSnFkDbYJQ4Cl3Hjh0ZO3YsAKtXr2bDhg1x6zsslJMunc2Pkl173JZQkOe3a9eu1n2P26q1K7eohPp1b8/HSgT2cdnH649QQTzpQLhWU6Jf10wiEqFrAEbEYfMNz7IHoPQhOPYAlC0BW4WJUsqBETZPLPLrwKVxzM9badsP9dxiJ53m55wJirxMB6FTTu9ozzhX9fcUZNZa87e//S2ufYdEORg5YjAA23fuYev2XUFLf3mCYfr37+81vwjWfGNlZWXQW65evTro+VgZNWpU6/7ChQuDtAx9Ph3wvK5VVVVB24V6XUNZt9lE2EKnDavjsFX4dG1PKQiVMmD/9g6VihAUZf7LTwE/cz/0HnCe1jqeeXPJ9YN45dClWuhsFl1TjamQEg9SXRXF373jWBUF4PLLL2+d+3rkkUeSvgDo1CnHtu4/8/I7AS26zz//vDUBe+rUqW3Oe5Ldg4nHsmXLWLEisVXyevXq1RpE8cYbbwQM8qmrq+Of/wwn0Dq1eF7XmpqagGKmteaVV14J2o8ngrWhoSFou2wgHVyXC7GCTEK59ya7/24F/FZQiYCHgEvd+/OAs7XWoYJhIuUw235i5+cgvSy6nCLLxedqMmIXK+mQLO6hoKe5f4dy77zBeHRdUMArr7yC0+mkpaWFU089lZdeeink/FG8gkHOPG0qfXqZoI0/P/IiS/7zbZs2lZWVXHHFFYCxDH71q1+1aTNpkvk4f/XVV3zyySdtzldVVXHJJZfEZcyhmDFjBgB79+7l2muv9dvmhhtuyAjXped1BQJWpLn77rtDzvH27NkTMO7adIuSjDcpFzqtdS3gScI5yb1eXBuUUsdhqqIAvBWLe1EpdT/g+WR+Afy31jquS2K7E88vsz2U2AxKrX2KOaegKoodpSDPNmfTuDf2Ptski6fQ9ZJfBp0Oh6KwliSMmClTpvDcc8+Rn59PfX09F154IaNHj+bOO+9k1qxZLFy4kKVLl/Lxxx/z2GOPcfrpp3vlxoWKjgtGbl4BT/319yilqKs7wAmTT+S2227js88+Y+HChTz++OOMHTu2NTft17/+td+w+CuvvLI1ifv000/ngQceYOHChXz55Zc89NBDrX145iQTyYwZM1rv88wzzzBt2jTeeustlixZwttvv80pp5zCk08+yfjx4xM+llgZM2YMEydOBEzy9gUXXMCcOXNYsmQJr7/+Oqeffjq33357a5tAHHussdxdLhe/+MUv+PLLL1m3bl3rllXYw5NTtQEnYNx8GpgF5PicLwKWus83AocE6Oc5Wz+TA7S5zdZmCdApivGeAhQEOZ8HvGi7z9vh9j1u3DgdFXXbtH4Zs/2zo9YuV3T9BGDVqlWRX9RUq3XFQrPtXay1qzm2QTRWW/1VRTGeDOSrr77SRx11lLa9l4JugwYN0s8//7x2+fn/T5o0SQN60qRJwW9a873WFQv1y//7R92hQ37Q+/3qV7/SLS0tAbt66KGHAl5bWFio33jjDX3xxRdrQPfv37/N9Rs2bGht/+yzzwYddqjnt23bNj1s2LCA45k2bZqePXt26/HcuXODv05hMnfu3NY+77jjDr9tQp33Zc2aNbpHjx4Bn8v555+v58yZE/S5tLS06KOPPjpgH3b69++vAX3xxRcHHdcdd9zh9/pIiOq7RmsNLNIBvldTbtEBaK0/AV5yH/4A+FgpdZZSarxS6nyM1TXGff4+rfX3froJiVLqV1hL7+wBbgD6KKVGBtn8xejfDGxTSj2jlLpEKXW8UmqM++8NwHKsZYd2Af59JfHE122ZDhPNzkJrfke7zMoKsZAOgShJZsKECXz55Zd8/PHH3HDDDYwfP56ePXuSl5dHYWEhvXv35oQTTuDGG29k7ty5rFu3josuuii2QAN35brzzjmFNUvncOONNzJy5EhKSkrIz8+nf//+XHjhhXz++ec8/PDDQVcuuPrqq/noo4/44Q9/SFlZGXl5efTr14/LLruMxYsXc9ZZZ0U/zgjp1asXS5cu5e6772bkyJEUFBTQqVMnjj76aB577DHee+898vIy4301ZMgQlixZwtVXX82gQYPIy8ujrKyME088kX/84x+89NJLIVeUcDgcfPDBB9x6662MHj26dammbETpNMmDCbLCuJ2gK4wrpZ4DLnYfTtFaz/M5P4/Iw/xj6ecb4Gda67DDysaPH68XLVoUyfgMax6DRb80+wMvhmOei7yPIHz77bchqyL45cAOqN9m9nNLoXRo9IOw99WhOxQlqgpcO+fATqh3B0OnKldRaLdE+12jlFqstfbre06HWpcAaK0bMMvvnIsJEhkDdMFYXl8CT2itE19QLzx+DZwEHI1JCC8HOmOS2HdiAmxeA97R8Y3iDEyqVy0IRF4XS5yaqo1VFq011g4tupSQ39Uk+ysF+aktciwI8SBthM6D1vpfwL+ivHY6MD3I+clRDaptP4uAKMyuBJJOyeJ2nPmQW2JFXTbsi95CSJeIy2zHkQMlh6R6FIIQN9Jijk6IA+mUWuCLV/RlDCHwYtEJghAFInTZQFONNaeicqA4/qtSx0ReZys4prkemqPM5BChEwQhCkTosoGaNdZ+yeD0c+s5ciC3k3UcTU6ddoHLXbAalX7PURCEtCXt5uiEKCgZBid9bNyXKk0FIL8MGt01Dxv2QkHvyFIgvKy5FCeLC4KQUYjQZQO5xdB9itnSldxSY9m5mk1QSXONeSxcxG0pCEKUiOtSSA7K4R2U0hCh+1IiLgVBiBIROiF55FurZ9NYCZGkGNotOqdYdIIghI8InZA8YikJZhc6JUInCEL4iNAJYRNzuTilvK26hghy6sSiE4SsJ1ElKUXohLBwOBy4XK7YO7LP0zXt9557C4YEowhC1uNyuUIWo44GETohLPLz8zl48GDsHTnzTZSoh3CtuhYJRhGEbKeuro6CgvguZAwidEKYFBUVUVtbG5/O8uxBKWFEX+oW0O5kcaXSN1dQEISYqKmpoaSkJO79itAJYVFaWsr+/fvjY9VFWhIsnVYWFwQhIVRWVlJfX09paQT5tWEiQieERX5+Pj169GDLli1UVFTQ1NQU/cRxpCXBZH5OELIOrTUtLS1UV1ezbds2Kioq6N+/P06nM+73ksooQtiUlpaSm5tLZWUlGzZsoKUlhqX2muuhocLsq0oorAYCWGrNtVaCec4ByE+PxYIFQYgNh8NBQUEBJSUl9OjRIyEiByJ0QoQUFBTEZ7K4pRHe6mUJ2EkfBy5htvyPsOZ2sz/iNzDi/tjvLwhCu0GETkgNzjzo91NY+6g5XnoTlB3lv+2eT639wr6JH5sgCFmFCJ2QOgZeaAndvsVmC0Vhn8SOSRCErEOCUYTUUTbBbOGSUwTlExM3HkEQshKx6ITUoRRMngXbZkJzXYi2DugxDTqUJ2dsgiBkDSJ0QmrJL4NB01M9CkEQshhxXQqCIAhZjQidIAiCkNWI0AmCIAhZjQidIAiCkNWI0AmCIAhZjQidIAiCkNWI0AmCIAhZjYp6qRUhISil9gCbory8K1ARx+EIQroh73EhEP211n4rSojQZRFKqUVa6/GpHocgJAp5jwvRIK5LQRAEIasRoRMEQRCyGhG67OLJVA9AEBKMvMeFiJE5OkEQBCGrEYtOEARByGpE6ARBEISsRoROEARByGpE6DIcpVQfpdT9SqlVSqlapVSVUmqpUup2pVTnVI9PEHxRSo1TSt2qlHpfKbVFKdWglKpTSn2vlHpFKXVKhP0NV0o9qpRaq5SqV0rtVUp9qZS6XinVIVHPQ8gcJBglg3F/IbwKdArQZBtwhtZ6cdIGJQhBUErNB04Io+m/gfO11vtD9DcdeBwIJGjfAqdqrTdEMk4huxChy1CUUocDC4AioB64H5gD5ABnANcATmAnME5rvT1FQxWEVpRS64BDgF3Aa8AnmJJ3GhgPXAcMcTf/BJiitXYF6GsaMAvzPq8A7gW+AIqBC4CL3U2/BSZorWvj/4yETECELkNRSn0MTAFagBO11p/4nL8AeNF9+KzW+tIkD1EQ2qCUehd4CXhNa93s53wR8AFwrPuhC7XWL/lplwOswohiLTBea/2dT5tbgT+6D+/QWt8VtyciZBQidBmIUmocsMh9+LTW+vIA7eYAJ2LEsJfWeneShigIUaOUGgUscx++o7U+w0+bszEWIcBtWuu7/bRxAKsxYlgJdPMnrkL2I8EomcmPbPtPB2n3jPuvEzg9ccMRhPihtV4O7HUfDg7QzP4ZeMZfA7fL83n3YWdgcjzGJ2QeInSZyXHuv/XAwiDt5vq5RhAygVz335YA5z3v57Uh5p/lMyCI0GUoh7r/rg3minF/AVT7XCMIaY1SaixQ6j781s/5YqCv+3BViO5W2/blM9BOEaHLMJRS+ZjFJwG2hnGJp03foK0EIX241bb/f37O9waUez/oZ0BrvQ/j+QD5DLRbROgyjxLbfjjh0p42xQkYiyDEFaXUT7Dm3xYBb/ppJp8BISJE6DKPAtt+YxjtG/xcJwhphzs31BNcVY9JLfAXFi6fASEiROgyjwO2/bww2uf7uU4Q0gql1ABM8ncR4AIu1lqvDtBcPgNCRIjQZR41tv1wXDGeNlIVQkhLlFI9gQ8xc28AV2qtXwtyiXwGhIgQocswtNYNmHJHAH3CuMTTZktiRiQI0aOU6ooROU++3PVa67+HuGwbpmQYhPgMKKW6AIXuQ/kMtFNE6DITT0j1EHcpJL8opXphhWmHCsMWhKSilOqEKfd1mPuh27TWD4a6zl2z0iNaoVIGhtv25TPQThGhy0w+c/8tBI4M0m6yn2sEIeW4c+HeA8a6H7rfXxmvIHjez0PcP+gCMdnPNUI7Q4QuM3nDtn9ZkHaeQs4twDuJG44ghI9SqgCYCRztfuhhrfXNEXZj/wz4LVjurnXpWcGgEpgf4T2ELEGELgNxry/nKW00XSl1vG8bpdT5wEnuwxekoLOQDiil8oDXsSytp4Fro+jqbWCte/+3Sqlhftr8Dhjq3n9Qa90UxX2ELEBWL8hQ/KxHdx/e69FdiynmvAs4QtajE9IBpdRrwNnuwy+AX2DSCQKitV4RoC/f9ejuwXs9uunuprIeXTtHhC6DkRXGhUxDKRXxF47WWgU6JyuMC+EgQpfhKKX6YFYTPw3oh5mP24ApnfSQ1royhcMTBC/iLXTuPodjPgPTMLl4B4A1wD+Bx7XWkijezhGhEwRBELIaCUYRBEEQshoROkEQBCGrEaETBEEQshoROkEQBCGrEaETBEEQshoROkEQBCGrEaETBEEQshoROkEQBCGrEaETBEEQshoROkEQBCGrEaETBEEQspr/DzCQDzmQS4RhAAAAAElFTkSuQmCC",
      "text/plain": [
       "<Figure size 432x288 with 1 Axes>"
      ]
     },
     "metadata": {
      "needs_background": "light"
     },
     "output_type": "display_data"
    }
   ],
   "source": [
    "plt.plot(dmdcoeff[:,0], label='DMD',color='blue')\n",
    "plt.plot(V_L_B[:,1], label='Ground Truth',color='orange')\n",
    "plt.legend()"
   ]
=======
   "execution_count": null,
   "id": "3a5f98cb-44c8-4fbe-bbaa-40705f430fbe",
   "metadata": {},
   "outputs": [],
   "source": []
>>>>>>> refs/remotes/origin/main
  }
 ],
 "metadata": {
  "kernelspec": {
   "display_name": "Python 3 (ipykernel)",
   "language": "python",
   "name": "python3"
  },
  "language_info": {
   "codemirror_mode": {
    "name": "ipython",
    "version": 3
   },
   "file_extension": ".py",
   "mimetype": "text/x-python",
   "name": "python",
   "nbconvert_exporter": "python",
   "pygments_lexer": "ipython3",
   "version": "3.9.7"
  },
  "widgets": {
   "application/vnd.jupyter.widget-state+json": {
    "state": {},
    "version_major": 2,
    "version_minor": 0
   }
  }
 },
 "nbformat": 4,
 "nbformat_minor": 5
}
