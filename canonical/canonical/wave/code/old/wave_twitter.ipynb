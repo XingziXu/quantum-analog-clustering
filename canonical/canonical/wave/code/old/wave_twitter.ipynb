{
 "cells": [
  {
   "cell_type": "code",
   "execution_count": 1,
   "metadata": {},
   "outputs": [],
   "source": [
    "# Running checks for the correct dependencies\n",
    "import qiskit\n",
    "from packaging import version\n",
    "from qiskit_dynamics.solvers import Solver\n",
    "import numpy as np\n",
    "import pandas as pd\n",
    "import scipy.io\n",
    "import scipy as sp\n",
    "import matplotlib.pyplot as plt\n",
    "import math\n",
    "import numpy.linalg as la\n",
    "import qiskit_dynamics\n",
    "from scipy.optimize import leastsq\n",
    "import networkx as nx\n",
    "from qiskit.quantum_info import Operator\n",
    "from qiskit.quantum_info.states import Statevector"
   ]
  },
  {
   "cell_type": "code",
   "execution_count": 2,
   "metadata": {},
   "outputs": [],
   "source": [
    "def power_iteration(A, num_iterations: int):\n",
    "    # Ideally choose a random vector\n",
    "    # To decrease the chance that our vector\n",
    "    # Is orthogonal to the eigenvector\n",
    "    b_k = np.random.rand(A.shape[1])\n",
    "    for _ in range(num_iterations):\n",
    "        # calculate the matrix-by-vector product Ab\n",
    "        b_k1 = np.dot(A, b_k)\n",
    "        # calculate the norm\n",
    "        b_k1_norm = np.linalg.norm(b_k1)\n",
    "        # re normalize the vector\n",
    "        b_k = b_k1 / b_k1_norm\n",
    "    return b_k\n",
    "\n",
    "def svd_power(X, num_itr):\n",
    "    A = X.T @ X\n",
    "    N = A.shape[0]\n",
    "    mu = np.zeros(N)\n",
    "    V = np.zeros_like(A)\n",
    "    \n",
    "    for i in range(0, N):\n",
    "        bk = power_iteration(A, num_itr)\n",
    "        bk = bk.reshape(bk.shape[0],1)\n",
    "        muk = ((bk.T @ A @ bk) / (bk.T @ bk)).squeeze()\n",
    "        mu[i] = muk\n",
    "        #print(muk)\n",
    "        tempA = A-muk*np.eye(N)\n",
    "        #print(tempA)\n",
    "        b = tempA[:, 0].copy()\n",
    "        vk = np.linalg.lstsq(tempA[:, 1:], -b)[0]\n",
    "        vk = np.r_[1, vk]\n",
    "        #print(vk)\n",
    "        vk /= np.linalg.norm(vk)\n",
    "        V[:,i] = vk\n",
    "        vk = vk.reshape(N,1)\n",
    "        #A = A - vk @ vk.T @ A @ vk @ vk.T\n",
    "        A = A - (A @ vk @ vk.T @ A)/(vk.T @ A @ vk) # Schur's complement deflation\n",
    "    return mu, V.T\n",
    "\"\"\"\n",
    "def dmd(X, Y, mode='exact', svThresh=1.e-10, which=\"LM\"):\n",
    "    '''\n",
    "    Exact and standard DMD of the data matrices X and Y.\n",
    "\n",
    "    :param mode: 'exact' for exact DMD or 'standard' for standard DMD\n",
    "    :return:     eigenvalues d and modes Phi\n",
    "    '''\n",
    "    U, s, Vt = sp.linalg.svd(X, full_matrices=False)\n",
    "    # remove zeros from s\n",
    "    s = s[s > svThresh]\n",
    "    r = len(s)\n",
    "    U = U[:, :r]\n",
    "    Vt = Vt[:r, :]\n",
    "    S_inv = sp.diag(1/s)\n",
    "    A = U.T @ Y @ Vt.T @ S_inv\n",
    "    # d, W = sortEig(A, A.shape[0])\n",
    "    # d, W = sortEig(A, r)\n",
    "    n = A.shape[0]\n",
    "    if r < n:\n",
    "        d, W = sp.sparse.linalg.eigs(A, r, which=which)\n",
    "    else:\n",
    "        d, V = sp.linalg.eig(A)\n",
    "        ind = d.argsort()[::-1]\n",
    "        d = d[ind]\n",
    "        W = V[:, ind]\n",
    "\n",
    "    if mode == 'exact':\n",
    "        Phi = Y @ Vt.T @ S_inv @ W @ sp.diag(1/d)\n",
    "    elif mode == 'standard':\n",
    "        Phi = U @ W\n",
    "    elif mode == 'eigenvector':\n",
    "        Phi = W\n",
    "    else:\n",
    "        raise ValueError('Only exact and standard DMD available.')\n",
    "\n",
    "    return d, Phi\n",
    "\"\"\"\n",
    "def dmd(X, Y, num_itr=500, mode='exact', svThresh=1.e-10, which=\"LM\"):\n",
    "    '''\n",
    "    Exact and standard DMD of the data matrices X and Y.\n",
    "\n",
    "    :param mode: 'exact' for exact DMD or 'standard' for standard DMD\n",
    "    :return:     eigenvalues d and modes Phi\n",
    "    '''\n",
    "    \n",
    "    s, Vt = svd_power(X=X, num_itr=num_itr) # the cols of V are the corresponding eigenvectors, since XTX=XXT, we havce V=U.T\n",
    "    #_, s, Vt = np.linalg.svd(X, full_matrices=True)\n",
    "    #s = np.square(s)\n",
    "    \n",
    "    s[s<0] = 0\n",
    "    s = np.sqrt(s)\n",
    "    #U = Vt.T\n",
    "    \n",
    "    #U, s, Vt = sp.linalg.svd(X, full_matrices=False)\n",
    "    #mask_U = np.random.random(U.shape[0]) >= 0.5\n",
    "    #mask_V = np.random.random(U.shape[0]) >= 0.5\n",
    "    #U[:,mask_U] = U[:,mask_U] * (-1)\n",
    "    #Vt[mask_V,:] = Vt[mask_V,:] * (-1)\n",
    "    #Vt = U.T\n",
    "    \n",
    "    # remove zeros from s\n",
    "    s = s[s > svThresh]\n",
    "    r = len(s)\n",
    "    #U = U[:, :r]\n",
    "    Vt = Vt[:r, :]\n",
    "    U = X @ la.pinv(Vt) @ np.diag(1/s)\n",
    "    S_inv = np.diag(1/s)\n",
    "    A = U.conj().T @ Y @ Vt.conj().T @ S_inv\n",
    "    # d, W = sortEig(A, A.shape[0])\n",
    "    # d, W = sortEig(A, r)\n",
    "    n = A.shape[0]\n",
    "    if r < n:\n",
    "        d, W = sp.sparse.linalg.eigs(A, r, which=which)\n",
    "    else:\n",
    "        d, V = sp.linalg.eig(A)\n",
    "        ind = d.argsort()[::-1]\n",
    "        d = d[ind]\n",
    "        W = V[:, ind]\n",
    "\n",
    "    if mode == 'exact':\n",
    "        Phi = Y @ Vt.T @ S_inv @ W @ np.diag(1/d)\n",
    "    elif mode == 'standard':\n",
    "        Phi = U @ W\n",
    "    elif mode == 'eigenvector':\n",
    "        Phi = W\n",
    "    else:\n",
    "        raise ValueError('Only exact and standard DMD available.')\n",
    "\n",
    "    return d, Phi\n",
    "\n",
    "def degree_vector(AdjM):\n",
    "    D = np.sum(AdjM, axis=1)\n",
    "    return D\n",
    "\n",
    "def graph_laplacian_eigs_sym(AdjM, N, evs):\n",
    "    D_nsqrt = np.diag(np.power(degree_vector(AdjM), -0.5))\n",
    "    L = np.eye(N) - D_nsqrt @ AdjM @ D_nsqrt\n",
    "    #L = -L\n",
    "    # eigen system of static graph\n",
    "    I = np.eye(N=N)\n",
    "    # assemble M = [I * 2 + 2*L, -I; I, 0*I]\n",
    "    M = np.concatenate((np.concatenate((I * 2 + 2 * L, -I), axis=1), np.concatenate((I, 0 * I), axis=1)), axis=0)\n",
    "    (d_M, V_M) = sp.sparse.linalg.eigs(M, M.shape[0], which=\"LM\")\n",
    "    (d_L, V_L) = sp.sparse.linalg.eigs(L, evs, which=\"SM\")\n",
    "    # print(d_L)\n",
    "    return L, d_M, V_M, d_L, V_L\n",
    "\n",
    "def graph_laplacian_eigs(AdjM, N, evs):\n",
    "    D = degree_vector(AdjM)\n",
    "    L = np.eye(N) - np.diag(1/D) @ AdjM\n",
    "    L = -L\n",
    "    #L = np.zeros((N, N))\n",
    "    #for ii in range(N):\n",
    "    #    L[ii, :] = AdjM[ii, :]/np.sum(AdjM[ii, :])\n",
    "    #    L[ii, ii] = -1\n",
    "\n",
    "    #print(L-L1)\n",
    "    # eigen system of static graph\n",
    "    I = np.eye(N=N)\n",
    "    # assemble M = [I * 2 + 2*L, -I; I, 0*I]\n",
    "    M = np.concatenate((np.concatenate((I * 2 + 2 * L, -I), axis=1), np.concatenate((I, 0 * I), axis=1)), axis=0)\n",
    "    (d_M, V_M) = sp.sparse.linalg.eigs(M, M.shape[0], which=\"LM\")\n",
    "    (d_L, V_L) = sp.sparse.linalg.eigs(L, evs, which=\"SM\")\n",
    "    # print(d_L)\n",
    "    return L, d_M, V_M, d_L, V_L\n",
    "\n",
    "def generate_time_sequece(L, N, T, v=0):\n",
    "    # initialize time series\n",
    "    u = np.zeros((N, T + 1))\n",
    "    # initialize u(0) and set u(1)=u(0)\n",
    "    for ii in range(N):\n",
    "        u[ii, 0] = np.random.rand(1, 1)\n",
    "        u[ii, 1] = u[ii, 0] + v * np.random.rand(1, 1)\n",
    "    # df_u = pd.DataFrame(u[:, 0], columns=[\"u\"])\n",
    "    # df_u.to_csv(\"u_init.csv\", index=False)\n",
    "    c = np.sqrt(1.) - 1.e-6\n",
    "\n",
    "    # generate time sequence for each node\n",
    "    for tt in range(1, T):\n",
    "        # for kk in range(N):\n",
    "        #     tmp = 0\n",
    "        #     for ll in range(N):\n",
    "        #         if L[kk, ll]:\n",
    "        #             tmp += L[kk, ll] * u[ll, tt]\n",
    "        #     u[kk, tt+1] = 2.*u[kk, tt] - u[kk, tt-1] + c**2*tmp\n",
    "        u[:, tt + 1] = 2. * u[:, tt] - u[:, tt - 1] + c ** 2 * L @ u[:, tt]\n",
    "    return u\n",
    "\n",
    "def wave_dyn(T, N, solver, B):\n",
    "    #Nrows = N\n",
    "    #Ncols = N+1\n",
    "    #T = Nrows + Ncols\n",
    "\n",
    "    # Neumann initial condition\n",
    "    u0 = np.concatenate((np.random.rand(B.shape[0]),np.zeros(B.shape[1])))\n",
    "    ut = np.zeros((N, T),dtype=np.complex_)\n",
    "    ut[:,0] = u0[:N]\n",
    "\n",
    "    for i in range(1, T):\n",
    "        t_span = np.array([0., i])\n",
    "        ut[:,i] = solver.solve(t_span=t_span, y0=u0).y[-1,:N]\n",
    "    return ut\n",
    "\n",
    "def graph_clustering_static(u, d_L, v_inds, Nrows, case, base, node_num=[0]):\n",
    "    n_inds = len(v_inds)\n",
    "    (N, T) = u.shape\n",
    "    Ncols = T + 1 - Nrows\n",
    "    dominant_freqs = np.zeros((N, n_inds))\n",
    "\n",
    "    # generate input matrices\n",
    "    XX = np.zeros((Nrows, Ncols))\n",
    "\n",
    "    dmdcoeff = np.zeros((N, n_inds))\n",
    "    for i in range(N):\n",
    "        # DMD\n",
    "        for jj in range(Nrows):\n",
    "            XX[jj, :] = u[i, jj:jj + Ncols]\n",
    "\n",
    "        X = XX[:, :-1]\n",
    "        Y = XX[:, 1:]\n",
    "        (d, V) = dmd(X, Y, svThresh=1.e-5, num_itr=1000)\n",
    "        freq = np.angle(d[:5])\n",
    "        # print(f\"Node {i} DMD Freq: {freq}\")\n",
    "\n",
    "        if i in node_num:\n",
    "            # printVector(d.real, f'Node{i + 1}_d_{case}')\n",
    "            eigenvalues = np.append(np.reshape(d.real, (1, -1)), np.reshape(d.imag, (1, -1)), axis=0)\n",
    "            df_real = pd.DataFrame(eigenvalues, index=[\"real\", \"imag\"])\n",
    "            df_real.to_csv(f\"/Users/xingzixu/clustering/canonical/wave/result/output_{base}/eigenvalues_{case}.csv\")\n",
    "\n",
    "            # plot eigen modes\n",
    "            plt.figure()\n",
    "            plt.plot(np.real(V[:, 0]), '-o')\n",
    "            plt.plot(np.real(V[:, 1]), '-s')\n",
    "            plt.plot(np.real(V[:, 2]), 'v-.')\n",
    "            plt.plot(np.real(V[:, 3]), '^:')\n",
    "            plt.plot(np.real(V[:, 4]), '*--')\n",
    "            plt.xlabel(\"k\")\n",
    "            plt.tight_layout()\n",
    "            plt.savefig(f\"/Users/xingzixu/clustering/canonical/wave/figure/plots_{base}/modes_real_{case}_node{i + 1}.png\")\n",
    "            plt.close()\n",
    "\n",
    "            plt.figure()\n",
    "            plt.plot(np.imag(V[:, 0]), '-o')\n",
    "            plt.plot(np.imag(V[:, 1]), '-s')\n",
    "            plt.plot(np.imag(V[:, 2]), 'v-.')\n",
    "            plt.plot(np.imag(V[:, 3]), '^:')\n",
    "            plt.plot(np.imag(V[:, 4]), '*--')\n",
    "            plt.xlabel(\"k\")\n",
    "            plt.tight_layout()\n",
    "            plt.savefig(f\"/Users/xingzixu/clustering/canonical/wave/figure/plots_{base}/modes_imag_{case}_node{i + 1}.png\")\n",
    "            plt.close()\n",
    "\n",
    "            # plot eigenvalues\n",
    "            plt.figure()\n",
    "            plt.plot(np.real(d_L), np.imag(d_L), 's', alpha=0.8, label='exact')\n",
    "            plt.plot(np.real(d), np.imag(d), 'o', alpha=0.8, label='DMD')\n",
    "            plt.xlabel('Real')\n",
    "            plt.ylabel('Imag')\n",
    "            plt.legend()\n",
    "            plt.xlim([-1.2, 1.2])\n",
    "            plt.ylim([-1.2, 1.2])\n",
    "            plt.axis('equal')\n",
    "            plt.tight_layout()\n",
    "            plt.savefig(f\"/Users/xingzixu/clustering/canonical/wave/figure/plots_{base}/eigenvalues_{case}_node{i + 1}.png\")\n",
    "            plt.close()\n",
    "\n",
    "        # compute coefficients proportional to kth Laplacian eigenvector\n",
    "        for k_ind, v_ind in enumerate(v_inds):\n",
    "            # v_ind2 = v_ind * 2 - 1\n",
    "            v_ind0 = np.where(np.angle(d) > 1.e-6)[0]\n",
    "            v_ind1 = np.argmin(np.angle(d[v_ind0]))\n",
    "            v_ind2 = v_ind0[v_ind1]\n",
    "            dmdcoeff[i, k_ind] = np.real(sp.linalg.lstsq(V, X[:, 0])[0][v_ind2] * V[0, v_ind2])\n",
    "            dominant_freqs[i, k_ind] = np.angle(d[v_ind2])\n",
    "\n",
    "    return dmdcoeff, dominant_freqs"
   ]
  },
  {
   "cell_type": "code",
   "execution_count": 3,
   "metadata": {},
   "outputs": [
    {
     "name": "stdout",
     "output_type": "stream",
     "text": [
      "DMD_karate_T99_rows50\n"
     ]
    }
   ],
   "source": [
    "np.random.seed(1234)\n",
    "plt.rcParams.update({\"font.size\": 28, \"lines.linewidth\": 3})\n",
    "\n",
    "evs = 3\n",
    "v_inds = range(1, evs)\n",
    "T = 99\n",
    "Nrows = 50\n",
    "base = \"facebook\"\n",
    "case = f\"DMD_karate_T{T}_rows{Nrows}\"\n",
    "print(case)\n",
    "\n"
   ]
  },
  {
   "cell_type": "code",
   "execution_count": 4,
   "metadata": {},
   "outputs": [
    {
     "data": {
      "text/plain": [
       "\"A = pd.read_csv(r'/Users/xingzixu/clustering/canonical/schr/data/facebook_combined.txt', sep=' ')\\nA = np.asarray(A)\\nnum_node = 50 #np.max(edge)\\nA = A[A[:,0]<num_node]\\nA = A[A[:,1]<num_node]\\nprint(A)\""
      ]
     },
     "execution_count": 4,
     "metadata": {},
     "output_type": "execute_result"
    }
   ],
   "source": [
    "\"\"\"A = pd.read_csv(r'/Users/xingzixu/clustering/canonical/schr/data/facebook_combined.txt', sep=' ')\n",
    "A = np.asarray(A)\n",
    "num_node = 50 #np.max(edge)\n",
    "A = A[A[:,0]<num_node]\n",
    "A = A[A[:,1]<num_node]\n",
    "print(A)\"\"\""
   ]
  },
  {
   "cell_type": "code",
   "execution_count": 5,
   "metadata": {},
   "outputs": [
    {
     "data": {
      "text/plain": [
       "\"A = pd.read_csv(r'/Users/xingzixu/clustering/canonical/wave/data/congress.edgelist', sep=' ').to_numpy()[:,:2]\\nA = np.asarray(A)\\nnum_node = 50 #np.max(edge)\\nA = A[A[:,0]<num_node]\\nA = A[A[:,1]<num_node]\\nprint(A)\""
      ]
     },
     "execution_count": 5,
     "metadata": {},
     "output_type": "execute_result"
    }
   ],
   "source": [
    "\"\"\"A = pd.read_csv(r'/Users/xingzixu/clustering/canonical/wave/data/congress.edgelist', sep=' ').to_numpy()[:,:2]\n",
    "A = np.asarray(A)\n",
    "num_node = 50 #np.max(edge)\n",
    "A = A[A[:,0]<num_node]\n",
    "A = A[A[:,1]<num_node]\n",
    "print(A)\"\"\""
   ]
  },
  {
   "cell_type": "code",
   "execution_count": 6,
   "metadata": {},
   "outputs": [
    {
     "data": {
      "text/plain": [
       "'G = nx.Graph()\\nfor idx,row in enumerate(edge):\\n    #edge[idx,:] = np.asarray(np.char.split(row.astype(np.str_))[0]).astype(np.int_)\\n    G.add_edge(edge[idx,0], edge[idx,1])'"
      ]
     },
     "execution_count": 6,
     "metadata": {},
     "output_type": "execute_result"
    }
   ],
   "source": [
    "# load graph data\n",
    "A = pd.read_csv(r'/Users/xingzixu/clustering/canonical/wave/data/congress.edgelist', sep=' ').to_numpy()[:,:2]\n",
    "A = np.asarray(A)\n",
    "num_node = 50 #np.max(edge)\n",
    "A = A[A[:,0]<num_node]\n",
    "A = A[A[:,1]<num_node]\n",
    "# Adjacent matrix and Laplacian for static graph\n",
    "N = np.max(A[:, :2])\n",
    "\n",
    "AdjMt0 = np.zeros((N, N))\n",
    "# AdjMt = np.zeros((N, N))\n",
    "L0 = np.zeros((N, N))\n",
    "for ii in range(A.shape[0]):\n",
    "    AdjMt0[A[ii, 0] - 1][A[ii, 1] - 1] = 1\n",
    "AdjM = (AdjMt0 + AdjMt0.T) / 2.\n",
    "\n",
    "\"\"\"G = nx.Graph()\n",
    "for idx,row in enumerate(edge):\n",
    "    #edge[idx,:] = np.asarray(np.char.split(row.astype(np.str_))[0]).astype(np.int_)\n",
    "    G.add_edge(edge[idx,0], edge[idx,1])\"\"\"\n"
   ]
  },
  {
   "cell_type": "code",
   "execution_count": 7,
   "metadata": {},
   "outputs": [],
   "source": [
    "IncMt = np.zeros((N, A.shape[0]))\n",
    "# AdjMt = np.zeros((N, N))\n",
    "for ii in range(0, A.shape[0]):\n",
    "    edge = A[ii,:]\n",
    "    IncMt[edge[0]-1,ii] = -1\n",
    "    IncMt[edge[1]-1,ii] = 1"
   ]
  },
  {
   "cell_type": "code",
   "execution_count": 8,
   "metadata": {},
   "outputs": [
    {
     "name": "stderr",
     "output_type": "stream",
     "text": [
      "/var/folders/8v/z8r5x7y96zg82dknc14c73y40000gn/T/ipykernel_30471/3712117631.py:34: ComplexWarning: Casting complex values to real discards the imaginary part\n",
      "  u_B[:,i] = sol[i].y[-1,:N]\n"
     ]
    },
    {
     "data": {
      "text/plain": [
       "'# form static Hamiltonian matrix\\nH_static = c * np.concatenate((np.concatenate((np.zeros((B.shape[0],B.shape[0])), B),axis=1),np.concatenate((B.conj().T, np.zeros((B.shape[1],B.shape[1]))),axis=1)), axis=0)\\n\\nhamiltonian = qiskit_dynamics.models.HamiltonianModel(static_operator=H_static)\\n\\n# define Schrodinger equation\\nsolver = Solver(static_hamiltonian = H_static, validate = True)'"
      ]
     },
     "execution_count": 8,
     "metadata": {},
     "output_type": "execute_result"
    }
   ],
   "source": [
    "# calculate the B matrix\n",
    "D_nsqrt = np.diag(np.power(degree_vector(AdjM), -0.5))\n",
    "B = D_nsqrt @ IncMt / np.sqrt(2.)\n",
    "\n",
    "# calculate ground truth eigen value and eigen vector\n",
    "L_B = B @ B.T\n",
    "d_L_B, V_L_B = la.eig(L_B)\n",
    "\n",
    "# define propagation speed\n",
    "c = np.sqrt(2.) - 1.e-6\n",
    "\n",
    "\n",
    "drift = c * np.concatenate((np.concatenate((np.zeros((B.shape[0],B.shape[0])), B),axis=1),np.concatenate((B.conj().T, np.zeros((B.shape[1],B.shape[1]))),axis=1)), axis=0)\n",
    "\n",
    "initial = np.random.rand(B.shape[0])\n",
    "\n",
    "u_B_0 = np.concatenate((initial,np.zeros(B.shape[1])))\n",
    "u_B = np.zeros((N, T))\n",
    "u_B[:,0] = u_B_0[:N]\n",
    "#u_B = np.zeros((N, T+1)) + np.imag(np.zeros((N, T+1)))\n",
    "hamiltonian_solver = Solver(static_hamiltonian=drift, validate = True)\n",
    "t_spans = []\n",
    "for i in range(1, T+1):\n",
    "    t_spans.append(np.array([0.,i]))\n",
    "sol = hamiltonian_solver.solve(\n",
    "t_span=t_spans, # time interval to integrate over \n",
    "y0=u_B_0, # initial state \n",
    "#t_eval=times, # points to integrate over\n",
    "#method='DOP853',\n",
    "#atol=1e-10,\n",
    "#rtol=1e-10\n",
    ")\n",
    "for i in range(0, T):\n",
    "    u_B[:,i] = sol[i].y[-1,:N]\n",
    "#all_states = sol.y\n",
    "#u_B = np.rot90(np.array(all_states)[:,:N])\n",
    "#for i in range(1, T+1):\n",
    "#    t_span = np.array([0., i])\n",
    "#    u_B[:,i] = hamiltonian_solver.solve(t_span=t_span, y0=u_B_0).y[-1,:N]\n",
    "\"\"\"# form static Hamiltonian matrix\n",
    "H_static = c * np.concatenate((np.concatenate((np.zeros((B.shape[0],B.shape[0])), B),axis=1),np.concatenate((B.conj().T, np.zeros((B.shape[1],B.shape[1]))),axis=1)), axis=0)\n",
    "\n",
    "hamiltonian = qiskit_dynamics.models.HamiltonianModel(static_operator=H_static)\n",
    "\n",
    "# define Schrodinger equation\n",
    "solver = Solver(static_hamiltonian = H_static, validate = True)\"\"\""
   ]
  },
  {
   "cell_type": "code",
   "execution_count": 9,
   "metadata": {},
   "outputs": [
    {
     "name": "stderr",
     "output_type": "stream",
     "text": [
      "/var/folders/8v/z8r5x7y96zg82dknc14c73y40000gn/T/ipykernel_30471/3933251127.py:30: FutureWarning: `rcond` parameter will change to the default of machine precision times ``max(M, N)`` where M and N are the input matrix dimensions.\n",
      "To use the future default and silence this warning we advise to pass `rcond=None`, to keep using the old, explicitly pass `rcond=-1`.\n",
      "  vk = np.linalg.lstsq(tempA[:, 1:], -b)[0]\n",
      "/var/folders/8v/z8r5x7y96zg82dknc14c73y40000gn/T/ipykernel_30471/3933251127.py:30: FutureWarning: `rcond` parameter will change to the default of machine precision times ``max(M, N)`` where M and N are the input matrix dimensions.\n",
      "To use the future default and silence this warning we advise to pass `rcond=None`, to keep using the old, explicitly pass `rcond=-1`.\n",
      "  vk = np.linalg.lstsq(tempA[:, 1:], -b)[0]\n"
     ]
    }
   ],
   "source": [
    "#freq = np.angle(d_M[:3])\n",
    "#print(f\"Actual Freq 2: {freq}\")\n",
    "\n",
    "#u = wave_dyn(T=T, N=N, solver=solver, B=B)\n",
    "\n",
    "dmdcoeff, dominant_freqs = graph_clustering_static(u=u_B, d_L=d_L_B, v_inds=v_inds, Nrows=Nrows, case=case, base=base, node_num=[2])\n",
    "\n",
    "accuracy = np.maximum(np.sum(np.sign(dmdcoeff[:,0]) == np.sign(V_L_B[:,1])), np.sum(np.sign(dmdcoeff[:,0]) == -np.sign(V_L_B[:,1])))/N * 100."
   ]
  },
  {
   "cell_type": "code",
   "execution_count": 10,
   "metadata": {},
   "outputs": [
    {
     "data": {
      "text/plain": [
       "<matplotlib.legend.Legend at 0x7fa07c719bb0>"
      ]
     },
     "execution_count": 10,
     "metadata": {},
     "output_type": "execute_result"
    },
    {
     "data": {
      "image/png": "[encoded data removed]",
      "text/plain": [
       "<Figure size 432x288 with 1 Axes>"
      ]
     },
     "metadata": {
      "needs_background": "light"
     },
     "output_type": "display_data"
    }
   ],
   "source": [
    "plt.plot(np.sign(dmdcoeff[:,0]), label='DMD',color='blue')\n",
    "plt.plot(-np.sign(V_L_B[:,1]), label='Ground Truth',color='orange')\n",
    "plt.legend()"
   ]
  },
  {
   "cell_type": "code",
   "execution_count": 11,
   "metadata": {},
   "outputs": [
    {
     "data": {
      "text/plain": [
       "51.02040816326531"
      ]
     },
     "execution_count": 11,
     "metadata": {},
     "output_type": "execute_result"
    }
   ],
   "source": [
    "accuracy"
   ]
  },
  {
   "cell_type": "code",
   "execution_count": 12,
   "metadata": {},
   "outputs": [
    {
     "data": {
      "text/plain": [
       "<matplotlib.legend.Legend at 0x7fa04822c580>"
      ]
     },
     "execution_count": 12,
     "metadata": {},
     "output_type": "execute_result"
    },
    {
     "data": {
      "image/png": "[encoded data removed]",
      "text/plain": [
       "<Figure size 432x288 with 1 Axes>"
      ]
     },
     "metadata": {
      "needs_background": "light"
     },
     "output_type": "display_data"
    }
   ],
   "source": [
    "plt.plot(dmdcoeff[:,0], label='DMD',color='blue')\n",
    "plt.plot(V_L_B[:,1], label='Ground Truth',color='orange')\n",
    "plt.legend()"
   ]
  },
  {
   "cell_type": "code",
   "execution_count": 13,
   "metadata": {},
   "outputs": [
    {
     "data": {
      "text/plain": [
       "0.009383817550521202"
      ]
     },
     "execution_count": 13,
     "metadata": {},
     "output_type": "execute_result"
    }
   ],
   "source": [
    "np.mean(dmdcoeff[:,0]-V_L_B[:,1])"
   ]
  },
  {
   "cell_type": "code",
   "execution_count": 14,
   "metadata": {},
   "outputs": [
    {
     "data": {
      "text/plain": [
       "array([ 7.69073722e-05, -5.21081964e-06,  4.56897699e-06,  9.02515125e-06,\n",
       "        1.59898427e-05, -8.26916595e-06,  1.99022635e-05,  8.75519513e-04,\n",
       "        4.83359005e-06,  5.31173460e-05, -4.44731850e-04, -1.81301803e-04,\n",
       "       -6.63869131e-05,  3.02353636e-05,  1.21604055e-04, -6.13099724e-05,\n",
       "       -8.29282705e-04,  1.97714314e-05,  2.12477516e-05,  2.61440609e-04,\n",
       "       -2.02883521e-05,  3.07490919e-05, -3.85113993e-06,  6.94935188e-05,\n",
       "        2.96743407e-05, -3.65630807e-04, -6.25903801e-06,  6.61768796e-06,\n",
       "       -6.70326453e-06, -1.57714748e-05,  1.89586901e-05,  6.87321224e-06,\n",
       "       -3.11328069e-05,  9.00729511e-06,  3.42812017e-05,  1.46650920e-04,\n",
       "       -2.68484457e-06, -5.90822241e-06, -2.49364578e-05, -5.80595685e-04,\n",
       "       -1.51407106e-05, -9.21998845e-05,  1.11674304e-05,  2.29617185e-05,\n",
       "       -3.37719104e-07, -1.35435486e-04, -5.45368217e-05, -1.45071346e-05,\n",
       "       -6.17480661e-05])"
      ]
     },
     "execution_count": 14,
     "metadata": {},
     "output_type": "execute_result"
    }
   ],
   "source": [
    "dmdcoeff[:,0]"
   ]
  }
 ],
 "metadata": {
  "kernelspec": {
   "display_name": "base",
   "language": "python",
   "name": "python3"
  },
  "language_info": {
   "codemirror_mode": {
    "name": "ipython",
    "version": 3
   },
   "file_extension": ".py",
   "mimetype": "text/x-python",
   "name": "python",
   "nbconvert_exporter": "python",
   "pygments_lexer": "ipython3",
   "version": "3.9.7"
  },
  "orig_nbformat": 4
 },
 "nbformat": 4,
 "nbformat_minor": 2
}
