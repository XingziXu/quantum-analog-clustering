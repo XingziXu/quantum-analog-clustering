{
 "cells": [
  {
   "cell_type": "code",
<<<<<<< HEAD
   "execution_count": 1,
=======
   "execution_count": 102,
>>>>>>> refs/remotes/origin/main
   "id": "51b635ac-eb6b-4463-8ee0-5b8aa80ccb12",
   "metadata": {
    "tags": []
   },
   "outputs": [
    {
     "data": {
      "text/plain": [
       "'\\nif not (\\n    version.parse(qiskit.__qiskit_version__[\"qiskit-terra\"]) >= version.parse(\"0.22\")\\n):\\n    print(\\n        \"Incorrect dependencies. Found qiskit-terra: \"\\n        + qiskit.__qiskit_version__[\"qiskit-terra\"]\\n        + \"\\nNeed qiskit-terra >= 0.22\"\\n    )\\n\\ntry:\\n    import qiskit_ibm_provider\\nexcept ModuleNotFoundError:\\n    print(\\n        \"You must install the qiskit_ibm_provider with \\'pip install qiskit_ibm_provider\\'\"\\n    )\\n    raise\\n'"
      ]
     },
<<<<<<< HEAD
     "execution_count": 1,
=======
     "execution_count": 102,
>>>>>>> refs/remotes/origin/main
     "metadata": {},
     "output_type": "execute_result"
    }
   ],
   "source": [
    "# Running checks for the correct dependencies\n",
    "import qiskit\n",
    "from packaging import version\n",
    "\"\"\"\n",
    "if not (\n",
    "    version.parse(qiskit.__qiskit_version__[\"qiskit-terra\"]) >= version.parse(\"0.22\")\n",
    "):\n",
    "    print(\n",
    "        \"Incorrect dependencies. Found qiskit-terra: \"\n",
    "        + qiskit.__qiskit_version__[\"qiskit-terra\"]\n",
    "        + \"\\nNeed qiskit-terra >= 0.22\"\n",
    "    )\n",
    "\n",
    "try:\n",
    "    import qiskit_ibm_provider\n",
    "except ModuleNotFoundError:\n",
    "    print(\n",
    "        \"You must install the qiskit_ibm_provider with 'pip install qiskit_ibm_provider'\"\n",
    "    )\n",
    "    raise\n",
    "\"\"\""
   ]
  },
  {
   "cell_type": "code",
<<<<<<< HEAD
   "execution_count": 2,
=======
   "execution_count": 103,
>>>>>>> refs/remotes/origin/main
   "id": "323a2080-daeb-44de-a66c-5c47e10b361f",
   "metadata": {
    "tags": []
   },
   "outputs": [],
   "source": [
    "from qiskit_dynamics.solvers import Solver\n",
    "import numpy as np\n",
    "import pandas as pd\n",
    "import scipy.io\n",
    "import scipy as sp\n",
    "import matplotlib.pyplot as plt\n",
    "import math\n",
    "import numpy.linalg as la\n",
    "import qiskit_dynamics\n",
    "from scipy.optimize import leastsq\n",
    "import networkx as nx\n",
<<<<<<< HEAD
    "from qiskit.quantum_info import Operator\n",
    "from qiskit.quantum_info.states import Statevector"
=======
    "\n",
    "#backend = provider.get_backend('ibmq_qasm_simulator')"
>>>>>>> refs/remotes/origin/main
   ]
  },
  {
   "cell_type": "code",
<<<<<<< HEAD
   "execution_count": 3,
=======
   "execution_count": 104,
>>>>>>> refs/remotes/origin/main
   "id": "466a6f03-5136-4533-88ab-3eb2b4a61d5e",
   "metadata": {
    "tags": []
   },
<<<<<<< HEAD
   "outputs": [
    {
     "data": {
      "text/plain": [
       "'\\ndef graph_clustering_static(u, d_L, v_inds, Nrows, case, base, node_num=[0]):\\n    n_inds = len(v_inds)\\n    (N, T) = u.shape\\n    Ncols = T + 1 - Nrows\\n    dominant_freqs = np.zeros((N, n_inds))\\n\\n    # generate input matrices\\n    XX = np.zeros((Nrows, Ncols))\\n\\n    dmdcoeff = np.zeros((N, n_inds))\\n    for i in range(N):\\n        # DMD\\n        for jj in range(Nrows):\\n            XX[jj, :] = u[i, jj:jj + Ncols]\\n\\n        X = XX[:, :-1]\\n        Y = XX[:, 1:]\\n        (d, V) = dmd(X, Y, svThresh=1.e-7, num_itr=1000)\\n        freq = np.angle(d[:5])\\n        # print(f\"Node {i} DMD Freq: {freq}\")\\n\\n        if i in node_num:\\n            # printVector(d.real, f\\'Node{i + 1}_d_{case}\\')\\n            eigenvalues = np.append(np.reshape(d.real, (1, -1)), np.reshape(d.imag, (1, -1)), axis=0)\\n            df_real = pd.DataFrame(eigenvalues, index=[\"real\", \"imag\"])\\n            df_real.to_csv(f\"/Users/xingzixu/clustering/canonical/wave/result/output_{base}/eigenvalues_{case}.csv\")\\n\\n            # plot eigen modes\\n            plt.figure()\\n            plt.plot(np.real(V[:, 0]), \\'-o\\')\\n            plt.plot(np.real(V[:, 1]), \\'-s\\')\\n            plt.plot(np.real(V[:, 2]), \\'v-.\\')\\n            plt.plot(np.real(V[:, 3]), \\'^:\\')\\n            plt.plot(np.real(V[:, 4]), \\'*--\\')\\n            plt.xlabel(\"k\")\\n            plt.tight_layout()\\n            plt.savefig(f\"/Users/xingzixu/clustering/canonical/wave/figure/plots_{base}/modes_real_{case}_node{i + 1}.png\")\\n            plt.close()\\n\\n            plt.figure()\\n            plt.plot(np.imag(V[:, 0]), \\'-o\\')\\n            plt.plot(np.imag(V[:, 1]), \\'-s\\')\\n            plt.plot(np.imag(V[:, 2]), \\'v-.\\')\\n            plt.plot(np.imag(V[:, 3]), \\'^:\\')\\n            plt.plot(np.imag(V[:, 4]), \\'*--\\')\\n            plt.xlabel(\"k\")\\n            plt.tight_layout()\\n            plt.savefig(f\"/Users/xingzixu/clustering/canonical/wave/figure/plots_{base}/modes_imag_{case}_node{i + 1}.png\")\\n            plt.close()\\n\\n            # plot eigenvalues\\n            plt.figure()\\n            plt.plot(np.real(d_L), np.imag(d_L), \\'s\\', alpha=0.8, label=\\'exact\\')\\n            plt.plot(np.real(d), np.imag(d), \\'o\\', alpha=0.8, label=\\'DMD\\')\\n            plt.xlabel(\\'Real\\')\\n            plt.ylabel(\\'Imag\\')\\n            plt.legend()\\n            plt.xlim([-1.2, 1.2])\\n            plt.ylim([-1.2, 1.2])\\n            plt.axis(\\'equal\\')\\n            plt.tight_layout()\\n            plt.savefig(f\"/Users/xingzixu/clustering/canonical/wave/figure/plots_{base}/eigenvalues_{case}_node{i + 1}.png\")\\n            plt.close()\\n\\n        # compute coefficients proportional to kth Laplacian eigenvector\\n        for k_ind, v_ind in enumerate(v_inds):\\n            # v_ind2 = v_ind * 2 - 1\\n            v_ind0 = np.where(np.angle(d) > 1.e-6)[0]\\n            v_ind1 = np.argmin(np.angle(d[v_ind0]))\\n            v_ind2 = v_ind0[v_ind1]\\n            dmdcoeff[i, k_ind] = np.real(sp.linalg.lstsq(V, X[:, 0])[0][v_ind2] * V[0, v_ind2])\\n            dominant_freqs[i, k_ind] = np.angle(d[v_ind2])\\n\\n    return dmdcoeff, dominant_freqs'"
      ]
     },
     "execution_count": 3,
     "metadata": {},
     "output_type": "execute_result"
    }
   ],
=======
   "outputs": [],
>>>>>>> refs/remotes/origin/main
   "source": [
    "def power_iteration(A, num_iterations: int):\n",
    "    # Ideally choose a random vector\n",
    "    # To decrease the chance that our vector\n",
    "    # Is orthogonal to the eigenvector\n",
    "    b_k = np.random.rand(A.shape[1])\n",
    "    for _ in range(num_iterations):\n",
    "        # calculate the matrix-by-vector product Ab\n",
    "        b_k1 = np.dot(A, b_k)\n",
    "        # calculate the norm\n",
    "        b_k1_norm = np.linalg.norm(b_k1)\n",
    "        # re normalize the vector\n",
    "        b_k = b_k1 / b_k1_norm\n",
    "    return b_k\n",
    "\n",
    "def svd_power(X, num_itr):\n",
    "    A = X.T @ X\n",
    "    N = A.shape[0]\n",
    "    mu = np.zeros(N)\n",
    "    V = np.zeros_like(A)\n",
    "    \n",
    "    for i in range(0, N):\n",
    "        bk = power_iteration(A, num_itr)\n",
    "        bk = bk.reshape(bk.shape[0],1)\n",
    "        muk = ((bk.T @ A @ bk) / (bk.T @ bk)).squeeze()\n",
    "        mu[i] = muk\n",
    "        #print(muk)\n",
    "        tempA = A-muk*np.eye(N)\n",
    "        #print(tempA)\n",
    "        b = tempA[:, 0].copy()\n",
    "        vk = np.linalg.lstsq(tempA[:, 1:], -b)[0]\n",
    "        vk = np.r_[1, vk]\n",
    "        #print(vk)\n",
    "        vk /= np.linalg.norm(vk)\n",
    "        V[:,i] = vk\n",
    "        vk = vk.reshape(N,1)\n",
<<<<<<< HEAD
    "        A = A - vk @ vk.T @ A @ vk @ vk.T # Hotelling's deflation\n",
    "        #A = (np.eye(A.shape[0]) - vk @ vk.T) @ A @ (np.eye(A.shape[0]) - vk @ vk.T) # projection deflation\n",
    "        #A = A - (A @ vk @ vk.T @ A)/(vk.T @ A @ vk) # Schur's complement deflation\n",
    "        #if i == 0: # orthogonized Hotelling's deflation\n",
    "        #        qk = vk\n",
    "        #        A = A - qk @ qk.T @ A @ qk @ qk.T\n",
    "        #        Qk = vk\n",
    "        #else:\n",
    "        #        qk = (np.eye(A.shape[0]) - Qk @ Qk.T) @ vk\n",
    "        #        qk = qk / la.norm(qk)\n",
    "        #        A = A - qk @ qk.T @ A @ qk @ qk.T\n",
    "        #        Qk = np.concatenate((Qk,qk), axis=1)\n",
    "    return mu, V.T\n",
    "\n",
    "\"\"\"\n",
    "def dmd(X, Y, num_itr=500, mode='exact', svThresh=1.e-10, which=\"LM\"):\n",
    "    '''\n",
    "    Exact and standard DMD of the data matrices X and Y.\n",
    "\n",
    "    :param mode: 'exact' for exact DMD or 'standard' for standard DMD\n",
    "    :return:     eigenvalues d and modes Phi\n",
    "    '''\n",
    "    U, s, Vt = sp.linalg.svd(X, full_matrices=False)\n",
    "    # remove zeros from s\n",
    "    s = s[s > svThresh]\n",
    "    r = len(s)\n",
    "    U = U[:, :r]\n",
    "    Vt = Vt[:r, :]\n",
    "    S_inv = sp.diag(1/s)\n",
    "    A = U.T @ Y @ Vt.T @ S_inv\n",
    "    # d, W = sortEig(A, A.shape[0])\n",
    "    # d, W = sortEig(A, r)\n",
    "    n = A.shape[0]\n",
    "    if r < n:\n",
    "        d, W = sp.sparse.linalg.eigs(A, r, which=which)\n",
    "    else:\n",
    "        d, V = sp.linalg.eig(A)\n",
    "        ind = d.argsort()[::-1]\n",
    "        d = d[ind]\n",
    "        W = V[:, ind]\n",
    "\n",
    "    if mode == 'exact':\n",
    "        Phi = Y @ Vt.T @ S_inv @ W @ sp.diag(1/d)\n",
    "    elif mode == 'standard':\n",
    "        Phi = U @ W\n",
    "    elif mode == 'eigenvector':\n",
    "        Phi = W\n",
    "    else:\n",
    "        raise ValueError('Only exact and standard DMD available.')\n",
    "\n",
    "    return d, Phi\n",
    "\"\"\"\n",
    "def dmd(X, Y, num_itr=500, mode='exact', svThresh=1.e-10, which=\"LM\"):\n",
=======
    "        A = A - vk @ vk.T @ A @ vk @ vk.T\n",
    "    return mu, V.T\n",
    "\n",
    "def dmd(X, Y, num_itr, mode='exact', svThresh=1.e-10, which=\"LM\"):\n",
>>>>>>> refs/remotes/origin/main
    "    '''\n",
    "    Exact and standard DMD of the data matrices X and Y.\n",
    "\n",
    "    :param mode: 'exact' for exact DMD or 'standard' for standard DMD\n",
    "    :return:     eigenvalues d and modes Phi\n",
    "    '''\n",
    "    \n",
    "    s, Vt = svd_power(X=X, num_itr=num_itr) # the cols of V are the corresponding eigenvectors, since XTX=XXT, we havce V=U.T\n",
<<<<<<< HEAD
    "    #_, s, Vt = np.linalg.svd(X, full_matrices=True)\n",
    "    #s = np.square(s)\n",
=======
>>>>>>> refs/remotes/origin/main
    "    \n",
    "    s[s<0] = 0\n",
    "    s = np.sqrt(s)\n",
    "    #U = Vt.T\n",
    "    \n",
    "    #U, s, Vt = sp.linalg.svd(X, full_matrices=False)\n",
    "    #mask_U = np.random.random(U.shape[0]) >= 0.5\n",
    "    #mask_V = np.random.random(U.shape[0]) >= 0.5\n",
    "    #U[:,mask_U] = U[:,mask_U] * (-1)\n",
    "    #Vt[mask_V,:] = Vt[mask_V,:] * (-1)\n",
    "    #Vt = U.T\n",
    "    \n",
    "    # remove zeros from s\n",
    "    s = s[s > svThresh]\n",
    "    r = len(s)\n",
    "    #U = U[:, :r]\n",
    "    Vt = Vt[:r, :]\n",
    "    U = X @ la.pinv(Vt) @ np.diag(1/s)\n",
    "    S_inv = np.diag(1/s)\n",
<<<<<<< HEAD
    "    A = U.conj().T @ Y @ Vt.conj().T @ S_inv\n",
=======
    "    A = U.T @ Y @ Vt.T @ S_inv\n",
>>>>>>> refs/remotes/origin/main
    "    # d, W = sortEig(A, A.shape[0])\n",
    "    # d, W = sortEig(A, r)\n",
    "    n = A.shape[0]\n",
    "    if r < n:\n",
    "        d, W = sp.sparse.linalg.eigs(A, r, which=which)\n",
    "    else:\n",
    "        d, V = sp.linalg.eig(A)\n",
    "        ind = d.argsort()[::-1]\n",
    "        d = d[ind]\n",
    "        W = V[:, ind]\n",
    "\n",
    "    if mode == 'exact':\n",
    "        Phi = Y @ Vt.T @ S_inv @ W @ np.diag(1/d)\n",
    "    elif mode == 'standard':\n",
    "        Phi = U @ W\n",
    "    elif mode == 'eigenvector':\n",
    "        Phi = W\n",
    "    else:\n",
    "        raise ValueError('Only exact and standard DMD available.')\n",
    "\n",
    "    return d, Phi\n",
    "\n",
    "def degree_vector(AdjM):\n",
    "    D = np.sum(AdjM, axis=1)\n",
    "    return D\n",
    "\n",
    "def graph_laplacian_eigs_sym(AdjM, N, evs):\n",
    "    D_nsqrt = np.diag(np.power(degree_vector(AdjM), -0.5))\n",
    "    L = np.eye(N) - D_nsqrt @ AdjM @ D_nsqrt\n",
    "    #L = -L\n",
    "    # eigen system of static graph\n",
    "    I = np.eye(N=N)\n",
    "    # assemble M = [I * 2 + 2*L, -I; I, 0*I]\n",
    "    M = np.concatenate((np.concatenate((I * 2 + 2 * L, -I), axis=1), np.concatenate((I, 0 * I), axis=1)), axis=0)\n",
    "    (d_M, V_M) = sp.sparse.linalg.eigs(M, M.shape[0], which=\"LM\")\n",
    "    (d_L, V_L) = sp.sparse.linalg.eigs(L, evs, which=\"SM\")\n",
    "    # print(d_L)\n",
    "    return L, d_M, V_M, d_L, V_L\n",
    "\n",
    "def graph_laplacian_eigs(AdjM, N, evs):\n",
<<<<<<< HEAD
    "    L = np.zeros((N, N))\n",
    "    for ii in range(N):\n",
    "        L[ii, :] = AdjM[ii, :]/np.sum(AdjM[ii, :])\n",
    "        L[ii, ii] = -1\n",
    "\n",
=======
    "    D = degree_vector(AdjM)\n",
    "    L = np.eye(N) - np.diag(1/D) @ AdjM\n",
    "    L = -L\n",
    "    #L = np.zeros((N, N))\n",
    "    #for ii in range(N):\n",
    "    #    L[ii, :] = AdjM[ii, :]/np.sum(AdjM[ii, :])\n",
    "    #    L[ii, ii] = -1\n",
    "\n",
    "    #print(L-L1)\n",
>>>>>>> refs/remotes/origin/main
    "    # eigen system of static graph\n",
    "    I = np.eye(N=N)\n",
    "    # assemble M = [I * 2 + 2*L, -I; I, 0*I]\n",
    "    M = np.concatenate((np.concatenate((I * 2 + 2 * L, -I), axis=1), np.concatenate((I, 0 * I), axis=1)), axis=0)\n",
    "    (d_M, V_M) = sp.sparse.linalg.eigs(M, M.shape[0], which=\"LM\")\n",
    "    (d_L, V_L) = sp.sparse.linalg.eigs(L, evs, which=\"SM\")\n",
    "    # print(d_L)\n",
    "    return L, d_M, V_M, d_L, V_L\n",
    "\n",
    "def generate_time_sequece(L, N, T, v=0):\n",
    "    # initialize time series\n",
    "    u = np.zeros((N, T + 1))\n",
    "    # initialize u(0) and set u(1)=u(0)\n",
    "    for ii in range(N):\n",
    "        u[ii, 0] = np.random.rand(1, 1)\n",
    "        u[ii, 1] = u[ii, 0] + v * np.random.rand(1, 1)\n",
    "    # df_u = pd.DataFrame(u[:, 0], columns=[\"u\"])\n",
    "    # df_u.to_csv(\"u_init.csv\", index=False)\n",
<<<<<<< HEAD
    "    c = np.sqrt(2.) - 1.e-6\n",
=======
    "    c = np.sqrt(1.) - 1.e-6\n",
>>>>>>> refs/remotes/origin/main
    "\n",
    "    # generate time sequence for each node\n",
    "    for tt in range(1, T):\n",
    "        # for kk in range(N):\n",
    "        #     tmp = 0\n",
    "        #     for ll in range(N):\n",
    "        #         if L[kk, ll]:\n",
    "        #             tmp += L[kk, ll] * u[ll, tt]\n",
    "        #     u[kk, tt+1] = 2.*u[kk, tt] - u[kk, tt-1] + c**2*tmp\n",
    "        u[:, tt + 1] = 2. * u[:, tt] - u[:, tt - 1] + c ** 2 * L @ u[:, tt]\n",
    "    return u\n",
    "\n",
    "def wave_dyn(T, N, solver, B):\n",
    "    #Nrows = N\n",
    "    #Ncols = N+1\n",
    "    #T = Nrows + Ncols\n",
    "\n",
    "    # Neumann initial condition\n",
    "    u0 = np.concatenate((np.random.rand(B.shape[0]),np.zeros(B.shape[1])))\n",
    "    ut = np.zeros((N, T),dtype=np.complex_)\n",
    "    ut[:,0] = u0[:N]\n",
    "\n",
    "    for i in range(1, T):\n",
    "        t_span = np.array([0., i])\n",
    "        ut[:,i] = solver.solve(t_span=t_span, y0=u0).y[-1,:N]\n",
    "    return ut\n",
    "\n",
<<<<<<< HEAD
    "def graph_clustering_static(u, d_M, v_inds, Nrows, case, base, node_num=[0]):\n",
    "    n_inds = len(v_inds)\n",
    "    (N, T) = u.shape\n",
    "    Ncols = T + 1 - Nrows\n",
    "    dominant_freqs = np.zeros((N, n_inds))\n",
    "\n",
    "    # generate input matrices\n",
    "    XX = np.zeros((Nrows, Ncols))\n",
    "\n",
    "    dmdcoeff = np.zeros((N, n_inds))\n",
    "    for i in range(N):\n",
    "        # DMD\n",
    "        for jj in range(Nrows):\n",
    "            XX[jj, :] = u[i, jj:jj + Ncols]\n",
    "\n",
    "        X = XX[:, :-1]\n",
    "        Y = XX[:, 1:]\n",
    "        (d, V) = dmd(X, Y, svThresh=1.e-5, num_itr=2000)\n",
    "        freq = np.angle(d[:5])\n",
    "        # print(f\"Node {i} DMD Freq: {freq}\")\n",
    "\n",
    "        if i in node_num:\n",
    "            # printVector(d.real, f'Node{i + 1}_d_{case}')\n",
    "            eigenvalues = np.append(np.reshape(d.real, (1, -1)), np.reshape(d.imag, (1, -1)), axis=0)\n",
    "            df_real = pd.DataFrame(eigenvalues, index=[\"real\", \"imag\"])\n",
    "            df_real.to_csv(f\"/Users/xingzixu/clustering/canonical/wave/result/output_{base}/eigenvalues_{case}.csv\")\n",
    "\n",
    "            # plot eigen modes\n",
    "            plt.figure()\n",
    "            plt.plot(np.real(V[:, 0]), '-o')\n",
    "            plt.plot(np.real(V[:, 1]), '-s')\n",
    "            plt.plot(np.real(V[:, 2]), 'v-.')\n",
    "            plt.plot(np.real(V[:, 3]), '^:')\n",
    "            plt.plot(np.real(V[:, 4]), '*--')\n",
    "            plt.xlabel(\"k\")\n",
    "            plt.tight_layout()\n",
    "            plt.savefig(f\"/Users/xingzixu/clustering/canonical/wave/figure/plots_{base}/modes_real_{case}_node{i + 1}.png\")\n",
    "            plt.close()\n",
    "\n",
    "            plt.figure()\n",
    "            plt.plot(np.imag(V[:, 0]), '-o')\n",
    "            plt.plot(np.imag(V[:, 1]), '-s')\n",
    "            plt.plot(np.imag(V[:, 2]), 'v-.')\n",
    "            plt.plot(np.imag(V[:, 3]), '^:')\n",
    "            plt.plot(np.imag(V[:, 4]), '*--')\n",
    "            plt.xlabel(\"k\")\n",
    "            plt.tight_layout()\n",
    "            plt.savefig(f\"/Users/xingzixu/clustering/canonical/wave/figure/plots_{base}/modes_imag_{case}_node{i + 1}.png\")\n",
    "            plt.close()\n",
    "\n",
    "            # plot eigenvalues\n",
    "            plt.figure()\n",
    "            plt.plot(np.real(d_M), np.imag(d_M), 's', alpha=0.8, label='exact')\n",
    "            plt.plot(np.real(d), np.imag(d), 'o', alpha=0.8, label='DMD')\n",
    "            plt.xlabel('Real')\n",
    "            plt.ylabel('Imag')\n",
    "            plt.legend()\n",
    "            plt.xlim([-1.2, 1.2])\n",
    "            plt.ylim([-1.2, 1.2])\n",
    "            plt.axis('equal')\n",
    "            plt.tight_layout()\n",
    "            plt.savefig(f\"/Users/xingzixu/clustering/canonical/wave/figure/plots_{base}/eigenvalues_{case}_node{i + 1}.png\")\n",
    "            plt.close()\n",
    "\n",
    "        # compute coefficients proportional to kth Laplacian eigenvector\n",
    "        for k_ind, v_ind in enumerate(v_inds):\n",
    "            # v_ind2 = v_ind * 2 - 1\n",
    "            v_ind0 = np.where(np.angle(d) > 1.e-6)[0]\n",
    "            v_ind1 = np.argmin(np.angle(d[v_ind0]))\n",
    "            v_ind2 = v_ind0[v_ind1]\n",
    "            dmdcoeff[i, k_ind] = np.real(sp.linalg.lstsq(V, X[:, 0])[0][v_ind2] * V[0, v_ind2])\n",
    "            dominant_freqs[i, k_ind] = np.angle(d[v_ind2])\n",
    "\n",
    "    return dmdcoeff, dominant_freqs\n",
    "\"\"\"\n",
=======
>>>>>>> refs/remotes/origin/main
    "def graph_clustering_static(u, d_L, v_inds, Nrows, case, base, node_num=[0]):\n",
    "    n_inds = len(v_inds)\n",
    "    (N, T) = u.shape\n",
    "    Ncols = T + 1 - Nrows\n",
    "    dominant_freqs = np.zeros((N, n_inds))\n",
    "\n",
    "    # generate input matrices\n",
    "    XX = np.zeros((Nrows, Ncols))\n",
    "\n",
    "    dmdcoeff = np.zeros((N, n_inds))\n",
    "    for i in range(N):\n",
    "        # DMD\n",
    "        for jj in range(Nrows):\n",
    "            XX[jj, :] = u[i, jj:jj + Ncols]\n",
    "\n",
    "        X = XX[:, :-1]\n",
    "        Y = XX[:, 1:]\n",
<<<<<<< HEAD
    "        (d, V) = dmd(X, Y, svThresh=1.e-7, num_itr=1000)\n",
=======
    "        (d, V) = dmd(X, Y, svThresh=1.e-5, num_itr=2000)\n",
>>>>>>> refs/remotes/origin/main
    "        freq = np.angle(d[:5])\n",
    "        # print(f\"Node {i} DMD Freq: {freq}\")\n",
    "\n",
    "        if i in node_num:\n",
    "            # printVector(d.real, f'Node{i + 1}_d_{case}')\n",
    "            eigenvalues = np.append(np.reshape(d.real, (1, -1)), np.reshape(d.imag, (1, -1)), axis=0)\n",
    "            df_real = pd.DataFrame(eigenvalues, index=[\"real\", \"imag\"])\n",
    "            df_real.to_csv(f\"/Users/xingzixu/clustering/canonical/wave/result/output_{base}/eigenvalues_{case}.csv\")\n",
    "\n",
    "            # plot eigen modes\n",
    "            plt.figure()\n",
    "            plt.plot(np.real(V[:, 0]), '-o')\n",
    "            plt.plot(np.real(V[:, 1]), '-s')\n",
    "            plt.plot(np.real(V[:, 2]), 'v-.')\n",
    "            plt.plot(np.real(V[:, 3]), '^:')\n",
    "            plt.plot(np.real(V[:, 4]), '*--')\n",
    "            plt.xlabel(\"k\")\n",
    "            plt.tight_layout()\n",
    "            plt.savefig(f\"/Users/xingzixu/clustering/canonical/wave/figure/plots_{base}/modes_real_{case}_node{i + 1}.png\")\n",
    "            plt.close()\n",
    "\n",
    "            plt.figure()\n",
    "            plt.plot(np.imag(V[:, 0]), '-o')\n",
    "            plt.plot(np.imag(V[:, 1]), '-s')\n",
    "            plt.plot(np.imag(V[:, 2]), 'v-.')\n",
    "            plt.plot(np.imag(V[:, 3]), '^:')\n",
    "            plt.plot(np.imag(V[:, 4]), '*--')\n",
    "            plt.xlabel(\"k\")\n",
    "            plt.tight_layout()\n",
    "            plt.savefig(f\"/Users/xingzixu/clustering/canonical/wave/figure/plots_{base}/modes_imag_{case}_node{i + 1}.png\")\n",
    "            plt.close()\n",
    "\n",
    "            # plot eigenvalues\n",
    "            plt.figure()\n",
    "            plt.plot(np.real(d_L), np.imag(d_L), 's', alpha=0.8, label='exact')\n",
    "            plt.plot(np.real(d), np.imag(d), 'o', alpha=0.8, label='DMD')\n",
    "            plt.xlabel('Real')\n",
    "            plt.ylabel('Imag')\n",
    "            plt.legend()\n",
    "            plt.xlim([-1.2, 1.2])\n",
    "            plt.ylim([-1.2, 1.2])\n",
    "            plt.axis('equal')\n",
    "            plt.tight_layout()\n",
    "            plt.savefig(f\"/Users/xingzixu/clustering/canonical/wave/figure/plots_{base}/eigenvalues_{case}_node{i + 1}.png\")\n",
    "            plt.close()\n",
    "\n",
    "        # compute coefficients proportional to kth Laplacian eigenvector\n",
    "        for k_ind, v_ind in enumerate(v_inds):\n",
    "            # v_ind2 = v_ind * 2 - 1\n",
    "            v_ind0 = np.where(np.angle(d) > 1.e-6)[0]\n",
    "            v_ind1 = np.argmin(np.angle(d[v_ind0]))\n",
    "            v_ind2 = v_ind0[v_ind1]\n",
    "            dmdcoeff[i, k_ind] = np.real(sp.linalg.lstsq(V, X[:, 0])[0][v_ind2] * V[0, v_ind2])\n",
    "            dominant_freqs[i, k_ind] = np.angle(d[v_ind2])\n",
    "\n",
<<<<<<< HEAD
    "    return dmdcoeff, dominant_freqs\"\"\""
=======
    "    return dmdcoeff, dominant_freqs"
>>>>>>> refs/remotes/origin/main
   ]
  },
  {
   "cell_type": "code",
<<<<<<< HEAD
   "execution_count": 4,
   "id": "675f8b9a-59ad-43c6-b7c2-8d704990b6ba",
   "metadata": {},
   "outputs": [
    {
     "name": "stdout",
     "output_type": "stream",
     "text": [
      "DMD_karate_T219_rows110\n"
     ]
    },
    {
     "data": {
      "text/plain": [
       "'G = nx.Graph()\\nfor idx,row in enumerate(edge):\\n    #edge[idx,:] = np.asarray(np.char.split(row.astype(np.str_))[0]).astype(np.int_)\\n    G.add_edge(edge[idx,0], edge[idx,1])'"
      ]
     },
     "execution_count": 4,
=======
   "execution_count": 105,
   "id": "0e6aa1ae-5fd8-48bd-96b2-27024e3f5046",
   "metadata": {
    "tags": []
   },
   "outputs": [],
   "source": [
    "np.random.seed(1234)\n",
    "plt.rcParams.update({\"font.size\": 28, \"lines.linewidth\": 3})\n"
   ]
  },
  {
   "cell_type": "code",
   "execution_count": 106,
   "id": "675f8b9a-59ad-43c6-b7c2-8d704990b6ba",
   "metadata": {},
   "outputs": [],
   "source": [
    "# load graph data\n",
    "edge = pd.read_csv(r'/Users/xingzixu/clustering/canonical/schr/data/facebook_combined.txt', sep=' ')\n",
    "edge = np.asarray(edge)\n",
    "G = nx.Graph()\n",
    "for idx,row in enumerate(edge):\n",
    "    #edge[idx,:] = np.asarray(np.char.split(row.astype(np.str_))[0]).astype(np.int_)\n",
    "    G.add_edge(edge[idx,0], edge[idx,1])\n"
   ]
  },
  {
   "cell_type": "code",
   "execution_count": 107,
   "id": "f2bdf0c2",
   "metadata": {},
   "outputs": [],
   "source": [
    "# number of nodes we are concerned with\n",
    "#max_num_node = np.max(edge)\n",
    "num_node = 50#np.max(edge)\n",
    "#node_numbers = np.random.choice(range(max_num_node), num_node, replace=False)\n",
    "\n",
    "evs = 3\n",
    "v_inds = range(1, evs)\n",
    "T = num_node *2\n",
    "Nrows = int(T / 2 + 1)\n",
    "base = \"facebook\"\n",
    "case = f\"DMD_karate_T{T}_rows{Nrows}\"\n",
    "#print(case)\n",
    "\n",
    "# Adjacent matrix and Laplacian for static graph\n",
    "G1 = nx.Graph()\n",
    "all_edges=np.array([[0,0]])\n",
    "for i in range(1, num_node):\n",
    "    node_edges = np.array([e for e in G.edges(i)])\n",
    "    node_edges = node_edges[node_edges[:,1]<num_node,:]\n",
    "    all_edges = np.concatenate((all_edges, np.asarray(node_edges)),axis=0)\n",
    "    for node_edge in node_edges:\n",
    "        G1.add_edge(node_edge[0], node_edge[1])\n",
    "\n",
    "all_edges = all_edges[1:,:]\n",
    "AdjM = np.asarray(nx.adjacency_matrix(G1).todense())\n",
    "N = AdjM.shape[0]"
   ]
  },
  {
   "cell_type": "code",
   "execution_count": 108,
   "id": "bd480050",
   "metadata": {},
   "outputs": [],
   "source": [
    "#eval, _ = la.eig(AdjM)"
   ]
  },
  {
   "cell_type": "code",
   "execution_count": 109,
   "id": "3d68e9cf",
   "metadata": {},
   "outputs": [],
   "source": [
    "#plt.scatter(eval.real,np.zeros_like(eval.imag))"
   ]
  },
  {
   "cell_type": "code",
   "execution_count": 110,
   "id": "1dab7b43-0bf6-4570-bf80-bf92f60a66df",
   "metadata": {
    "tags": []
   },
   "outputs": [
    {
     "data": {
      "text/plain": [
       "'L = np.zeros((N, N))\\nfor ii in range(N):\\n    L[ii, :] = AdjM[ii, :]/np.sum(AdjM[ii, :])\\n    L[ii, ii] = -1\\n\\nL1 = np.zeros((N, N))\\nD = np.sum(AdjM, axis=1)\\nL1 = np.eye(N) - np.diag(1/D) @ AdjM\\n#D_nsqrt = np.diag(np.power(degree_vector(AdjM), -0.5))\\n#L = D_nsqrt @ AdjM\\n#L = L @ D_nsqrt\\n#print(D)\\n#print(L)\\nprint(np.sum(abs(L1+L)))'"
      ]
     },
     "execution_count": 110,
>>>>>>> refs/remotes/origin/main
     "metadata": {},
     "output_type": "execute_result"
    }
   ],
   "source": [
<<<<<<< HEAD
    "# load graph data\n",
    "#A = pd.read_csv(r'/Users/xingzixu/clustering/canonical/schr/data/facebook_combined.txt', sep=' ')\n",
    "#A = np.asarray(A)\n",
    "A = pd.read_csv(r'/Users/xingzixu/clustering/canonical/wave/data/congress.edgelist', sep=' ').to_numpy()[:,:2]\n",
    "A = np.asarray(A)\n",
    "num_node = 110 #np.max(edge)\n",
    "#num_node = np.max(A[:, :2]) + 1\n",
    "deflation = 'schur'\n",
    "num_itr = 500\n",
    "\n",
    "A = A[A[:,0]<num_node]\n",
    "A = A[A[:,1]<num_node]\n",
    "# Adjacent matrix and Laplacian for static graph\n",
    "N = np.max(A[:, :2]) \n",
    "\n",
    "np.random.seed(1234)\n",
    "plt.rcParams.update({\"font.size\": 28, \"lines.linewidth\": 3})\n",
    "\n",
    "evs = 3\n",
    "v_inds = range(1, evs)\n",
    "Nrows = num_node\n",
    "T = Nrows * 2 - 1\n",
    "base = \"facebook\"\n",
    "case = f\"DMD_karate_T{T}_rows{Nrows}\"\n",
    "print(case)\n",
    "\n",
=======
    "# what was used in the code is really -L_rw\n",
    "\"\"\"L = np.zeros((N, N))\n",
    "for ii in range(N):\n",
    "    L[ii, :] = AdjM[ii, :]/np.sum(AdjM[ii, :])\n",
    "    L[ii, ii] = -1\n",
    "\n",
    "L1 = np.zeros((N, N))\n",
    "D = np.sum(AdjM, axis=1)\n",
    "L1 = np.eye(N) - np.diag(1/D) @ AdjM\n",
    "#D_nsqrt = np.diag(np.power(degree_vector(AdjM), -0.5))\n",
    "#L = D_nsqrt @ AdjM\n",
    "#L = L @ D_nsqrt\n",
    "#print(D)\n",
    "#print(L)\n",
    "print(np.sum(abs(L1+L)))\"\"\""
   ]
  },
  {
   "cell_type": "code",
   "execution_count": 111,
   "id": "f238409b-9be3-4f2d-8a02-7f9ad5efb82b",
   "metadata": {
    "tags": []
   },
   "outputs": [
    {
     "data": {
      "text/plain": [
       "'# load graph data\\ndata = scipy.io.loadmat(\\'/home/jovyan/clustering/karate.mat\\', squeeze_me=True)\\nfor s in data.keys():\\n    if s[:2] == \\'__\\' and s[-2:] == \\'__\\': continue\\n    exec(\\'%s = data[\"%s\"]\\' % (s, s))\\n# Adjacent matrix and Laplacian for static graph\\nN = np.max(A[:, :2])\\nAdjMt0 = np.zeros((N, N))\\n# AdjMt = np.zeros((N, N))\\nL0 = np.zeros((N, N))\\nfor ii in range(A.shape[0]):\\n    AdjMt0[A[ii, 0] - 1][A[ii, 1] - 1] = 1\\nAdjM = (AdjMt0 + AdjMt0.T) / 2.\\nN = np.max(A[:, :2])\\n'"
      ]
     },
     "execution_count": 111,
     "metadata": {},
     "output_type": "execute_result"
    }
   ],
   "source": [
    "\"\"\"# load graph data\n",
    "data = scipy.io.loadmat('/home/jovyan/clustering/karate.mat', squeeze_me=True)\n",
    "for s in data.keys():\n",
    "    if s[:2] == '__' and s[-2:] == '__': continue\n",
    "    exec('%s = data[\"%s\"]' % (s, s))\n",
    "# Adjacent matrix and Laplacian for static graph\n",
    "N = np.max(A[:, :2])\n",
>>>>>>> refs/remotes/origin/main
    "AdjMt0 = np.zeros((N, N))\n",
    "# AdjMt = np.zeros((N, N))\n",
    "L0 = np.zeros((N, N))\n",
    "for ii in range(A.shape[0]):\n",
    "    AdjMt0[A[ii, 0] - 1][A[ii, 1] - 1] = 1\n",
    "AdjM = (AdjMt0 + AdjMt0.T) / 2.\n",
<<<<<<< HEAD
    "\n",
    "\"\"\"G = nx.Graph()\n",
    "for idx,row in enumerate(edge):\n",
    "    #edge[idx,:] = np.asarray(np.char.split(row.astype(np.str_))[0]).astype(np.int_)\n",
    "    G.add_edge(edge[idx,0], edge[idx,1])\"\"\"\n"
=======
    "N = np.max(A[:, :2])\n",
    "\"\"\""
>>>>>>> refs/remotes/origin/main
   ]
  },
  {
   "cell_type": "code",
<<<<<<< HEAD
   "execution_count": 5,
   "id": "08fedc42",
   "metadata": {},
   "outputs": [
    {
     "data": {
      "text/plain": [
       "'# number of nodes we are concerned with\\nnum_node = 50 #np.max(edge)\\n\\n# Adjacent matrix and Laplacian for static graph\\nG1 = nx.Graph()\\nall_edges=np.array([[0,0]])\\nfor i in range(1, num_node):\\n    node_edges = np.array([e for e in G.edges(i)])\\n    node_edges = node_edges[node_edges[:,1]<num_node,:]\\n    all_edges = np.concatenate((all_edges, np.asarray(node_edges)),axis=0)\\n    for node_edge in node_edges:\\n        G1.add_edge(node_edge[0], node_edge[1])\\n\\nall_edges = all_edges[1:,:]\\nAdjM = np.asarray(nx.adjacency_matrix(G1).todense())\\nN = AdjM.shape[0]'"
      ]
     },
     "execution_count": 5,
     "metadata": {},
     "output_type": "execute_result"
    }
   ],
   "source": [
    "\"\"\"# number of nodes we are concerned with\n",
    "num_node = 50 #np.max(edge)\n",
    "\n",
    "# Adjacent matrix and Laplacian for static graph\n",
    "G1 = nx.Graph()\n",
    "all_edges=np.array([[0,0]])\n",
    "for i in range(1, num_node):\n",
    "    node_edges = np.array([e for e in G.edges(i)])\n",
    "    node_edges = node_edges[node_edges[:,1]<num_node,:]\n",
    "    all_edges = np.concatenate((all_edges, np.asarray(node_edges)),axis=0)\n",
    "    for node_edge in node_edges:\n",
    "        G1.add_edge(node_edge[0], node_edge[1])\n",
    "\n",
    "all_edges = all_edges[1:,:]\n",
    "AdjM = np.asarray(nx.adjacency_matrix(G1).todense())\n",
    "N = AdjM.shape[0]\"\"\""
   ]
  },
  {
   "cell_type": "code",
   "execution_count": 6,
   "id": "f2bdf0c2",
   "metadata": {},
   "outputs": [
    {
     "data": {
      "text/plain": [
       "'\\n# Adjacent matrix and Laplacian for static graph\\nG1 = nx.Graph()\\nall_edges=np.array([[0,0]])\\nfor i in range(1, num_node):\\n    node_edges = np.array([e for e in G.edges(i)])\\n    node_edges = node_edges[node_edges[:,1]<num_node,:]\\n    all_edges = np.concatenate((all_edges, np.asarray(node_edges)),axis=0)\\n    for node_edge in node_edges:\\n        G1.add_edge(node_edge[0], node_edge[1])\\n\\nall_edges = all_edges[1:,:]\\nAdjM = np.asarray(nx.adjacency_matrix(G1).todense())\\nN = AdjM.shape[0]'"
      ]
     },
     "execution_count": 6,
     "metadata": {},
     "output_type": "execute_result"
    }
   ],
   "source": [
    "# number of nodes we are concerned with\n",
    "#max_num_node = np.max(edge)\n",
    "\n",
    "#node_numbers = np.random.choice(range(max_num_node), num_node, replace=False)\n",
    "\n",
    "\"\"\"\n",
    "# Adjacent matrix and Laplacian for static graph\n",
    "G1 = nx.Graph()\n",
    "all_edges=np.array([[0,0]])\n",
    "for i in range(1, num_node):\n",
    "    node_edges = np.array([e for e in G.edges(i)])\n",
    "    node_edges = node_edges[node_edges[:,1]<num_node,:]\n",
    "    all_edges = np.concatenate((all_edges, np.asarray(node_edges)),axis=0)\n",
    "    for node_edge in node_edges:\n",
    "        G1.add_edge(node_edge[0], node_edge[1])\n",
    "\n",
    "all_edges = all_edges[1:,:]\n",
    "AdjM = np.asarray(nx.adjacency_matrix(G1).todense())\n",
    "N = AdjM.shape[0]\"\"\""
   ]
  },
  {
   "cell_type": "code",
   "execution_count": 7,
=======
   "execution_count": 112,
>>>>>>> refs/remotes/origin/main
   "id": "05167cf7-7c45-4081-89ad-7b1e48f18abe",
   "metadata": {
    "tags": []
   },
   "outputs": [],
   "source": [
<<<<<<< HEAD
    "IncMt = np.zeros((N, A.shape[0]))\n",
    "# AdjMt = np.zeros((N, N))\n",
    "for ii in range(0, A.shape[0]):\n",
    "    edge = A[ii,:]\n",
    "    IncMt[edge[0]-1,ii] = -1\n",
    "    IncMt[edge[1]-1,ii] = 1"
   ]
  },
  {
   "cell_type": "code",
   "execution_count": 8,
   "id": "ace2d259",
   "metadata": {},
   "outputs": [
    {
     "name": "stderr",
     "output_type": "stream",
     "text": [
      "/opt/anaconda3/lib/python3.9/site-packages/scipy/sparse/linalg/_eigen/arpack/arpack.py:1272: RuntimeWarning: k >= N - 1 for N * N square matrix. Attempting to use scipy.linalg.eig instead.\n",
      "  warnings.warn(\"k >= N - 1 for N * N square matrix. \"\n",
      "/var/folders/8v/z8r5x7y96zg82dknc14c73y40000gn/T/ipykernel_29444/3452187023.py:178: DeprecationWarning: Conversion of an array with ndim > 0 to a scalar is deprecated, and will error in future. Ensure you extract a single element from your array before performing this operation. (Deprecated NumPy 1.25.)\n",
      "  u[ii, 0] = np.random.rand(1, 1)\n",
      "/var/folders/8v/z8r5x7y96zg82dknc14c73y40000gn/T/ipykernel_29444/3452187023.py:179: DeprecationWarning: Conversion of an array with ndim > 0 to a scalar is deprecated, and will error in future. Ensure you extract a single element from your array before performing this operation. (Deprecated NumPy 1.25.)\n",
      "  u[ii, 1] = u[ii, 0] + v * np.random.rand(1, 1)\n"
     ]
    }
   ],
   "source": [
    "L, d_M, V_M, d_L, V_L = graph_laplacian_eigs(AdjM=AdjM, N=N, evs=evs)\n",
    "u_B = generate_time_sequece(L=L, N=N, T=T)"
   ]
  },
  {
   "cell_type": "code",
   "execution_count": 9,
   "id": "02cfde9f",
   "metadata": {},
   "outputs": [
    {
     "data": {
      "text/plain": [
       "'# calculate the B matrix\\nD_nsqrt = np.diag(np.power(degree_vector(AdjM), -0.5))\\nB = D_nsqrt @ IncMt / np.sqrt(2.)\\n\\n# calculate ground truth eigen value and eigen vector\\nL_B = B @ B.T\\nd_L_B, V_L_B = la.eig(L_B)'"
      ]
     },
     "execution_count": 9,
     "metadata": {},
     "output_type": "execute_result"
    }
   ],
   "source": [
    "\"\"\"# calculate the B matrix\n",
    "D_nsqrt = np.diag(np.power(degree_vector(AdjM), -0.5))\n",
    "B = D_nsqrt @ IncMt / np.sqrt(2.)\n",
    "\n",
    "# calculate ground truth eigen value and eigen vector\n",
    "L_B = B @ B.T\n",
    "d_L_B, V_L_B = la.eig(L_B)\"\"\"\n",
    "\n"
=======
    "# Incidence matrix and Laplacian for static graph\n",
    "\n",
    "IncMt = np.zeros((N, all_edges.shape[0]))\n",
    "# AdjMt = np.zeros((N, N))\n",
    "for ii in range(0, all_edges.shape[0]):\n",
    "    edge_now = all_edges[ii,:]\n",
    "    IncMt[edge_now[0]-1,ii] = -1\n",
    "    IncMt[edge_now[1]-1,ii] = 1\n",
    "#IncMt = np.concatenate((IncMt, 2.j * np.diag(np.sqrt(degree_vector(AdjM)))), axis=1)\n",
    "#IncMt = np.concatenate((IncMt, np.eye(N)), axis=1)"
>>>>>>> refs/remotes/origin/main
   ]
  },
  {
   "cell_type": "code",
<<<<<<< HEAD
   "execution_count": 10,
   "id": "f7df0357-8704-4c37-9883-37d6cabeeb8c",
=======
   "execution_count": 113,
   "id": "442f3533-ce3b-4c11-a190-18a5cc87db60",
>>>>>>> refs/remotes/origin/main
   "metadata": {
    "tags": []
   },
   "outputs": [
    {
     "data": {
      "text/plain": [
<<<<<<< HEAD
       "'# form static Hamiltonian matrix\\nH_static = c * np.concatenate((np.concatenate((np.zeros((B.shape[0],B.shape[0])), B),axis=1),np.concatenate((B.conj().T, np.zeros((B.shape[1],B.shape[1]))),axis=1)), axis=0)\\n\\nhamiltonian = qiskit_dynamics.models.HamiltonianModel(static_operator=H_static)\\n\\n# define Schrodinger equation\\nsolver = Solver(static_hamiltonian = H_static, validate = True)'"
      ]
     },
     "execution_count": 10,
=======
       "'L_un_inc = IncMt @ IncMt.conj().T\\nL_un = np.diag(degree_vector(AdjM)) - AdjM\\nprint(L_un)\\nprint(0.5 * L_un_inc)'"
      ]
     },
     "execution_count": 113,
>>>>>>> refs/remotes/origin/main
     "metadata": {},
     "output_type": "execute_result"
    }
   ],
   "source": [
<<<<<<< HEAD
    "\"\"\"# calculate the B matrix\n",
=======
    "\"\"\"L_un_inc = IncMt @ IncMt.conj().T\n",
    "L_un = np.diag(degree_vector(AdjM)) - AdjM\n",
    "print(L_un)\n",
    "print(0.5 * L_un_inc)\"\"\""
   ]
  },
  {
   "cell_type": "code",
   "execution_count": 114,
   "id": "aa53efa0-99d4-4714-931b-3bdfbed0b55f",
   "metadata": {
    "tags": []
   },
   "outputs": [
    {
     "data": {
      "text/plain": [
       "'D = np.diag(degree_vector(AdjM))\\nD_nsqrt = np.diag(np.power(degree_vector(AdjM), -0.5))\\nB = D_nsqrt @ IncMt\\nL_un_inc = IncMt @ IncMt.conj().T\\nL_un = np.diag(degree_vector(AdjM)) - AdjM\\nL_sym = D_nsqrt @ L_un @ D_nsqrt\\nL_sym_inc = B @ B.T\\nprint(B)\\nprint(0.5 * L_sym_inc)'"
      ]
     },
     "execution_count": 114,
     "metadata": {},
     "output_type": "execute_result"
    }
   ],
   "source": [
    "\"\"\"D = np.diag(degree_vector(AdjM))\n",
    "D_nsqrt = np.diag(np.power(degree_vector(AdjM), -0.5))\n",
    "B = D_nsqrt @ IncMt\n",
    "L_un_inc = IncMt @ IncMt.conj().T\n",
    "L_un = np.diag(degree_vector(AdjM)) - AdjM\n",
    "L_sym = D_nsqrt @ L_un @ D_nsqrt\n",
    "L_sym_inc = B @ B.T\n",
    "print(B)\n",
    "print(0.5 * L_sym_inc)\"\"\""
   ]
  },
  {
   "cell_type": "code",
   "execution_count": 115,
   "id": "1f041ccc-8d53-41bb-8275-7168458e005e",
   "metadata": {
    "tags": []
   },
   "outputs": [
    {
     "data": {
      "text/plain": [
       "'L, d_M, V_M, d_L, V_L = graph_laplacian_eigs_sym(AdjM=AdjM, N=N, evs=evs)\\nD_nsqrt = np.diag(np.power(degree_vector(AdjM), -0.5))\\nB = D_nsqrt @ IncMt / np.sqrt(2.)\\nL1 = B @ B.conj().T'"
      ]
     },
     "execution_count": 115,
     "metadata": {},
     "output_type": "execute_result"
    }
   ],
   "source": [
    "\"\"\"L, d_M, V_M, d_L, V_L = graph_laplacian_eigs_sym(AdjM=AdjM, N=N, evs=evs)\n",
    "D_nsqrt = np.diag(np.power(degree_vector(AdjM), -0.5))\n",
    "B = D_nsqrt @ IncMt / np.sqrt(2.)\n",
    "L1 = B @ B.conj().T\"\"\""
   ]
  },
  {
   "cell_type": "code",
   "execution_count": 116,
   "id": "bcdc9a3d-b351-482a-9487-feb9c2539924",
   "metadata": {
    "tags": []
   },
   "outputs": [
    {
     "data": {
      "text/plain": [
       "'print(L)\\nprint(L1)'"
      ]
     },
     "execution_count": 116,
     "metadata": {},
     "output_type": "execute_result"
    }
   ],
   "source": [
    "\"\"\"print(L)\n",
    "print(L1)\"\"\""
   ]
  },
  {
   "cell_type": "code",
   "execution_count": 117,
   "id": "f7df0357-8704-4c37-9883-37d6cabeeb8c",
   "metadata": {
    "tags": []
   },
   "outputs": [],
   "source": [
    "#L, d_M, V_M, d_L, V_L = graph_laplacian_eigs(AdjM=AdjM, N=N, evs=evs)\n",
    "#L_sym, d_M_sym, V_M_sym, d_L_sym, V_L_sym = graph_laplacian_eigs_sym(AdjM=AdjM, N=N, evs=evs)\n",
    "#L, d_M, V_M, d_L, V_L = graph_laplacian_eigs_sym(AdjM=AdjM, N=N, evs=evs)\n",
    "#D_nsqrt = np.diag(np.power(degree_vector(AdjM), -0.5))\n",
    "#L = D_nsqrt @ IncMt @ IncMt.T @ D_nsqrt\n",
    "\n",
    "# calculate the B matrix\n",
>>>>>>> refs/remotes/origin/main
    "D_nsqrt = np.diag(np.power(degree_vector(AdjM), -0.5))\n",
    "B = D_nsqrt @ IncMt / np.sqrt(2.)\n",
    "\n",
    "# calculate ground truth eigen value and eigen vector\n",
    "L_B = B @ B.T\n",
    "d_L_B, V_L_B = la.eig(L_B)\n",
    "\n",
<<<<<<< HEAD
    "\n",
    "# define propagation speed\n",
    "c = np.sqrt(2.) - 1.e-6\n",
    "\n",
    "\n",
    "drift = c * np.concatenate((np.concatenate((np.zeros((B.shape[0],B.shape[0])), B),axis=1),np.concatenate((B.conj().T, np.zeros((B.shape[1],B.shape[1]))),axis=1)), axis=0)\n",
    "\n",
    "initial = np.random.rand(B.shape[0])\n",
    "\n",
    "u_B_0 = np.concatenate((initial,np.zeros(B.shape[1])))\n",
    "u_B = np.zeros((N, T))\n",
    "u_B[:,0] = u_B_0[:N]\n",
    "#u_B = np.zeros((N, T+1)) + np.imag(np.zeros((N, T+1)))\n",
    "hamiltonian_solver = Solver(static_hamiltonian=drift, validate = True)\n",
    "t_spans = []\n",
    "for i in range(1, T+1):\n",
    "    t_spans.append(np.array([0.,i]))\n",
    "sol = hamiltonian_solver.solve(\n",
    "t_span=t_spans, # time interval to integrate over \n",
    "y0=u_B_0, # initial state \n",
    "#t_eval=times, # points to integrate over\n",
    "#method='DOP853',\n",
    "#atol=1e-10,\n",
    "#rtol=1e-10\n",
    ")\n",
    "for i in range(0, T):\n",
    "    u_B[:,i] = sol[i].y[-1,:N]\n",
    "\"\"\"\n",
    "    \n",
    "\n",
    "#u_B = generate_time_sequece(L_B, num_node, T, v=0)\n",
    "#all_states = sol.y\n",
    "#u_B = np.rot90(np.array(all_states)[:,:N])\n",
    "#for i in range(1, T+1):\n",
    "#    t_span = np.array([0., i])\n",
    "#    u_B[:,i] = hamiltonian_solver.solve(t_span=t_span, y0=u_B_0).y[-1,:N]\n",
    "\"\"\"# form static Hamiltonian matrix\n",
=======
    "# define propagation speed\n",
    "c = np.sqrt(2.) - 1.e-6\n",
    "\n",
    "# form static Hamiltonian matrix\n",
>>>>>>> refs/remotes/origin/main
    "H_static = c * np.concatenate((np.concatenate((np.zeros((B.shape[0],B.shape[0])), B),axis=1),np.concatenate((B.conj().T, np.zeros((B.shape[1],B.shape[1]))),axis=1)), axis=0)\n",
    "\n",
    "hamiltonian = qiskit_dynamics.models.HamiltonianModel(static_operator=H_static)\n",
    "\n",
    "# define Schrodinger equation\n",
<<<<<<< HEAD
    "solver = Solver(static_hamiltonian = H_static, validate = True)\"\"\""
=======
    "solver = Solver(static_hamiltonian = H_static, validate = True)"
>>>>>>> refs/remotes/origin/main
   ]
  },
  {
   "cell_type": "code",
<<<<<<< HEAD
   "execution_count": 11,
=======
   "execution_count": 118,
   "id": "a748fa0b-163b-49b1-b3db-0b91c576d4d0",
   "metadata": {
    "tags": []
   },
   "outputs": [
    {
     "name": "stderr",
     "output_type": "stream",
     "text": [
      "/var/folders/8v/z8r5x7y96zg82dknc14c73y40000gn/T/ipykernel_47782/366676895.py:8: ComplexWarning: Casting complex values to real discards the imaginary part\n",
      "  u_B[:,i] = solver.solve(t_span=t_span, y0=u_B_0).y[-1,:N]\n"
     ]
    },
    {
     "data": {
      "text/plain": [
       "'\\n# initialize time series\\nu = np.zeros((N, T + 1))\\n# initialize u(0) and set u(1)=u(0)\\n#for ii in range(N):\\n#    u[ii, 0] = np.random.rand(1, 1)\\n#    u[ii, 1] = u[ii, 0] + v * np.random.rand(1, 1)\\n# df_u = pd.DataFrame(u[:, 0], columns=[\"u\"])\\n# df_u.to_csv(\"u_init.csv\", index=False)\\nu[:,0] = initial\\nu[:,1] = initial\\nc = np.sqrt(2.) - 1.e-6\\n\\n# generate time sequence for each node\\nfor tt in range(1, T):\\n    # for kk in range(N):\\n    #     tmp = 0\\n    #     for ll in range(N):\\n    #         if L[kk, ll]:\\n    #             tmp += L[kk, ll] * u[ll, tt]\\n    #     u[kk, tt+1] = 2.*u[kk, tt] - u[kk, tt-1] + c**2*tmp\\n    u[:, tt + 1] = 2. * u[:, tt] - u[:, tt - 1] + c ** 2 * ( L_B) @ u[:, tt]'"
      ]
     },
     "execution_count": 118,
     "metadata": {},
     "output_type": "execute_result"
    }
   ],
   "source": [
    "initial = np.random.rand(B.shape[0])\n",
    "u_B_0 = np.concatenate((initial,np.zeros(B.shape[1])))\n",
    "u_B = np.zeros((N, T+1))\n",
    "u_B[:,0] = u_B_0[:N]\n",
    "\n",
    "for i in range(1, T+1):\n",
    "    t_span = np.array([0., i])\n",
    "    u_B[:,i] = solver.solve(t_span=t_span, y0=u_B_0).y[-1,:N]\n",
    "    \n",
    "\"\"\"\n",
    "# initialize time series\n",
    "u = np.zeros((N, T + 1))\n",
    "# initialize u(0) and set u(1)=u(0)\n",
    "#for ii in range(N):\n",
    "#    u[ii, 0] = np.random.rand(1, 1)\n",
    "#    u[ii, 1] = u[ii, 0] + v * np.random.rand(1, 1)\n",
    "# df_u = pd.DataFrame(u[:, 0], columns=[\"u\"])\n",
    "# df_u.to_csv(\"u_init.csv\", index=False)\n",
    "u[:,0] = initial\n",
    "u[:,1] = initial\n",
    "c = np.sqrt(2.) - 1.e-6\n",
    "\n",
    "# generate time sequence for each node\n",
    "for tt in range(1, T):\n",
    "    # for kk in range(N):\n",
    "    #     tmp = 0\n",
    "    #     for ll in range(N):\n",
    "    #         if L[kk, ll]:\n",
    "    #             tmp += L[kk, ll] * u[ll, tt]\n",
    "    #     u[kk, tt+1] = 2.*u[kk, tt] - u[kk, tt-1] + c**2*tmp\n",
    "    u[:, tt + 1] = 2. * u[:, tt] - u[:, tt - 1] + c ** 2 * ( L_B) @ u[:, tt]\"\"\""
   ]
  },
  {
   "cell_type": "code",
   "execution_count": 119,
   "id": "b2d33071-b336-4fa7-ac58-e768b26cce5b",
   "metadata": {
    "tags": []
   },
   "outputs": [
    {
     "data": {
      "text/plain": [
       "'print(u[:,-1])\\nprint(u_B[:,-2])'"
      ]
     },
     "execution_count": 119,
     "metadata": {},
     "output_type": "execute_result"
    }
   ],
   "source": [
    "\"\"\"print(u[:,-1])\n",
    "print(u_B[:,-2])\"\"\""
   ]
  },
  {
   "cell_type": "code",
   "execution_count": 120,
   "id": "49491a7a",
   "metadata": {},
   "outputs": [
    {
     "data": {
      "text/plain": [
       "array([ 3.81919975e-01,  7.30352596e-01,  4.23908123e-02,  8.27567124e-01,\n",
       "        6.69562665e-01,  3.62782210e-01,  7.13287119e-01,  9.18387947e-01,\n",
       "        1.03428432e+00,  2.78395527e-01,  3.44708564e-01,  3.26383382e-01,\n",
       "        6.88006654e-01,  5.94885095e-01,  4.27266585e-01,  3.83075804e-01,\n",
       "        7.39245312e-02,  1.40545038e-01,  6.25925058e-01, -8.07326811e-04,\n",
       "        2.68682821e-01,  2.60958426e-01,  7.01131491e-01,  4.26324492e-01,\n",
       "        2.42991365e-01,  1.35818470e+00,  3.39667680e-01,  6.23053682e-01,\n",
       "        7.28602675e-01,  6.36079831e-01,  5.64429195e-01,  3.34679843e-01,\n",
       "        5.29005455e-01,  6.76769686e-01,  7.39542539e-01,  3.00326602e-01,\n",
       "        3.62502248e-01,  5.35733422e-01,  2.00323427e-01,  2.77843255e-01,\n",
       "        7.74161706e-01,  1.74851821e-01,  3.84444266e-01,  4.37961104e-01,\n",
       "        3.14399822e-01,  3.22247415e-01,  3.84960217e-01,  2.74366015e-01,\n",
       "        3.48311302e-01,  3.86299866e-01])"
      ]
     },
     "execution_count": 120,
     "metadata": {},
     "output_type": "execute_result"
    }
   ],
   "source": [
    "u_B[:,36]"
   ]
  },
  {
   "cell_type": "code",
   "execution_count": 121,
   "id": "e155d40f-8837-4abc-bb05-3b5a1a392375",
   "metadata": {
    "tags": []
   },
   "outputs": [
    {
     "data": {
      "text/plain": [
       "'def power_iteration(A, num_iterations: int):\\n    # Ideally choose a random vector\\n    # To decrease the chance that our vector\\n    # Is orthogonal to the eigenvector\\n    b_k = np.random.rand(A.shape[1])\\n    for _ in range(num_iterations):\\n        # calculate the matrix-by-vector product Ab\\n        b_k1 = np.dot(A, b_k)\\n        # calculate the norm\\n        b_k1_norm = np.linalg.norm(b_k1)\\n        # re normalize the vector\\n        b_k = b_k1 / b_k1_norm\\n    return b_k\\n\\ndef svd_power(X, num_itr):\\n    A = X.T @ X\\n    N = A.shape[0]\\n    mu = np.zeros(N)\\n    V = np.zeros_like(A)\\n    \\n    for i in range(0, N):\\n        bk = power_iteration(A, num_itr)\\n        bk = bk.reshape(bk.shape[0],1)\\n        muk = ((bk.T @ A @ bk) / (bk.T @ bk)).squeeze()\\n        mu[i] = muk\\n        #print(muk)\\n        tempA = A-muk*np.eye(N)\\n        #print(tempA)\\n        b = tempA[:, 0].copy()\\n        vk = np.linalg.lstsq(tempA[:, 1:], -b)[0]\\n        vk = np.r_[1, vk]\\n        #print(vk)\\n        vk /= np.linalg.norm(vk)\\n        #vk /= np.sign((A@vk)[i]/vk[i])\\n        V[:,i] = vk\\n        vk = vk.reshape(N,1)\\n        A = A - vk @ vk.T @ A @ vk @ vk.T\\n    return mu, V.T'"
      ]
     },
     "execution_count": 121,
     "metadata": {},
     "output_type": "execute_result"
    }
   ],
   "source": [
    "\"\"\"def power_iteration(A, num_iterations: int):\n",
    "    # Ideally choose a random vector\n",
    "    # To decrease the chance that our vector\n",
    "    # Is orthogonal to the eigenvector\n",
    "    b_k = np.random.rand(A.shape[1])\n",
    "    for _ in range(num_iterations):\n",
    "        # calculate the matrix-by-vector product Ab\n",
    "        b_k1 = np.dot(A, b_k)\n",
    "        # calculate the norm\n",
    "        b_k1_norm = np.linalg.norm(b_k1)\n",
    "        # re normalize the vector\n",
    "        b_k = b_k1 / b_k1_norm\n",
    "    return b_k\n",
    "\n",
    "def svd_power(X, num_itr):\n",
    "    A = X.T @ X\n",
    "    N = A.shape[0]\n",
    "    mu = np.zeros(N)\n",
    "    V = np.zeros_like(A)\n",
    "    \n",
    "    for i in range(0, N):\n",
    "        bk = power_iteration(A, num_itr)\n",
    "        bk = bk.reshape(bk.shape[0],1)\n",
    "        muk = ((bk.T @ A @ bk) / (bk.T @ bk)).squeeze()\n",
    "        mu[i] = muk\n",
    "        #print(muk)\n",
    "        tempA = A-muk*np.eye(N)\n",
    "        #print(tempA)\n",
    "        b = tempA[:, 0].copy()\n",
    "        vk = np.linalg.lstsq(tempA[:, 1:], -b)[0]\n",
    "        vk = np.r_[1, vk]\n",
    "        #print(vk)\n",
    "        vk /= np.linalg.norm(vk)\n",
    "        #vk /= np.sign((A@vk)[i]/vk[i])\n",
    "        V[:,i] = vk\n",
    "        vk = vk.reshape(N,1)\n",
    "        A = A - vk @ vk.T @ A @ vk @ vk.T\n",
    "    return mu, V.T\"\"\""
   ]
  },
  {
   "cell_type": "code",
   "execution_count": 122,
   "id": "9201820d-1c5c-4b9a-bb80-d10168596a30",
   "metadata": {
    "tags": []
   },
   "outputs": [
    {
     "data": {
      "text/plain": [
       "'u = u_B\\n(N, T) = u.shape\\nNcols = T + 1 - Nrows\\n\\n# generate input matrices\\nXX = np.zeros((Nrows, Ncols))\\n\\ni=0\\nfor jj in range(Nrows):\\n    XX[jj, :] = u[i, jj:jj + Ncols]\\n\\nX = XX[:, :-1]\\nY = XX[:, 1:]\\nU1, s1, Vt1 = sp.linalg.svd(X, full_matrices=False)\\n#print(U1.shape)\\n#print()\\ns, Vt = svd_power(X=X, num_itr=300) # the cols of V are the corresponding eigenvectors, since XTX=XXT, we havce V=U.T\\nU = X @ la.inv(Vt) @ np.diag(1/s)\\ns[s<0] = 0\\ns = np.sqrt(s)\\n\\ns = s[s > 1e-5]\\nr = len(s)\\nU = U[:, :r]\\nU1 = U1[:, :r]\\nVt = Vt[:r, :]\\nVt1 = Vt1[:r, :]\\nS_inv = sp.diag(1/s)\\nA = U.T @ Y @ Vt.T @ S_inv'"
      ]
     },
     "execution_count": 122,
     "metadata": {},
     "output_type": "execute_result"
    }
   ],
   "source": [
    "\"\"\"u = u_B\n",
    "(N, T) = u.shape\n",
    "Ncols = T + 1 - Nrows\n",
    "\n",
    "# generate input matrices\n",
    "XX = np.zeros((Nrows, Ncols))\n",
    "\n",
    "i=0\n",
    "for jj in range(Nrows):\n",
    "    XX[jj, :] = u[i, jj:jj + Ncols]\n",
    "\n",
    "X = XX[:, :-1]\n",
    "Y = XX[:, 1:]\n",
    "U1, s1, Vt1 = sp.linalg.svd(X, full_matrices=False)\n",
    "#print(U1.shape)\n",
    "#print()\n",
    "s, Vt = svd_power(X=X, num_itr=300) # the cols of V are the corresponding eigenvectors, since XTX=XXT, we havce V=U.T\n",
    "U = X @ la.inv(Vt) @ np.diag(1/s)\n",
    "s[s<0] = 0\n",
    "s = np.sqrt(s)\n",
    "\n",
    "s = s[s > 1e-5]\n",
    "r = len(s)\n",
    "U = U[:, :r]\n",
    "U1 = U1[:, :r]\n",
    "Vt = Vt[:r, :]\n",
    "Vt1 = Vt1[:r, :]\n",
    "S_inv = sp.diag(1/s)\n",
    "A = U.T @ Y @ Vt.T @ S_inv\"\"\""
   ]
  },
  {
   "cell_type": "code",
   "execution_count": 123,
>>>>>>> refs/remotes/origin/main
   "id": "a891c317-54f8-4610-9a95-a5f3ed9fd1b4",
   "metadata": {
    "tags": []
   },
   "outputs": [
    {
     "name": "stderr",
     "output_type": "stream",
     "text": [
<<<<<<< HEAD
      "/var/folders/8v/z8r5x7y96zg82dknc14c73y40000gn/T/ipykernel_29444/3452187023.py:30: FutureWarning: `rcond` parameter will change to the default of machine precision times ``max(M, N)`` where M and N are the input matrix dimensions.\n",
      "To use the future default and silence this warning we advise to pass `rcond=None`, to keep using the old, explicitly pass `rcond=-1`.\n",
      "  vk = np.linalg.lstsq(tempA[:, 1:], -b)[0]\n",
      "/var/folders/8v/z8r5x7y96zg82dknc14c73y40000gn/T/ipykernel_29444/3452187023.py:30: FutureWarning: `rcond` parameter will change to the default of machine precision times ``max(M, N)`` where M and N are the input matrix dimensions.\n",
      "To use the future default and silence this warning we advise to pass `rcond=None`, to keep using the old, explicitly pass `rcond=-1`.\n",
      "  vk = np.linalg.lstsq(tempA[:, 1:], -b)[0]\n"
     ]
    },
    {
     "ename": "LinAlgError",
     "evalue": "SVD did not converge in Linear Least Squares",
     "output_type": "error",
     "traceback": [
      "\u001b[0;31m---------------------------------------------------------------------------\u001b[0m",
      "\u001b[0;31mLinAlgError\u001b[0m                               Traceback (most recent call last)",
      "\u001b[0;32m/var/folders/8v/z8r5x7y96zg82dknc14c73y40000gn/T/ipykernel_29444/3737607312.py\u001b[0m in \u001b[0;36m<module>\u001b[0;34m\u001b[0m\n\u001b[1;32m      4\u001b[0m \u001b[0;31m#u = wave_dyn(T=T, N=N, solver=solver, B=B)\u001b[0m\u001b[0;34m\u001b[0m\u001b[0;34m\u001b[0m\u001b[0m\n\u001b[1;32m      5\u001b[0m \u001b[0;34m\u001b[0m\u001b[0m\n\u001b[0;32m----> 6\u001b[0;31m \u001b[0mdmdcoeff\u001b[0m\u001b[0;34m,\u001b[0m \u001b[0mdominant_freqs\u001b[0m \u001b[0;34m=\u001b[0m \u001b[0mgraph_clustering_static\u001b[0m\u001b[0;34m(\u001b[0m\u001b[0mu\u001b[0m\u001b[0;34m=\u001b[0m\u001b[0mu_B\u001b[0m\u001b[0;34m,\u001b[0m \u001b[0md_M\u001b[0m\u001b[0;34m=\u001b[0m\u001b[0md_L\u001b[0m\u001b[0;34m,\u001b[0m \u001b[0mv_inds\u001b[0m\u001b[0;34m=\u001b[0m\u001b[0mv_inds\u001b[0m\u001b[0;34m,\u001b[0m \u001b[0mNrows\u001b[0m\u001b[0;34m=\u001b[0m\u001b[0mNrows\u001b[0m\u001b[0;34m,\u001b[0m \u001b[0mcase\u001b[0m\u001b[0;34m=\u001b[0m\u001b[0mcase\u001b[0m\u001b[0;34m,\u001b[0m \u001b[0mbase\u001b[0m\u001b[0;34m=\u001b[0m\u001b[0mbase\u001b[0m\u001b[0;34m,\u001b[0m \u001b[0mnode_num\u001b[0m\u001b[0;34m=\u001b[0m\u001b[0;34m[\u001b[0m\u001b[0;36m2\u001b[0m\u001b[0;34m]\u001b[0m\u001b[0;34m)\u001b[0m\u001b[0;34m\u001b[0m\u001b[0;34m\u001b[0m\u001b[0m\n\u001b[0m",
      "\u001b[0;32m/var/folders/8v/z8r5x7y96zg82dknc14c73y40000gn/T/ipykernel_29444/3452187023.py\u001b[0m in \u001b[0;36mgraph_clustering_static\u001b[0;34m(u, d_M, v_inds, Nrows, case, base, node_num)\u001b[0m\n\u001b[1;32m    225\u001b[0m         \u001b[0mX\u001b[0m \u001b[0;34m=\u001b[0m \u001b[0mXX\u001b[0m\u001b[0;34m[\u001b[0m\u001b[0;34m:\u001b[0m\u001b[0;34m,\u001b[0m \u001b[0;34m:\u001b[0m\u001b[0;34m-\u001b[0m\u001b[0;36m1\u001b[0m\u001b[0;34m]\u001b[0m\u001b[0;34m\u001b[0m\u001b[0;34m\u001b[0m\u001b[0m\n\u001b[1;32m    226\u001b[0m         \u001b[0mY\u001b[0m \u001b[0;34m=\u001b[0m \u001b[0mXX\u001b[0m\u001b[0;34m[\u001b[0m\u001b[0;34m:\u001b[0m\u001b[0;34m,\u001b[0m \u001b[0;36m1\u001b[0m\u001b[0;34m:\u001b[0m\u001b[0;34m]\u001b[0m\u001b[0;34m\u001b[0m\u001b[0;34m\u001b[0m\u001b[0m\n\u001b[0;32m--> 227\u001b[0;31m         \u001b[0;34m(\u001b[0m\u001b[0md\u001b[0m\u001b[0;34m,\u001b[0m \u001b[0mV\u001b[0m\u001b[0;34m)\u001b[0m \u001b[0;34m=\u001b[0m \u001b[0mdmd\u001b[0m\u001b[0;34m(\u001b[0m\u001b[0mX\u001b[0m\u001b[0;34m,\u001b[0m \u001b[0mY\u001b[0m\u001b[0;34m,\u001b[0m \u001b[0msvThresh\u001b[0m\u001b[0;34m=\u001b[0m\u001b[0;36m1.e-5\u001b[0m\u001b[0;34m,\u001b[0m \u001b[0mnum_itr\u001b[0m\u001b[0;34m=\u001b[0m\u001b[0;36m2000\u001b[0m\u001b[0;34m)\u001b[0m\u001b[0;34m\u001b[0m\u001b[0;34m\u001b[0m\u001b[0m\n\u001b[0m\u001b[1;32m    228\u001b[0m         \u001b[0mfreq\u001b[0m \u001b[0;34m=\u001b[0m \u001b[0mnp\u001b[0m\u001b[0;34m.\u001b[0m\u001b[0mangle\u001b[0m\u001b[0;34m(\u001b[0m\u001b[0md\u001b[0m\u001b[0;34m[\u001b[0m\u001b[0;34m:\u001b[0m\u001b[0;36m5\u001b[0m\u001b[0;34m]\u001b[0m\u001b[0;34m)\u001b[0m\u001b[0;34m\u001b[0m\u001b[0;34m\u001b[0m\u001b[0m\n\u001b[1;32m    229\u001b[0m         \u001b[0;31m# print(f\"Node {i} DMD Freq: {freq}\")\u001b[0m\u001b[0;34m\u001b[0m\u001b[0;34m\u001b[0m\u001b[0m\n",
      "\u001b[0;32m/var/folders/8v/z8r5x7y96zg82dknc14c73y40000gn/T/ipykernel_29444/3452187023.py\u001b[0m in \u001b[0;36mdmd\u001b[0;34m(X, Y, num_itr, mode, svThresh, which)\u001b[0m\n\u001b[1;32m     94\u001b[0m     '''\n\u001b[1;32m     95\u001b[0m \u001b[0;34m\u001b[0m\u001b[0m\n\u001b[0;32m---> 96\u001b[0;31m     \u001b[0ms\u001b[0m\u001b[0;34m,\u001b[0m \u001b[0mVt\u001b[0m \u001b[0;34m=\u001b[0m \u001b[0msvd_power\u001b[0m\u001b[0;34m(\u001b[0m\u001b[0mX\u001b[0m\u001b[0;34m=\u001b[0m\u001b[0mX\u001b[0m\u001b[0;34m,\u001b[0m \u001b[0mnum_itr\u001b[0m\u001b[0;34m=\u001b[0m\u001b[0mnum_itr\u001b[0m\u001b[0;34m)\u001b[0m \u001b[0;31m# the cols of V are the corresponding eigenvectors, since XTX=XXT, we havce V=U.T\u001b[0m\u001b[0;34m\u001b[0m\u001b[0;34m\u001b[0m\u001b[0m\n\u001b[0m\u001b[1;32m     97\u001b[0m     \u001b[0;31m#_, s, Vt = np.linalg.svd(X, full_matrices=True)\u001b[0m\u001b[0;34m\u001b[0m\u001b[0;34m\u001b[0m\u001b[0m\n\u001b[1;32m     98\u001b[0m     \u001b[0;31m#s = np.square(s)\u001b[0m\u001b[0;34m\u001b[0m\u001b[0;34m\u001b[0m\u001b[0m\n",
      "\u001b[0;32m/var/folders/8v/z8r5x7y96zg82dknc14c73y40000gn/T/ipykernel_29444/3452187023.py\u001b[0m in \u001b[0;36msvd_power\u001b[0;34m(X, num_itr)\u001b[0m\n\u001b[1;32m     28\u001b[0m         \u001b[0;31m#print(tempA)\u001b[0m\u001b[0;34m\u001b[0m\u001b[0;34m\u001b[0m\u001b[0m\n\u001b[1;32m     29\u001b[0m         \u001b[0mb\u001b[0m \u001b[0;34m=\u001b[0m \u001b[0mtempA\u001b[0m\u001b[0;34m[\u001b[0m\u001b[0;34m:\u001b[0m\u001b[0;34m,\u001b[0m \u001b[0;36m0\u001b[0m\u001b[0;34m]\u001b[0m\u001b[0;34m.\u001b[0m\u001b[0mcopy\u001b[0m\u001b[0;34m(\u001b[0m\u001b[0;34m)\u001b[0m\u001b[0;34m\u001b[0m\u001b[0;34m\u001b[0m\u001b[0m\n\u001b[0;32m---> 30\u001b[0;31m         \u001b[0mvk\u001b[0m \u001b[0;34m=\u001b[0m \u001b[0mnp\u001b[0m\u001b[0;34m.\u001b[0m\u001b[0mlinalg\u001b[0m\u001b[0;34m.\u001b[0m\u001b[0mlstsq\u001b[0m\u001b[0;34m(\u001b[0m\u001b[0mtempA\u001b[0m\u001b[0;34m[\u001b[0m\u001b[0;34m:\u001b[0m\u001b[0;34m,\u001b[0m \u001b[0;36m1\u001b[0m\u001b[0;34m:\u001b[0m\u001b[0;34m]\u001b[0m\u001b[0;34m,\u001b[0m \u001b[0;34m-\u001b[0m\u001b[0mb\u001b[0m\u001b[0;34m)\u001b[0m\u001b[0;34m[\u001b[0m\u001b[0;36m0\u001b[0m\u001b[0;34m]\u001b[0m\u001b[0;34m\u001b[0m\u001b[0;34m\u001b[0m\u001b[0m\n\u001b[0m\u001b[1;32m     31\u001b[0m         \u001b[0mvk\u001b[0m \u001b[0;34m=\u001b[0m \u001b[0mnp\u001b[0m\u001b[0;34m.\u001b[0m\u001b[0mr_\u001b[0m\u001b[0;34m[\u001b[0m\u001b[0;36m1\u001b[0m\u001b[0;34m,\u001b[0m \u001b[0mvk\u001b[0m\u001b[0;34m]\u001b[0m\u001b[0;34m\u001b[0m\u001b[0;34m\u001b[0m\u001b[0m\n\u001b[1;32m     32\u001b[0m         \u001b[0;31m#print(vk)\u001b[0m\u001b[0;34m\u001b[0m\u001b[0;34m\u001b[0m\u001b[0m\n",
      "\u001b[0;32m/opt/anaconda3/lib/python3.9/site-packages/numpy/linalg/linalg.py\u001b[0m in \u001b[0;36mlstsq\u001b[0;34m(a, b, rcond)\u001b[0m\n\u001b[1;32m   2324\u001b[0m         \u001b[0;31m# lapack can't handle n_rhs = 0 - so allocate the array one larger in that axis\u001b[0m\u001b[0;34m\u001b[0m\u001b[0;34m\u001b[0m\u001b[0m\n\u001b[1;32m   2325\u001b[0m         \u001b[0mb\u001b[0m \u001b[0;34m=\u001b[0m \u001b[0mzeros\u001b[0m\u001b[0;34m(\u001b[0m\u001b[0mb\u001b[0m\u001b[0;34m.\u001b[0m\u001b[0mshape\u001b[0m\u001b[0;34m[\u001b[0m\u001b[0;34m:\u001b[0m\u001b[0;34m-\u001b[0m\u001b[0;36m2\u001b[0m\u001b[0;34m]\u001b[0m \u001b[0;34m+\u001b[0m \u001b[0;34m(\u001b[0m\u001b[0mm\u001b[0m\u001b[0;34m,\u001b[0m \u001b[0mn_rhs\u001b[0m \u001b[0;34m+\u001b[0m \u001b[0;36m1\u001b[0m\u001b[0;34m)\u001b[0m\u001b[0;34m,\u001b[0m \u001b[0mdtype\u001b[0m\u001b[0;34m=\u001b[0m\u001b[0mb\u001b[0m\u001b[0;34m.\u001b[0m\u001b[0mdtype\u001b[0m\u001b[0;34m)\u001b[0m\u001b[0;34m\u001b[0m\u001b[0;34m\u001b[0m\u001b[0m\n\u001b[0;32m-> 2326\u001b[0;31m     \u001b[0mx\u001b[0m\u001b[0;34m,\u001b[0m \u001b[0mresids\u001b[0m\u001b[0;34m,\u001b[0m \u001b[0mrank\u001b[0m\u001b[0;34m,\u001b[0m \u001b[0ms\u001b[0m \u001b[0;34m=\u001b[0m \u001b[0mgufunc\u001b[0m\u001b[0;34m(\u001b[0m\u001b[0ma\u001b[0m\u001b[0;34m,\u001b[0m \u001b[0mb\u001b[0m\u001b[0;34m,\u001b[0m \u001b[0mrcond\u001b[0m\u001b[0;34m,\u001b[0m \u001b[0msignature\u001b[0m\u001b[0;34m=\u001b[0m\u001b[0msignature\u001b[0m\u001b[0;34m,\u001b[0m \u001b[0mextobj\u001b[0m\u001b[0;34m=\u001b[0m\u001b[0mextobj\u001b[0m\u001b[0;34m)\u001b[0m\u001b[0;34m\u001b[0m\u001b[0;34m\u001b[0m\u001b[0m\n\u001b[0m\u001b[1;32m   2327\u001b[0m     \u001b[0;32mif\u001b[0m \u001b[0mm\u001b[0m \u001b[0;34m==\u001b[0m \u001b[0;36m0\u001b[0m\u001b[0;34m:\u001b[0m\u001b[0;34m\u001b[0m\u001b[0;34m\u001b[0m\u001b[0m\n\u001b[1;32m   2328\u001b[0m         \u001b[0mx\u001b[0m\u001b[0;34m[\u001b[0m\u001b[0;34m...\u001b[0m\u001b[0;34m]\u001b[0m \u001b[0;34m=\u001b[0m \u001b[0;36m0\u001b[0m\u001b[0;34m\u001b[0m\u001b[0;34m\u001b[0m\u001b[0m\n",
      "\u001b[0;32m/opt/anaconda3/lib/python3.9/site-packages/numpy/linalg/linalg.py\u001b[0m in \u001b[0;36m_raise_linalgerror_lstsq\u001b[0;34m(err, flag)\u001b[0m\n\u001b[1;32m    122\u001b[0m \u001b[0;34m\u001b[0m\u001b[0m\n\u001b[1;32m    123\u001b[0m \u001b[0;32mdef\u001b[0m \u001b[0m_raise_linalgerror_lstsq\u001b[0m\u001b[0;34m(\u001b[0m\u001b[0merr\u001b[0m\u001b[0;34m,\u001b[0m \u001b[0mflag\u001b[0m\u001b[0;34m)\u001b[0m\u001b[0;34m:\u001b[0m\u001b[0;34m\u001b[0m\u001b[0;34m\u001b[0m\u001b[0m\n\u001b[0;32m--> 124\u001b[0;31m     \u001b[0;32mraise\u001b[0m \u001b[0mLinAlgError\u001b[0m\u001b[0;34m(\u001b[0m\u001b[0;34m\"SVD did not converge in Linear Least Squares\"\u001b[0m\u001b[0;34m)\u001b[0m\u001b[0;34m\u001b[0m\u001b[0;34m\u001b[0m\u001b[0m\n\u001b[0m\u001b[1;32m    125\u001b[0m \u001b[0;34m\u001b[0m\u001b[0m\n\u001b[1;32m    126\u001b[0m \u001b[0;32mdef\u001b[0m \u001b[0m_raise_linalgerror_qr\u001b[0m\u001b[0;34m(\u001b[0m\u001b[0merr\u001b[0m\u001b[0;34m,\u001b[0m \u001b[0mflag\u001b[0m\u001b[0;34m)\u001b[0m\u001b[0;34m:\u001b[0m\u001b[0;34m\u001b[0m\u001b[0;34m\u001b[0m\u001b[0m\n",
      "\u001b[0;31mLinAlgError\u001b[0m: SVD did not converge in Linear Least Squares"
     ]
=======
      "/var/folders/8v/z8r5x7y96zg82dknc14c73y40000gn/T/ipykernel_47782/2989999475.py:30: FutureWarning: `rcond` parameter will change to the default of machine precision times ``max(M, N)`` where M and N are the input matrix dimensions.\n",
      "To use the future default and silence this warning we advise to pass `rcond=None`, to keep using the old, explicitly pass `rcond=-1`.\n",
      "  vk = np.linalg.lstsq(tempA[:, 1:], -b)[0]\n",
      "/var/folders/8v/z8r5x7y96zg82dknc14c73y40000gn/T/ipykernel_47782/2989999475.py:30: FutureWarning: `rcond` parameter will change to the default of machine precision times ``max(M, N)`` where M and N are the input matrix dimensions.\n",
      "To use the future default and silence this warning we advise to pass `rcond=None`, to keep using the old, explicitly pass `rcond=-1`.\n",
      "  vk = np.linalg.lstsq(tempA[:, 1:], -b)[0]\n"
     ]
>>>>>>> refs/remotes/origin/main
    }
   ],
   "source": [
    "#freq = np.angle(d_M[:3])\n",
    "#print(f\"Actual Freq 2: {freq}\")\n",
    "\n",
    "#u = wave_dyn(T=T, N=N, solver=solver, B=B)\n",
    "\n",
<<<<<<< HEAD
    "dmdcoeff, dominant_freqs = graph_clustering_static(u=u_B, d_M=d_L, v_inds=v_inds, Nrows=Nrows, case=case, base=base, node_num=[2])"
=======
    "dmdcoeff, dominant_freqs = graph_clustering_static(u=u_B, d_L=d_L_B, v_inds=v_inds, Nrows=Nrows, case=case, base=base, node_num=[2])"
>>>>>>> refs/remotes/origin/main
   ]
  },
  {
   "cell_type": "code",
<<<<<<< HEAD
   "execution_count": null,
   "id": "3a5f98cb-44c8-4fbe-bbaa-40705f430fbe",
   "metadata": {},
   "outputs": [],
   "source": [
    "accuracy = np.maximum(np.sum(np.sign(dmdcoeff[:,0]) == np.sign(V_L[:,1])), np.sum(np.sign(dmdcoeff[:,0]) == -np.sign(V_L[:,1])))/N * 100."
=======
   "execution_count": 124,
   "id": "b563b364-8e58-4795-a17b-f4c75a0f89cc",
   "metadata": {
    "tags": []
   },
   "outputs": [],
   "source": [
    "accuracy = np.minimum(np.sum(np.sign(dmdcoeff[:,0]) == np.sign(V_L_B[:,1])), np.sum(np.sign(dmdcoeff[:,0]) == np.sign(V_L_B[:,1])))/N * 100."
>>>>>>> refs/remotes/origin/main
   ]
  },
  {
   "cell_type": "code",
<<<<<<< HEAD
   "execution_count": null,
   "id": "c1d10ecf",
   "metadata": {},
   "outputs": [
    {
     "name": "stderr",
     "output_type": "stream",
     "text": [
      "/opt/anaconda3/lib/python3.9/site-packages/matplotlib/cbook/__init__.py:1333: ComplexWarning: Casting complex values to real discards the imaginary part\n",
      "  return np.asarray(x, float)\n"
     ]
    },
    {
     "data": {
      "text/plain": [
       "<matplotlib.legend.Legend at 0x7fd010786d60>"
      ]
     },
     "execution_count": 16,
=======
   "execution_count": 125,
   "id": "05535761-5812-4671-8fe8-2dd46a5c6485",
   "metadata": {
    "tags": []
   },
   "outputs": [
    {
     "data": {
      "text/plain": [
       "[<matplotlib.lines.Line2D at 0x7f7b728a4c10>]"
      ]
     },
     "execution_count": 125,
>>>>>>> refs/remotes/origin/main
     "metadata": {},
     "output_type": "execute_result"
    },
    {
     "data": {
<<<<<<< HEAD
      "image/png": "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",
=======
      "image/png": "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",
>>>>>>> refs/remotes/origin/main
      "text/plain": [
       "<Figure size 432x288 with 1 Axes>"
      ]
     },
     "metadata": {
      "needs_background": "light"
     },
     "output_type": "display_data"
    }
   ],
   "source": [
<<<<<<< HEAD
    "plt.plot(np.sign(dmdcoeff[:,0]), label='DMD',color='blue')\n",
    "plt.plot(np.sign(V_L[:,1]), label='Ground Truth',color='orange')\n",
    "plt.legend()"
=======
    "plt.plot(np.sign(dmdcoeff[:,0]), label='DMD')\n",
    "plt.plot(np.sign(V_L_B[:,1]), label='Ground Truth')\n",
    "#plt.legend()"
>>>>>>> refs/remotes/origin/main
   ]
  },
  {
   "cell_type": "code",
<<<<<<< HEAD
   "execution_count": null,
   "id": "72302b93",
   "metadata": {},
=======
   "execution_count": 126,
   "id": "409cfeba-b728-4bf3-bd9c-75b5bad8ba87",
   "metadata": {
    "tags": []
   },
>>>>>>> refs/remotes/origin/main
   "outputs": [
    {
     "data": {
      "text/plain": [
<<<<<<< HEAD
       "98.73417721518987"
      ]
     },
     "execution_count": 14,
=======
       "86.0"
      ]
     },
     "execution_count": 126,
>>>>>>> refs/remotes/origin/main
     "metadata": {},
     "output_type": "execute_result"
    }
   ],
   "source": [
    "accuracy"
   ]
  },
  {
   "cell_type": "code",
   "execution_count": null,
<<<<<<< HEAD
   "id": "d64ecccd",
   "metadata": {},
   "outputs": [
    {
     "name": "stderr",
     "output_type": "stream",
     "text": [
      "/opt/anaconda3/lib/python3.9/site-packages/matplotlib/cbook/__init__.py:1333: ComplexWarning: Casting complex values to real discards the imaginary part\n",
      "  return np.asarray(x, float)\n"
     ]
    },
    {
     "data": {
      "text/plain": [
       "<matplotlib.legend.Legend at 0x7fd0107ace80>"
      ]
     },
     "execution_count": 15,
     "metadata": {},
     "output_type": "execute_result"
    },
    {
     "data": {
      "image/png": "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",
      "text/plain": [
       "<Figure size 432x288 with 1 Axes>"
      ]
     },
     "metadata": {
      "needs_background": "light"
     },
     "output_type": "display_data"
    }
   ],
   "source": [
    "plt.plot(dmdcoeff[:,0], label='DMD',color='blue')\n",
    "plt.plot(V_L[:,1], label='Ground Truth',color='orange')\n",
    "plt.legend()"
   ]
=======
   "id": "3a5f98cb-44c8-4fbe-bbaa-40705f430fbe",
   "metadata": {},
   "outputs": [],
   "source": []
>>>>>>> refs/remotes/origin/main
  }
 ],
 "metadata": {
  "kernelspec": {
   "display_name": "Python 3 (ipykernel)",
   "language": "python",
   "name": "python3"
  },
  "language_info": {
   "codemirror_mode": {
    "name": "ipython",
    "version": 3
   },
   "file_extension": ".py",
   "mimetype": "text/x-python",
   "name": "python",
   "nbconvert_exporter": "python",
   "pygments_lexer": "ipython3",
   "version": "3.9.7"
  },
  "widgets": {
   "application/vnd.jupyter.widget-state+json": {
    "state": {},
    "version_major": 2,
    "version_minor": 0
   }
  }
 },
 "nbformat": 4,
 "nbformat_minor": 5
}
